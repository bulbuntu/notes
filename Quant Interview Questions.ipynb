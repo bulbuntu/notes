{
 "cells": [
  {
   "cell_type": "markdown",
   "metadata": {},
   "source": [
    "***Q1*** Put options with strikes 30 and 20 on the same underlying asset and with same maturity are trading for \\$6 and \\$4, respectively. Can you find an arbitrage?\n",
    "\n",
    "Say Spot=40\n",
    "\n",
    "S|L-30P|L-20P|T\n",
    "---|---|---|---\n",
    "40|-6|-4|-10\n",
    "30|-6|-4|-10\n",
    "35|-1|-4|-5\n",
    "20|4|-4|0\n",
    "15|9|1|10\n",
    "10|14|6|20\n",
    "0|24|16|40\n",
    "\n",
    "S|L-30P|S-20P|T\n",
    "---|---|---|---\n",
    "40|-6|+4|-2\n",
    "30|-6|+4|-2\n",
    "35|-1|+4|3\n",
    "20|4|+4|8\n",
    "15|9|-1|8\n",
    "10|14|-6|8\n",
    "0|24|-16|8\n",
    "\n",
    "\n",
    "Probability of below 20..  \n",
    "Avg pay off =10 say  \n",
    "4=10*p1\n",
    "p1=2/5=40% prob of below 20.\n",
    "\n",
    "Probability of below 30..  \n",
    "Avg pay off =15 say  \n",
    "6=15*p  \n",
    "p=6/15=2/5=40% prob of below 30.  \n",
    "\n",
    "\n",
    "This implies that prob of between 30 and 20 is 1.\n",
    "We should buy 30 put and sell 20 put.\n",
    "\n",
    "***Arbitrage always starts with a strategy of setting up a portfolio of zero value whose net payoff is >0***\n",
    "\n",
    "In this case long 2 30P and short 3 20P, will have a zero cost but will have a positive payoff.\n",
    "\n",
    "6a+4b=0\n",
    "\n",
    "for S>30 V=0                     =>0  \n",
    "for 30>S>20 V=(30-S)*a           =>this will always be positive as long as a>0(varies from 0 to 10a)  \n",
    "for 20>S>0  V=(30-S)*a+(20-S)*b  =>pay-off varies from (30a+20b to 10a)  \n",
    "Let's look at  \n",
    "$30a+20b=30a+20*\\left(-\\frac{3a}{2}\\right)=30a-30a=0$  \n",
    "\n",
    "So a portfolio can be set up by longing a 30P and shorting $\\frac{3}{2}$a 20P at zero cost with payoff varying from 0to10a.\n",
    "                                    "
   ]
  },
  {
   "cell_type": "markdown",
   "metadata": {},
   "source": [
    "***Q2*** The number $2^{29}$ has 9 digits, all different. Without computing $2^{29}$, find the missing digit.  \n",
    "\n",
    "\n",
    "This can be solved by the fact that if D(n) is sum of all digits in a k digit number n.  \n",
    "$D(n)=\\sum_{j=0}^{k-1}a_j\\qquad a_0$ being the right most digit.  \n",
    "\n",
    "n-D(n) is divisible by 9 since n could be written as  \n",
    "$n=\\sum_{j=1}^ka_j*10^j$  \n",
    "$n-D(n)\\sum_{j=1}^ka_j*(10^j-1)$  \n",
    "Now $10^j-1$ is a number with all it's digits as 9.  \n",
    "\n",
    "$2^{29}$ is said to be a 9 digit number with 9 different digits. So\n",
    "\n",
    "$D(2^{29})=\\sum_{j=0}^9j-x=45-x$  \n",
    "Now  \n",
    "$2^{29} -(45-x)$ should be divisible by 9\n",
    "\n",
    "$2^{29}=2^{5}*(2^{6})^4=2^{5}(63+1)^4=2^5(63k+1)=2^5*63k+2^5$  \n",
    "$2^{29} -(45-x)\\qquad$ should be divisible by 9  \n",
    "$2^563k+2^5-45+x\\qquad$ should be divisible by 9  \n",
    "$2^5-45+x\\qquad$ should be divisible by 9  \n",
    "$32-45+x\\qquad$ should be divisible by 9  \n",
    "$-13+x\\qquad$ should be divisible by 9  \n",
    "-13 to 4 the only divisible number in these is -9 Thus -13+x=-9 x=4!"
   ]
  },
  {
   "cell_type": "markdown",
   "metadata": {},
   "source": [
    "***Question 5***\n",
    "Alice and Bob stand at opposite ends of a straight line segment. Bob sends 50 ants towards Alice, one\n",
    "after another. Alice sends 20 ants towards Bob. All ants travel along the straight line segment. When-ever two ants collide, they simply bounce back and start traveling in the opposite direction. How many ants reach Bob and how many ants reach Alice? How many collisions take place.\n",
    "\n",
    "Bob gets 20  \n",
    "Alice gets 50\n",
    "\n",
    "Bobs first ant  -> 1 collision\n",
    "Bobs second ant -> 3 collisions\n",
    "Bobs 3rd ant    -> 5 collisions\n",
    "Bobs 20th ant   -> 20*2-1\n",
    "\n",
    "20*21-20=400 collisions.\n"
   ]
  },
  {
   "cell_type": "markdown",
   "metadata": {},
   "source": [
    "**Q6** Find all the values of $\\rho$ such that  \n",
    "$\\qquad\\qquad\\left[\\begin{array}{ccc}1&0.6&-0.3\\\\\n",
    "0.6& 1& \\rho\\\\\n",
    "-0.3& \\rho& 1\\end{array}\\right]$  \n",
    "is a correlation matrix.\n",
    "\n",
    "\n",
    "Ans:\n",
    "\n",
    "What is a correlation matrix?\n",
    "\n",
    "Correlation between two variables = $\\frac{cov(x,y)}{\\sigma_x\\sigma_y}$.  \n",
    "So a covariance matrix has to be symmetric matrix.  \n",
    "\n",
    "So given corr(x,y)=0.6;corr(x,z)=-0.3;\n",
    "What is the range for corr(y,z)?\n",
    "\n",
    "Also it is known that\n",
    "\n",
    "$var(b^TX)=b^Tvar(X)b$  \n",
    "As left handside is a positive semi-definite.\n",
    "We need a positive-semi definite matrix as a correlation matrix.\n",
    "\n",
    "\n",
    "$\\left|\\,\\left[\\begin{array}{ccc}1&0.6&-0.3\\\\\n",
    "0.6& 1& \\rho\\\\\n",
    "-0.3& \\rho& 1\\end{array}\\right]\\,\\right|\\geq0\\\\\n",
    "\\implies 1(1-\\rho^2)-0.6(0.6+0.3\\rho)-0.3(0.6\\rho+0.3)\\geq0\\\\\n",
    "\\implies 1-\\rho^2 -0.36 -0.18\\rho -0.18\\rho-0.09\\geq0\\\\\n",
    "\\implies -\\rho^2-0.36\\rho +0.55\\geq0\\\\\n",
    "\\implies \\rho^2+36\\rho-55\\leq0\\\\\n",
    "\\implies (\\rho+18)^2-324-55\\leq0\\\\\n",
    "\\implies (\\rho+18)^2\\leq379\\\\\n",
    "\\implies -19.467922333931785\\leq\\rho+18\\leq+19.467922333931785\\\\\n",
    "\\implies -19.467922333931785\\leq\\rho+18\\leq+19.467922333931785\\\\\n",
    "\\implies -19.467922333931785-18\\leq\\rho\\leq+1.467922333931785\\\\\n",
    "$    \n",
    "\n",
    "That means as long as the correlation $\\epsilon[-1,1]$ then the correlation matrix would be a positive definite matrix.\n",
    "\n",
    "$\\left[\\begin{array}{ccc}x&y&z\\end{array}\\right]\\left[\\begin{array}{ccc}1&0.6&-0.3\\\\\n",
    "0.6& 1& \\rho\\\\\n",
    "-0.3& \\rho& 1\\end{array}\\right]\\left[\\begin{array}{c}x\\\\\n",
    "y\\\\\n",
    "z\\end{array}\\right]\\geq0\\\\\n",
    "\\implies\\left[\\begin{array}{ccc}x+0.6y-0.3z&\n",
    "0.6x+y+\\rho z&\n",
    "-0.3x+\\rho y+z\\end{array}\\right]\\left[\\begin{array}{c}x\\\\\n",
    "y\\\\\n",
    "z\\end{array}\\right]\\geq0\\\\\n",
    "\\implies x^2+1.2xy-0.6xz +y^2+2\\rho yz +z^2\\geq0\\\\\n",
    "\\implies 5x^2+6xy-3xz +5y^2+10\\rho yz +5z^2\\geq0\\\\\n",
    "\\implies (x+3y)^2 +(2x-3/4z)^2 -9/16z^2+5z^2 -4y^2+10\\rho yz \\geq0\\\\\n",
    "$ \n"
   ]
  },
  {
   "cell_type": "code",
   "execution_count": 2,
   "metadata": {},
   "outputs": [
    {
     "name": "stdout",
     "output_type": "stream",
     "text": [
      "19.467922333931785\n"
     ]
    }
   ],
   "source": [
    "print(379**0.5)"
   ]
  },
  {
   "cell_type": "markdown",
   "metadata": {},
   "source": [
    "$1(1-\\rho^2)-0.6(0.6+0.3\\rho)-0.3(0.6\\rho+0.3)$\n",
    "\n",
    "\\implies (x+3y)^2 +(2x-3/4z)^2 +71/16z^2 -4y^2+10\\rho yz \\geq0\\\\"
   ]
  },
  {
   "cell_type": "markdown",
   "metadata": {},
   "source": [
    "***Q6*** How many independent random variables unif distributed on [0, 1] should you generate to ensure that there is at least one between 0.70 and 0.72 with probability 95%?  \n",
    "\n",
    "Let X be the event of u being in 0.7 and 0.72. Probability of X is 0.02  \n",
    "If we make sure that the probability of X not occuring ever is less than 5% then..\n",
    "$0.98^x\\leq0.05$  \n",
    "$x\\geq\\frac{log(0.05)}{log(0.98)}\\quad$ as the sign changes  \n",
    "You should generate atleast 148.28 => 149"
   ]
  },
  {
   "cell_type": "code",
   "execution_count": 5,
   "metadata": {},
   "outputs": [
    {
     "name": "stdout",
     "output_type": "stream",
     "text": [
      "148.28370408337003\n"
     ]
    }
   ],
   "source": [
    "import math\n",
    "print(math.log(0.05)/math.log(0.98))"
   ]
  },
  {
   "cell_type": "markdown",
   "metadata": {},
   "source": [
    "Q7. Show that the probability density function of the standard normal integrates to 1.\n",
    "\n",
    "$\\frac{1}{\\sqrt{2\\pi}}\\int_{-\\infty}^{\\infty}e^{-\\frac{x^2}{2}}dx=1\\\\\n",
    "\\implies\\int_{-\\infty}^{\\infty}e^{-\\frac{x^2}{2}}dx=\\sqrt{2\\pi}\\\\\n",
    "\\implies\\left(\\int_{-\\infty}^{\\infty}e^{-\\frac{x^2}{2}}dx\\right)^2=2\\pi\\\\\n",
    "\\implies\\int_{-\\infty}^{\\infty}e^{-\\frac{x^2}{2}}dx\\int_{-\\infty}^{\\infty}e^{-\\frac{y^2}{2}}dy=2\\pi\\\\\n",
    "\\implies\\iint_{R^2}e^{-\\frac{x^2+y^2}{2}}dxdy=2\\pi\\\\\n",
    "x=rcos\\theta \\,y=rsin\\theta\\,\\,dxdy=|\\frac{\\delta rcos\\theta}{\\delta r}\\frac{\\delta rsin\\theta}{\\delta\\theta}-\\frac{\\delta rsin\\theta}{\\delta r}\\frac{\\delta rcos\\theta}{\\delta\\theta}|=rcos^2\\theta+rsin^2\\theta=r\\\\\n",
    "\\implies\\int_{0}^{2\\pi}\\int_0^{\\infty}e^{-\\frac{r^2}{2}}drd\\theta=2\\pi\\\\\n",
    "\\implies2\\pi\\int_0^{\\infty}e^{-\\frac{r^2}{2}}dr=2\\pi\\\\\n",
    "\\implies2\\pi\\int_0^{\\infty}e^{-\\frac{r^2}{2}}d\\frac{r^2}{2}=2\\pi\\\\\n",
    "\\implies-2\\pi\\int_0^{\\infty}e^{-\\frac{r^2}{2}}d\\left(-\\frac{r^2}{2}\\right)=2\\pi\\\\\n",
    "\\implies-2\\pi\\left[e^{-\\frac{r^2}{2}}\\right]_0^{\\infty}=2\\pi\\\\\n",
    "\\implies-2\\pi\\left[e^{-\\frac{\\infty^2}{2}}-e^{-\\frac{0^2}{2}}\\right]=2\\pi\\\\\n",
    "\\implies-2\\pi\\left[0-1\\right]=2\\pi\\\\\n",
    "\\implies2\\pi=2\\pi\\\\\n",
    "$  \n"
   ]
  },
  {
   "cell_type": "markdown",
   "metadata": {},
   "source": [
    "**Q8** Assume the Earth is perfectly spherical and you are standing somewhere on its surface. You travel ex-\n",
    "actly 1 mile south, then 1 mile east, then 1 mile north. Surprisingly, you find yourself back at the\n",
    "starting point. If you are not at the North Pole, where can you possibly be?!\n"
   ]
  },
  {
   "cell_type": "markdown",
   "metadata": {},
   "source": [
    "**Q9** Solve the Ornstein-Uhlenbeck SDE  \n",
    "$\\qquad\\qquad dr_t=\\lambda(\\theta-r_t)dt + \\sigma dW_t$  \n",
    "which is used, e.g., in the Vasicek model for interest rates."
   ]
  },
  {
   "cell_type": "markdown",
   "metadata": {},
   "source": [
    "**Q10** Write a C++ function that computes the n-th Fi-\n",
    "bonacci number\n",
    "\n",
    "$F_{n+2}=F_{n+1}+F_{n}$\n",
    "\n",
    "Characteristic polynomial for this is  \n",
    "$x^2-x-1=0$  \n",
    "$x=\\frac{1\\pm\\sqrt{1+4}}{2*1}$  \n",
    "$x=\\frac{1\\pm\\sqrt{5}}{2}$  \n",
    "F_0=1\n",
    "F_1=1\n",
    "\n",
    "$\\left[\\begin{array}{cc}\\left(\\frac{1+\\sqrt{5}}{2}\\right)^0&\\left(\\frac{1-\\sqrt{5}}{2}\\right)^0\\\\\n",
    "\\left(\\frac{1+\\sqrt{5}}{2}\\right)^1&\\left(\\frac{1-\\sqrt{5}}{2}\\right)^1\\end{array}\\right]\\left[\\begin{array}{c}C_1\\\\C_2\\end{array}\\right]=\\left[\\begin{array}{c}1\\\\1\\end{array}\\right]$  \n",
    "$\\frac{1+\\sqrt{5}}{2}C_1+\\frac{1-\\sqrt{5}}{2}(1-C_1)=1$  \n",
    "$\\sqrt{5}C_1=1-\\frac{1-\\sqrt{5}}{2}$  \n",
    "$\\sqrt{5}C_1=\\frac{1+\\sqrt{5}}{2}$  \n",
    "$C_1=\\frac{1+\\sqrt{5}}{2\\sqrt{5}}$  \n",
    "$C_1=\\frac{1}{2}\\left(1+\\frac{1}{\\sqrt{5}}\\right)$  \n",
    "$C_2=\\frac{1}{2}\\left(1-\\frac{1}{\\sqrt{5}}\\right)$  \n",
    "\n",
    "$F_n=\\frac{1}{2}\\left(1+\\frac{1}{\\sqrt{5}}\\right)\\left(\\frac{1+\\sqrt{5}}{2}\\right)^n+\\frac{1}{2}\\left(1-\\frac{1}{\\sqrt{5}}\\right)\\left(\\frac{1-\\sqrt{5}}{2}\\right)^n\\\\\n",
    "\\implies F_n=\\frac{1}{2^{n+1}\\sqrt5}\\left(\\left(1+\\sqrt{5}\\right)^{n+1}-\\left(1-\\sqrt{5}\\right)^{n+1}\\right)$\n",
    "\n",
    "$F_2=\\frac{1}{2^{3}\\sqrt5}\\left(\\left(1+\\sqrt{5}\\right)^3-\\left(1-\\sqrt{5}\\right)^3\\right)$  \n",
    "$F_2=\\frac{1}{2^{3}\\sqrt5}\\left(2\\sqrt{5}^3+6\\sqrt{5}\\right)=2$\n"
   ]
  },
  {
   "cell_type": "markdown",
   "metadata": {},
   "source": [
    "**Q**What is the value of $i^i$?\n",
    "\n",
    "$e^{i\\theta}=cos\\theta +i\\sin\\theta$  \n",
    "$e^{i\\frac{\\pi}{2}}=cos\\frac{\\pi}{2} +i\\sin\\frac{\\pi}{2}$  \n",
    "$e^{i\\frac{\\pi}{2}}=i$  \n",
    "$\\left(e^{i\\frac{\\pi}{2}}\\right)^i=i^i$  \n",
    "$e^{i\\frac{\\pi}{2}*i}=i^i$  \n",
    "$e^{i^2\\frac{\\pi}{2}}=i^i$  \n",
    "$e^{-\\frac{\\pi}{2}}=i^i$  \n"
   ]
  },
  {
   "cell_type": "markdown",
   "metadata": {},
   "source": [
    "**Q** Which number is larger $\\pi^e$ or $e^\\pi$?\n",
    "We know that  \n",
    "$e^x>1+x\\\\\n",
    "\\implies e^{\\frac{\\pi}{e}-1}>\\frac{\\pi}{e}\\\\\n",
    "\\implies e^{\\frac{\\pi}{e}}>\\pi\\\\\n",
    "\\implies e^\\pi>\\pi^e\\\\\n",
    "$\n"
   ]
  },
  {
   "cell_type": "markdown",
   "metadata": {},
   "source": [
    "**Q** Show that  \n",
    "$\\frac{e^x+e^y}{2}\\geq e^\\frac{x+y}{2}$\n",
    "\n",
    "We know that arithmetic mean is always $\\geq$ geometric mean so  \n",
    "$\\frac{e^x+e^y}{2}\\geq (e^xe^y)^\\frac{1}{2}\\\\\n",
    "\\implies\\frac{e^x+e^y}{2}\\geq (e^{x+y})^\\frac{1}{2}\\\\\n",
    "\\implies\\frac{e^x+e^y}{2}\\geq e^\\frac{x+y}{2}\\\\\n",
    "$  "
   ]
  },
  {
   "cell_type": "markdown",
   "metadata": {},
   "source": [
    "**Q** Solve \n",
    "\n",
    "$x^6=64$  \n",
    "$x^6=1*2^6$  \n",
    "x would have six solutions of $2e^{i\\frac{n}{6}2\\pi}=2e^{i\\frac{n\\pi}{3}}$ where $n=0..5$  \n"
   ]
  },
  {
   "cell_type": "markdown",
   "metadata": {},
   "source": [
    "**Q** What is the derivative of $x^x$?  \n",
    "\n",
    "$y=x^x$  \n",
    "$log(y)=xlog(x)$  \n",
    "$\\frac{y'}{y}=log(x)+1$  \n",
    "$y'=y(log(x)+1)$  \n",
    "$y'=(1+log(x))x^x$  \n"
   ]
  },
  {
   "cell_type": "markdown",
   "metadata": {},
   "source": [
    "**Q** Calculate $\\sqrt{2+\\sqrt{2+\\sqrt{2+...}}}$  \n",
    "$x=\\sqrt{2+x}$  \n",
    "$x^2=2+x$  \n",
    "$x^2-x-2=0$  \n",
    "$(x-2)(x+1)=0$  \n",
    "x=2 or x=-1"
   ]
  },
  {
   "cell_type": "markdown",
   "metadata": {},
   "source": [
    "**Q** find x where $x^{x^{x^{x^..}}}=2$  \n",
    "$x^2=2$  \n",
    "$x=\\sqrt{2}$  "
   ]
  },
  {
   "cell_type": "markdown",
   "metadata": {},
   "source": [
    "**Q**  \n",
    "Find which series converges\n",
    "\n",
    "$\\sum_{k=1}^{\\infty}\\frac{1}{k}$;   $\\sum_{k=1}^{\\infty}\\frac{1}{k^2}$;   $\\sum_{k=2}^{\\infty}\\frac{1}{klogk}$"
   ]
  },
  {
   "cell_type": "markdown",
   "metadata": {},
   "source": [
    "### Linear Algebra"
   ]
  },
  {
   "cell_type": "markdown",
   "metadata": {},
   "source": [
    "**Q1** Show that any covariance matrix is symmetric positive semidefinite. Show that the same is true for correlation matrices."
   ]
  },
  {
   "cell_type": "markdown",
   "metadata": {},
   "source": [
    "**Q2** Find the correlation matrix of three random variables with covariance matrix  \n",
    "$\\qquad\\qquad\\sum_X=\\left[\\begin{array}{ccc}\n",
    "1&0.36&-1.44\\\\\n",
    "0.36&4&0.80\\\\\n",
    "-1.44&0.80&9\\end{array}\\right]$  \n",
    "  \n",
    "Ans:  \n",
    "$\\sigma_1=1,\\,\\sigma_2=2,\\,\\sigma_3=3,\\,$  \n",
    "\n",
    "$\\qquad\\qquad C_X=\\left[\\begin{array}{ccc}\n",
    "1&\\frac{0.36}{\\sigma_1\\sigma_2}&\\frac{-1.44}{\\sigma_1\\sigma_3}\\\\\n",
    "C_{1,2}&1&\\frac{0.80}{\\sigma_2\\sigma_3}\\\\\n",
    "C_{1,3}&C_{2,3}&1\\end{array}\\right]$  \n",
    "  \n",
    "$\\qquad\\qquad C_X=\\left[\\begin{array}{ccc}\n",
    "1&\\frac{0.36}{2}&\\frac{-1.44}{3}\\\\\n",
    "C_{1,2}&1&\\frac{0.80}{2*3}\\\\\n",
    "C_{1,3}&C_{2,3}&1\\end{array}\\right]$  \n",
    "  \n",
    "$\\qquad\\qquad C_X=\\left[\\begin{array}{ccc}\n",
    "1&0.18&-0.48\\\\\n",
    "C_{1,2}&1&0.133\\\\\n",
    "C_{1,3}&C_{2,3}&1\\end{array}\\right]$  \n",
    "\n",
    "$\\qquad\\qquad C_X=\\left[\\begin{array}{ccc}\n",
    "1&0.18&-0.48\\\\\n",
    "0.18&1&0.133\\\\\n",
    "-0.48&0.133&1\\end{array}\\right]$  \n"
   ]
  },
  {
   "cell_type": "markdown",
   "metadata": {},
   "source": [
    "### Financial Instruments"
   ]
  },
  {
   "cell_type": "markdown",
   "metadata": {},
   "source": [
    "**Q1** The prices of three put options with strikes 40, 50 and 70, but otherwise identical, are \\$10, \\$20, and \\$30, respectively. Is there an arbitrage opportunity present? If yes, how can you make a riskless profit?\n",
    "\n",
    "\n",
    "Ans:  \n",
    "\n",
    "Let's  make a portfolio of  c,b,a of 40,50,70 put options.\n",
    "\n",
    "Cost of set-up is  \n",
    "$10a+20b+30c=0$  \n",
    "\n",
    "\n",
    "Pay Off Eq|$S_{Min}$|$S_{Max}$|S-Range\n",
    "---|---|---|---\n",
    "$30a+10b +(a+b+c)(40-S)$|30a+10b|70a+50b+40c|$S\\leq40$\n",
    "$20a + (a+b)(50-S)$|20a|30a+10b|$40<S\\leq50$\n",
    "$a(70-S)$|0|20a|$50<S\\leq70$\n",
    "0|0|0|$S>70$  \n",
    "\n",
    "$b=-\\frac{a+3c}{2}$  \n",
    "\n",
    "We need to make sure that payoffs are greater than equal to 0  \n",
    "\n",
    "$20a\\geq0\\\\\n",
    "30a+10b\\geq0\\\\\n",
    "70a+50b+40c\\geq0$  \n",
    "  \n",
    "$a\\geq0\\\\\n",
    "3a-\\frac{a+3c}{2}\\geq0\\\\\n",
    "7a-5\\frac{a+3c}{2}+4c\\geq0$  \n",
    "\n",
    "$a\\geq0\\\\\n",
    "6a-a-3c\\geq0\\\\\n",
    "14a-5(a+3c)+8c\\geq0$  \n",
    "\n",
    "$a\\geq0\\\\\n",
    "5a\\geq3c\\\\\n",
    "14a-5a-15c+8c\\geq0$  \n",
    "\n",
    "$a\\geq0\\\\\n",
    "a\\geq\\frac{3c}{5}\\\\\n",
    "9a-7c\\geq0$  \n",
    "\n",
    "$a\\geq0\\\\\n",
    "a\\geq\\frac{3c}{5}\\\\\n",
    "a\\geq\\frac{7c}{9}$  \n",
    "\n",
    "$a=\\frac{7c}{9}$ satisfies all the above conditions if and c are >0.\n",
    "\n",
    "So a portfolio of say c=9 a=7 and b=-17 will have a pay off of\n",
    "\n",
    "\n",
    "\n",
    "Pay Off Eq|$S_{Min}$|$S_{Max}$|S-Range\n",
    "---|---|---|---\n",
    "$30a+10b +(a+b+c)(40-S)$|40|0|$S\\leq40$\n",
    "$20a + (a+b)(50-S)$|140|40|$40<S\\leq50$\n",
    "$a(70-S)$|0|140|$50<S\\leq70$\n",
    "0|0|0|$S>70$  \n",
    "\n",
    "So a portfolio of say c=9 a=9 and b=-18 will have a pay off of\n",
    "\n",
    "\n",
    "\n",
    "Pay Off Eq|$S_{Min}$|$S_{Max}$|S-Range\n",
    "---|---|---|---\n",
    "$30a+10b +(a+b+c)(40-S)$|90|90|$S\\leq40$\n",
    "$20a + (a+b)(50-S)$|180|90|$40<S\\leq50$\n",
    "$a(70-S)$|0|180|$50<S\\leq70$\n",
    "0|0|0|$S>70$  \n"
   ]
  },
  {
   "cell_type": "markdown",
   "metadata": {},
   "source": [
    "**Q2** The price of a stock is \\$50. In three months, it will either be \\$47 or \\$52, with 50\\% probability. How much would you pay for an at-the-money put? Assume for simplicity that the stock pays no dividends and that interest rates are zero.\n",
    "\n",
    "Put pay off P is  \n",
    "\n",
    "S=47 P=3  Prob=0.5  \n",
    "S=52 P=0  Prob=0.5  \n",
    "\n",
    "Price of put option is 3*0.5=$1.5\n"
   ]
  },
  {
   "cell_type": "markdown",
   "metadata": {},
   "source": [
    "**Q3**A stock worth \\$50 today will be worth either \\$60 or \\$40 in three months, with equal probability. The\n",
    "value of a three months at-the-money put on this stock is \\$4\\. Does the value of the three months ATM put increase or decrease, and by how much, if the probability of the stock going up to \\$60 were 75\\% and the probability of the stock going down to \\$40 were 25\\%?  \n",
    "\n",
    "Put value at maturity=0.5*10=\\$5  \n",
    "Disc(Risk Free Rate) and Dividend  Factor F = 4/5=0.8\n",
    "\n",
    "At new prob is 0.25\n",
    "\n",
    "Put value at expiry=0.25*10=\\$2.5\n",
    "Present value of the Put=2.5*F=2.5*4/5=\\$2\n"
   ]
  },
  {
   "cell_type": "markdown",
   "metadata": {},
   "source": [
    "**Q4** What is risk-neutral pricing?\n",
    "\n",
    "When all assets in the world are expected to grow at the risk free rate. Pricing any securities in this context is called risk-neutral pricing. This also makes sure that there is no arbitrage between holding one security vs another."
   ]
  },
  {
   "cell_type": "markdown",
   "metadata": {},
   "source": [
    "**Q5** Describe briefly how you arrive at the Black-Scholes formula.\n",
    "\n",
    "Assume log normal distribution of the Stock price and arrive at the Call or Put option price by integrating pay-offs over the range of underlying Stock Prices.\n",
    "\n",
    "$dS=(r-q)Sdt -\\sigma S Z\\sqrt{dt}$  \n",
    "\n",
    "---\n",
    "$dS=(r-q)Sdt -\\sigma S Z\\sqrt{dt}$  \n",
    "$dS^2=\\sigma^2 S^2 E(Z^2) (\\sqrt{dt})^2$  if you exclude higher terms of dt  \n",
    "$dS^2=\\sigma^2 S^2 dt$\n",
    "\n",
    "For any given portfolio V(S,t)  \n",
    "\n",
    "$V(S,t)=V(S_o,t_o) + (S-S_o)\\frac{\\delta V}{\\delta S} + (t-t_o)\\frac{\\delta V}{\\delta t} + \\frac{(S-S_o)^2}{2}\\frac{\\delta^2 V}{\\delta S^2} + \\frac{(S-S_o)(t-t_o)}{2}\\frac{\\delta^2 V}{\\delta S \\delta t}$  \n",
    "$dV= dS\\Delta + dt\\Theta + \\frac{(dS)^2}{2}\\Gamma + \\frac{dSdt}{2}\\frac{\\delta^2 V}{\\delta S \\delta t}$  \n",
    "$dV= dS\\Delta + dt\\Theta + \\frac{(dS)^2}{2}\\Gamma $  \n",
    "$rVdt= (r-q)Sdt\\Delta + dt\\Theta + \\frac{\\sigma^2S^2dt}{2}\\Gamma $  \n",
    "$rV= (r-q)S\\Delta + \\Theta + \\frac{\\sigma^2S^2}{2}\\Gamma $  \n",
    "\n",
    "---\n",
    "\n",
    "$dS=(r-q)Sdt +\\sigma S Z\\sqrt{dt}$  \n",
    "$log\\left(\\frac{S_t}{S_o}\\right)=(r-q-\\frac{\\sigma^2}{2})T +\\sigma\\sqrt{T}Z$  \n",
    "$\\frac{S_t}{S_o}=e^{(r-q-\\frac{\\sigma^2}{2})T +\\sigma\\sqrt{T}Z}$  \n",
    "$S_t=S_0e^{(r-q-\\frac{\\sigma^2}{2})T +\\sigma\\sqrt{T}Z}$  \n",
    "\n",
    "\n",
    "Call Option Pay offs are\n",
    "\n",
    "$C=S-K\\,\\, when\\,\\, S>K\\\\\n",
    "\\quad=0\\,\\, when\\,\\, S<K$  \n",
    "\n",
    "$S>K\\\\\n",
    "\\implies S_oe^{(r-q-\\frac{\\sigma^2}{2})T +\\sigma\\sqrt{T}Z}>K\\\\\n",
    "\\implies e^{(r-q-\\frac{\\sigma^2}{2})T +\\sigma\\sqrt{T}Z}>\\frac{K}{S_o}\\\\\n",
    "\\implies (r-q-\\frac{\\sigma^2}{2})T +\\sigma\\sqrt{T}Z>log\\left(\\frac{K}{S_o}\\right)\\\\\n",
    "\\implies \\sigma\\sqrt{T}Z>-(r-q-\\frac{\\sigma^2}{2})T+log\\left(\\frac{K}{S_o}\\right) \\\\\n",
    "\\implies  Z>\\frac{-(r-q-\\frac{\\sigma^2}{2})T-log\\left(\\frac{S_o}{K}\\right)}{\\sigma\\sqrt{T}}\\\\\n",
    "\\implies  Z>-\\frac{(r-q-\\frac{\\sigma^2}{2})T+log\\left(\\frac{S_o}{K}\\right)}{\\sigma\\sqrt{T}}\\\\\n",
    "\\implies  Z>-d_2\\\\\n",
    "$  \n",
    "\n",
    "\n",
    "Now the call option pay-off is\n",
    "\n",
    "$C=S-K\\,\\, when\\,\\, S>K\\\\\n",
    "\\implies S-K\\,\\, when\\,\\, Z>-d_2\\\\\n",
    "$ for payoff at expiry  \n",
    "\n",
    "$C_o=e^{-rT}(S-K)\\,\\, when\\,\\, Z>-d_2\\\\\n",
    "\\implies e^{-rT}(S_oe^{(r-q-\\frac{\\sigma^2}{2})T +\\sigma\\sqrt{T}Z}-K)\\,\\, when\\,\\, Z>-d_2\\\\\n",
    "\\implies e^{-rT}(S_oe^{(r-q-\\frac{\\sigma^2}{2})T +\\sigma\\sqrt{T}Z}-K)\\,\\, when\\,\\, Z>-d_2\\\\\n",
    "\\implies \\frac{1}{\\sqrt{2\\pi}}\\int_{-d_2}^{\\infty}\\left(S_oe^{(-r+r-q-\\frac{\\sigma^2}{2})T +\\sigma\\sqrt{T}x}-Ke^{-rT}\\right)e^{-\\frac{x^2}{2}} dx\\\\\n",
    "\\implies \\frac{1}{\\sqrt{2\\pi}}\\int_{-d_2}^{\\infty}S_oe^{(-q-\\frac{\\sigma^2}{2})T +\\sigma\\sqrt{T}x}e^{-\\frac{x^2}{2}} dx-\\frac{Ke^{-rT}}{\\sqrt{2\\pi}}\\int_{-d_2}^{\\infty} e^{-\\frac{x^2}{2}} dx\\\\\n",
    "\\implies \\frac{1}{\\sqrt{2\\pi}}\\int_{-d_2}^{\\infty}S_oe^{(-q-\\frac{\\sigma^2}{2})T +\\sigma\\sqrt{T}x}e^{-\\frac{x^2}{2}} dx-Ke^{-rT}N(d_2)\\\\\n",
    "\\implies \\frac{1}{\\sqrt{2\\pi}}\\int_{-d_2}^{\\infty}S_oe^{-qT-\\frac{\\sigma^2}{2}T +\\sigma\\sqrt{T}x-\\frac{x^2}{2}} dx-Ke^{-rT}N(d_2)\\\\\n",
    "\\implies \\frac{S_oe^{-qT}}{\\sqrt{2\\pi}}\\int_{-d_2}^{\\infty} e^{-\\frac{1}{2}(\\sigma^2T -2\\sigma\\sqrt{T}x + x^2)} dx-Ke^{-rT}N(d_2)\\\\\n",
    "\\implies \\frac{S_oe^{-qT}}{\\sqrt{2\\pi}}\\int_{-d_2}^{\\infty} e^{-\\frac{(x-\\sigma\\sqrt{T})^2}{2}}dx-Ke^{-rT}N(d_2)\\\\\n",
    "\\implies \\frac{S_oe^{-qT}}{\\sqrt{2\\pi}}\\int_{-d_2-\\sigma\\sqrt{T}}^{\\infty} e^{-\\frac{y^2}{2}}dy-Ke^{-rT}N(d_2)\\\\\n",
    "\\implies \\frac{S_oe^{-qT}}{\\sqrt{2\\pi}}\\int_{-(d_2+\\sigma\\sqrt{T})}^{\\infty} e^{-\\frac{y^2}{2}}dy-Ke^{-rT}N(d_2)\\\\\n",
    "\\implies \\frac{S_oe^{-qT}}{\\sqrt{2\\pi}}\\int_{-d_1}^{\\infty} e^{-\\frac{y^2}{2}}dy-Ke^{-rT}N(d_2)\\\\\n",
    "\\implies \\frac{S_oe^{-qT}}{\\sqrt{2\\pi}}\\int_{-\\infty}^{d_1} e^{-\\frac{y^2}{2}}dy-Ke^{-rT}N(d_2)\\\\\n",
    "\\implies S_oe^{-qT}N(d_1)-Ke^{-rT}N(d_2)\\\\\n",
    "$"
   ]
  },
  {
   "cell_type": "markdown",
   "metadata": {},
   "source": [
    "### TODO\n",
    "\n",
    "Review the relationship between log normality and the ODE of a S(and Markov Chains).\n",
    "\n",
    "$dS=(r-q)Sdt + \\sigma SZ\\sqrt{dt}$  \n",
    "How did the above get to  \n",
    "$log(\\frac{S_t}{S_o})=(r-q-\\frac{\\sigma^2}{2})T+\\sigma\\sqrt{T}Z$  \n",
    "\n",
    "\n",
    "Changes in Stock prices are log normal.\n",
    "\n",
    "$log\\left(\\frac{S_t}{S_{t-1}}\\right)=N(r-q,\\sigma)$  \n",
    "\n",
    "$log(1+\\frac{dS}{S})=N(r-q,\\sigma)$  \n",
    "\n",
    "$log(1+\\frac{dS}{S})=N(r-q,\\sigma)$  \n",
    "\n",
    "$log(1+x)=0+\\frac{x}{1+x} - \\frac{x^2}{2(1+x)^2} + \\frac{x^3}{3(1+x)^2}+...$ replace $f^n$ with proper values.  \n",
    "$log(1+x)=0+x - \\frac{x^2}{2} + \\frac{x^3}{3}+...$  \n",
    "$log(1+x)=x$  for very small x  \n",
    "\n",
    "$\\frac{dS}{S}=N(r-q,\\sigma)$  \n",
    "\n",
    "$dS=S*N(r-q,\\sigma)$  \n",
    "$dS=N((r-q)S,\\sigma S)$  \n",
    "$E(dS)=(r-q)S$  \n",
    "$E((dS-E(dS))^2)= E((dS)^2)-E(dS)^2=\\sigma^2S^2$  \n",
    "$E((dS)^2)-E(dS)^2=\\sigma^2S^2$  \n",
    "$E((dS)^2)=\\sigma^2S^2+E(dS)^2$  \n",
    "$E((dS)^2)=\\sigma^2S^2+(r-q)^2S^2$  \n"
   ]
  },
  {
   "cell_type": "markdown",
   "metadata": {},
   "source": [
    "**Q6** How much should a three months at the money put on an asset with spot price \\$40 and volatility 30\\%\n",
    "be worth? Assume, for simplicity, that interest rates and that the asset does not pay dividends.\n",
    "\n",
    "$P=K(-N(d_2))-S(-N(d_1))\\\\\n",
    "SN(-\\frac{-\\sigma\\sqrt{t}}{2})-SN(-\\frac{\\sigma\\sqrt{t}}{2})\\\\\n",
    "\\quad=SN(\\frac{\\sigma\\sqrt{t}}{2})-S(1-N(\\frac{\\sigma\\sqrt{t}}{2}))\\\\\n",
    "\\quad=S(2N(\\frac{\\sigma\\sqrt{t}}{2})-1)\\\\\n",
    "\\quad=40(2N(\\frac{0.3\\sqrt{3/12}}{2})-1)\\\\\n",
    "\\quad=40(2N(\\frac{0.3}{4})-1)\\\\\n",
    "\\quad=40(2N(0.075)-1)\\\\\n",
    "$\n",
    "\n"
   ]
  },
  {
   "cell_type": "code",
   "execution_count": 11,
   "metadata": {},
   "outputs": [
    {
     "name": "stdout",
     "output_type": "stream",
     "text": [
      "2.391411524231577\n"
     ]
    }
   ],
   "source": [
    "from scipy.stats import norm\n",
    "print(40*(2*norm.cdf(0.075)-1))\n"
   ]
  },
  {
   "cell_type": "markdown",
   "metadata": {},
   "source": [
    "Put option price is \\$2.39"
   ]
  },
  {
   "cell_type": "markdown",
   "metadata": {},
   "source": [
    "**Q7** If the price of a stock doubles in one day, by how much will the value of a call option on this stock\n",
    "change?\n",
    "\n",
    "$C=Se^{-qT}N(d_1)-Ke^{rT}N(d_2)\\\\\n",
    "\\implies \\Delta=e^{-qT}N(d_1)+Se^{-qT}N'(d_1)\\left(\\frac{d_1}{dS}-\\frac{d_2}{dS}\\right)$  \n",
    "$\\frac{d_1}{dS}=\\frac{K}{S}\\frac{1}{K}\\frac{1}{\\sigma\\sqrt{T}}=\\frac{d_2}{dS}$  \n",
    "$\\Delta=e^{-qT}N(d_1)$  \n",
    "$C_{new}=C_{old}+e^{-qT}N(d_1)*S$  \n",
    "$C_{new}-C_{old}=Se^{-qT}N(d_1)$  "
   ]
  },
  {
   "cell_type": "markdown",
   "metadata": {},
   "source": [
    "**Q8** What are the smallest and largest values that Delta\n",
    "can take?\n",
    "\n",
    "$\\Delta=e^{−qT}N(d1)$  \n",
    "\n",
    "$T\\rightarrow\\infty\\implies\\Delta\\rightarrow0$  \n",
    "$\\Delta$ is max when $T\\rightarrow0$  \n",
    "$N(d_1)$ is max when $d_1\\rightarrow\\infty$  \n",
    "\n",
    "$d_1=\\frac{log\\left(\\frac{S}{K}\\right)+(r-q+\\frac{\\sigma^2}{2})T}{\\sigma\\sqrt{T}}$  \n",
    "$d_1=\\frac{log\\left(\\frac{S}{K}\\right)}{\\sigma\\sqrt{T}}+\\frac{(r-q+\\frac{\\sigma^2}{2})\\sqrt{T}}{\\sigma}$  \n",
    "$d_1=\\frac{log\\left(\\frac{S}{K}\\right)}{\\sigma\\sqrt{T}}+\\frac{r-q+\\frac{\\sigma^2}{2}}{\\sigma}\\sqrt{T}$  \n",
    "\n",
    "for a given T $d_1\\rightarrow\\infty$ when $\\frac{S}{K}\\rightarrow\\infty$  \n",
    "\n",
    "$\\Delta$ is close to 1 for way in the money calls for given maturity.\n",
    "\n",
    "\n",
    "$\\Gamma=\\frac{d}{dS}e^{−qT}N(d_1)\\\\\n",
    "\\implies=\\frac{e^{−qT}}{S\\sigma\\sqrt{T}}N'(d_1)$  \n",
    "\n",
    "$N'(d_1)=\\frac{d}{dd_1}\\int_{-\\infty}^{d_1}e^{-\\frac{x^2}{2}}dx\\\\\n",
    "=e^{-\\frac{d_1^2}{2}}$  \n",
    "\n",
    "$\\Gamma=\\frac{1}{S\\sigma\\sqrt{T}}e^{-(qT+\\frac{d_1^2}{2})}$  Gamma is always positive.  \n",
    "\n",
    "Way in the money options have a delta of 1.\n",
    "\n",
    "Way out of the money options near expiry will have a delta of 0.\n",
    "\n"
   ]
  },
  {
   "cell_type": "markdown",
   "metadata": {},
   "source": [
    "**Q9**. What is the Delta of an at-the-money call? What is the Delta of an at-the-money put?\n",
    "\n",
    "$\\Delta_C=e^{-qT}N(d1)$  \n",
    "$\\Delta_C=-e^{-qT}N(-d1)$  \n",
    "\n",
    "$\\Delta_C=e^{-qT}N\\left(\\frac{(r-q+\\sigma^2)\\sqrt{T}}{\\sigma}\\right)$  \n",
    "$\\Delta_P=-e^{-qT}\\left(1-N\\left(\\frac{(r-q+\\sigma^2)\\sqrt{T}}{\\sigma}\\right)\\right)$  \n",
    "\n",
    "$\\Delta_C=e^{-qT}N\\left(\\frac{(r-q+\\sigma^2)\\sqrt{T}}{\\sigma}\\right)$  \n",
    "$\\Delta_P=\\Delta_C-e^{-qT}$  \n",
    "\n",
    "For r=q=0  \n",
    "$\\Delta_C=N(\\sigma\\sqrt{T})$  \n",
    "$\\Delta_P=\\Delta_C-1$  \n",
    "$\\sigma\\sqrt{T}$ at 20\\% volatility and three months to maturity =$\\sigma\\sqrt{T}=0.2*\\sqrt{3/12}=0.1$  \n",
    "$N(0.1)~N(0)$\n",
    "\n",
    "Thus $\\Delta_C=0.5$ and $\\Delta_P=-0.5$\n"
   ]
  },
  {
   "cell_type": "markdown",
   "metadata": {},
   "source": [
    "**10** What is the Put-Call parity? How do you prove it?\n",
    "\n",
    "Put Call parity is a relationship between put, call of same strike and maturity and the underlying stock in a risk neutral world.\n",
    "\n",
    "At initiation you make the below portfolio by borrowing K^e{-rT} dollars.\n",
    "\n",
    "1. Buy a put at strike K\n",
    "2. Buy Se^{-qT} worth of stock\n",
    "3. And sell a call at strike K of same expiry\n",
    "4. Let's say you take a loan to set-up the above which is 1+2+3\n",
    "\n",
    "$P+Se^{-qT}-C=L$  \n",
    "\n",
    "At expiry  \n",
    "If S>K  \n",
    "  1. put expires worthless  \n",
    "  2. Sell stock at $S_t$  \n",
    "  3. pay $(S_t-K)$ into the call  \n",
    "  4. pay off the loan $Le^{rT}$  \n",
    "Net profit =$S_t-(S_t-K)-Le^{rT}$=K-Le^{rT}\n",
    "If S<K  \n",
    "  1. Put pays $(K-S_t)$  \n",
    "  2. Sell stock at $S_t$  \n",
    "  3. Call expires out of the money  \n",
    "  4. pay off the loan $Le^{rT}$  \n",
    "Net profit = $(K-S_t)+S_t-Le^{rT}=K-Le^{rT}$  \n",
    "\n",
    "As we set-up the portfolio with zero dollars, in a risk neutral world we should be left with zero dollars at expiry.\n",
    "\n",
    "Thus $K=Le^{rT}\\implies L=Ke^{-rT}$  \n",
    "\n",
    "Thus the put call parity is\n",
    "$P+Se^{-qT}-C=Ke^{-rT}$  \n"
   ]
  },
  {
   "cell_type": "markdown",
   "metadata": {},
   "source": [
    "**Q11**. Show that the time value of a European call option is highest at-the-money.\n",
    "\n",
    "$C=Se^{-qT}N(d_1)-Ke^{-rT}N(d_2)$  \n",
    "$\\Theta=+qSe^{-qT}N(d_1)-rKe^{-rT}N(d_2)-Se^{-qT}N'(d_1)\\left(\\frac{dd_1}{dT}-\\frac{dd_2}{dT}\\right)$  \n",
    "$\\frac{dd_1}{dT}=-\\frac{log\\left(\\frac{S}{K}\\right)}{2\\sigma T\\sqrt{T}} + \\frac{r-q+\\frac{\\sigma^2}{2}}{2\\sigma\\sqrt{T}}$  \n",
    "$\\frac{dd_1}{dT}-\\frac{dd_2}{dT}=\\frac{\\frac{\\sigma^2}{2}}{\\sigma\\sqrt{T}}=\\frac{\\sigma}{2\\sqrt{T}}$  \n",
    "$\\Theta=qSe^{-qT}N(d_1)-rKe^{-rT}N(d_2)-\\frac{\\sigma S}{2\\sqrt{T}}e^{-qT-\\frac{d_1^2}{2}}$  \n",
    "\n",
    "Because the request is the relationship of theta versus moneyness, let's say r=q=0.  \n",
    "$\\Theta=-\\frac{\\sigma S}{2\\sqrt{T}}e^{-\\frac{d_1^2}{2}}$  \n",
    "\n",
    "$\\Theta$ is highest when $e^{-\\frac{d_1^2}{2}}$ is highest. $\\\\\n",
    "\\implies e^{\\frac{d_1^2}{2}}$ is lowest. $\\\\\n",
    "\\implies d_1^2$ is lowest.  \n",
    "$\\implies |log(S/K)+\\sigma^2T/2|$ is lowest.  \n",
    "$log(S/K)=-\\sigma^2T/2$  \n"
   ]
  },
  {
   "cell_type": "markdown",
   "metadata": {},
   "source": [
    "**Q12** What is implied volatility? What is a volatility smile? How about a volatility skew?  \n",
    "\n",
    "Volatility used to match the market price of an option is called Implied Volatility.\n",
    "Volatility smile is caused due to the fact that different options of different strikes price with different volatilities, with implied vol for at the money options being the lowest. For Stocks the smile is steeper for S<K. For commodities the smile is steeper for S>K.\n",
    "\n",
    "Volatility Skew???\n",
    "---\n",
    "\n"
   ]
  },
  {
   "cell_type": "markdown",
   "metadata": {},
   "source": [
    "**Q13**. What is the Gamma of an option? Why is it preferable to have small Gamma? Why is the Gamma of plain vanilla options positive?\n",
    "\n",
    "What is the Gamma of an option?  \n",
    "Gamma is the sensitivity of delta of an option.  \n",
    "$\\Delta=e^{-qT}N(d_1)$  \n",
    "$\\Gamma=e^{-qT}N'(d_1)\\frac{dd_1}{dS}$  \n",
    "$\\frac{dd_1}{dS}=\\frac{1}{\\sigma S\\sqrt{T}}$  \n",
    "$\\Gamma=e^{-qT}e^{-\\frac{d_1^2}{2}}\\frac{1}{\\sigma S\\sqrt{T}}$  \n",
    "$\\Gamma=e^{-qT-\\frac{d_1^2}{2}}\\frac{1}{\\sigma S\\sqrt{T}}$  \n",
    "\n",
    "Why is it preferable to have small Gamma?  \n",
    "Small gamma is preferable as it is easier to create stable portfolio that would not need frequent delta hedging.  \n",
    "High gamma implies that delta is very sensitive to underlying stock price. Thus when the stock price moves, a delta hedged portfolio would need re-adjustment as the prior delta would not hold anymore. Thus a small gamma is preferred.\n",
    "\n",
    "Why is the Gamma of plain vanilla options positive?  \n",
    "Delta tends to increase as we go from out of the money to in the money for call options(that is as stock price increases). It is the same for put options but in absolute terms, thus it's delta increases as the stock price goes from in the in the money to out of the money.\n"
   ]
  },
  {
   "cell_type": "markdown",
   "metadata": {},
   "source": [
    "**Q14**. When are a European call and a European put worth the same? (The options are written on the same\n",
    "asset and have the same strike and maturity.) What is the intuition behind this result?  \n",
    "\n",
    "One case when Call and Put Options price the same is ATM options when r=q. As the stock yields risk free rate it should be risk free, thus the probability of Stock going up or down should be the same.  \n"
   ]
  },
  {
   "cell_type": "markdown",
   "metadata": {},
   "source": [
    "**Q15** What is the two year volatility of an asset with 30% six months volatility?\n",
    "\n",
    "$0.3/\\sqrt{0.5}=v_2/\\sqrt{2}\\\\\n",
    "\\implies v_2=0.3\\sqrt{4}\\\\\n",
    "\\implies v_2=0.3*2=60\\%$\n"
   ]
  },
  {
   "cell_type": "markdown",
   "metadata": {},
   "source": [
    "**Q16**. How do you value an interest rate swap?\n",
    "\n",
    "Price each leg of the swap like a bond and net out to get the price of a swap.  \n"
   ]
  },
  {
   "cell_type": "markdown",
   "metadata": {},
   "source": [
    "**Q17**. By how much will the price of a ten year zero coupon bond change if the yield increases  ten basis points?\n",
    "\n",
    "Duration of a ten year ZC bond is 10.\n",
    "D=-1/PdP/dr\n",
    "Change in bond price  -DP*dr=-10*10/10000P=-P/100.\n",
    "\n",
    "Thus change in Bond price is 1%."
   ]
  },
  {
   "cell_type": "markdown",
   "metadata": {},
   "source": [
    "**Q18**. A five year bond with 3.5 years duration is 102. What is the value of the bond if the yield decreases by fifty basis points?\n",
    "\n",
    "Change in P = -3.5*102*(-50/10000) =3.5*1.02*0.50=3.57*0.5=1.785\n",
    "\n",
    "New Price of the Bond is 102+1.785=103.785"
   ]
  },
  {
   "cell_type": "markdown",
   "metadata": {},
   "source": [
    "**Q19**. What is a forward contract? What is the forward price?\n",
    "\n",
    "Same as futures but there is no daily MTM netting in a forward contract. And it is an OTC instrument. Forward Price is the Settlement Price that the parties agrees to buy/sell the underlying at Expiration."
   ]
  },
  {
   "cell_type": "markdown",
   "metadata": {},
   "source": [
    "**Q20**. What is the forward price for treasury futures contracts? What is the forward price for commodities\n",
    "futures contracts?\n",
    "\n"
   ]
  },
  {
   "cell_type": "markdown",
   "metadata": {},
   "source": [
    "**Q21**. What is a Eurodollar futures contract?\n",
    "\n",
    "Contract to exchange a fixed notional dollars into euros at contractual exchange-rate at the time of the expiry of the contract, with a daily MTM."
   ]
  },
  {
   "cell_type": "markdown",
   "metadata": {},
   "source": [
    "**Q22**. What are the most important differences between forward contracts and futures contracts?\n",
    "\n",
    "Futures|Forwards\n",
    "---|---\n",
    "Exchange Traded| Over the counter\n",
    "Daily MTM|Only exchange at expiry\n",
    "No Counterparty Credit Risk|Credit Risk\n"
   ]
  },
  {
   "cell_type": "markdown",
   "metadata": {},
   "source": [
    "**Q23**. What is the ten-day 99% VaR of a portfolio with a five-day 98% VaR of $10 million?\n"
   ]
  },
  {
   "cell_type": "code",
   "execution_count": 24,
   "metadata": {},
   "outputs": [
    {
     "name": "stdout",
     "output_type": "stream",
     "text": [
      "2.0537489106318225\n",
      "2.3263478740408408\n",
      "11327323.715171954\n",
      "16019254.82338657\n"
     ]
    }
   ],
   "source": [
    "from scipy.stats import norm\n",
    "X1=norm.ppf(0.98)\n",
    "X2=norm.ppf(0.99)\n",
    "print(X1)\n",
    "print(X2)\n",
    "Var1=10**7\n",
    "Var2=Var1/X1*X2\n",
    "print(Var2)\n",
    "Var10day=Var2/(5**0.5) * (10**0.5)\n",
    "print(Var10day)"
   ]
  },
  {
   "cell_type": "markdown",
   "metadata": {},
   "source": [
    "### Brain Teasers"
   ]
  },
  {
   "cell_type": "markdown",
   "metadata": {},
   "source": [
    "**Q1** A flea is going between two points which are 100 inches apart by jumping (always in the same direction) either one inch or two inches at a time. How many different paths can the flea travel by?\n",
    "\n",
    "100 1-inch           -> 1  \n",
    "98  1-inch + 1 2inch -> $^{99}C_1$  \n",
    "96  1-inch + 2 2inch -> $^{97}C_2$  \n",
    "94  1-inch + 3 2inch ->$^{95}C_3$  \n",
    ".  \n",
    ".  \n",
    "36  1-inch + 32 2inch->$^{37}C_32$  \n",
    "34  1-inch + 33 2inch->$^{35}C_33$  \n",
    "32  1-inch + 34 2inch->$^{35}C_32$  \n",
    "30  1-inch + 35 2inch->$^{36}C_30$  \n",
    "28  1-inch + 36 2inch->$^{37}C_28$  \n",
    ".  \n",
    ".  \n",
    "2   1-inch + 49 2inch->$^{50}C_2$  \n",
    "0   1-inch + 50 2inch->1  \n",
    "\n",
    "$\\sum_{i=0}^n{^nC_i}=2^n$  \n",
    "\n",
    "$(1+x)^n=\\sum_{i=0}^n{^nC_ix^i}$  \n",
    "$(1+1)^n=\\sum_{i=0}^n{^nC_i1^i}$  \n",
    "$2^n=\\sum_{i=0}^n{^nC_i1^i}$  \n",
    "$\\sum_{i=0}^n{^nC_i}=2^n$  \n",
    "\n",
    "\n",
    "Ans: $2^50$\n",
    "Consider that the flea covers the whole path by jumping 2 inches. Now if we can solve the problem by choosing none to all of the 2inch paths to be split up or for the flea to take 1 inch paths. Thus it should be a simple problem of choosing 50 2-inch paths, 0 to 50 of them.\n"
   ]
  },
  {
   "cell_type": "markdown",
   "metadata": {},
   "source": [
    "**Q2**. I have a bag containing three pancakes: one golden on both sides, one burnt on both sides, and one\n",
    "golden on one side and burnt on the other. You shake the bag, draw a pancake at random, look at one side, and notice that it is golden. What is the probability that the other side is golden?\n",
    "\n",
    "P(gg)=1/3  \n",
    "P(gb)=1/3  \n",
    "P(bb)=1/3  \n",
    "\n",
    "P(g1)=2/3\n",
    "P(b1)=2/3\n",
    "\n",
    "$P(A/B)=\\frac{P(A\\bigcap B)}{P(B)}$  \n",
    "$P(g2/g1)=\\frac{P(gg)}{P(g1)}$  \n",
    "$P(g2/g1)=\\frac{1/3}{2/3}$  \n",
    "$P(g2/g1)=1/2$  \n"
   ]
  },
  {
   "cell_type": "markdown",
   "metadata": {},
   "source": [
    "**Q3**. Alice and Bob are playing heads and tails, Alice tosses n+1 coins, Bob tosses n coins. The coins are\n",
    "fair. What is the probability that Alice will have strictly more heads than Bob?\n",
    "\n",
    "$P(A=1)={^{n+1}}C_1\\frac{1}{2^{n+1}}$  \n",
    "$P(B=0)={^{n}}C_0\\frac{1}{2^{n}}$  \n",
    "  \n",
    "$P(A=2)=\\frac{1}{2^{n+1}}{^{n+1}}C_2$  \n",
    "$P(B<2)=\\frac{1}{2^{n}}({^n}C_0+{^n}C_1)$  \n",
    "  \n",
    "$P(A=3)=\\frac{1}{2^{n+1}}{^{n+1}}C_3$  \n",
    "$P(B<3)=\\frac{1}{2^{n}}({^n}C_0+{^n}C_1+{^n}C_2)$  \n",
    "\n",
    ".  \n",
    ".  \n",
    "$P(A=n)=\\frac{1}{2^{n+1}}{^{n+1}}C_n$  \n",
    "$P(B<n)=\\frac{1}{2^{n}}(2^n-{^{n}}C_0)$  \n",
    "\n",
    "So there is a symmetry here  \n",
    "$T_1=P(A=1)*P(B=0)={^{n+1}}C_1\\frac{1}{2^{n+1}} {^{n}}C_0\\frac{1}{2^{n}} $  \n",
    "$T_n=P(A=n)*P(B<n)={^{n+1}}C_1\\frac{1}{2^{n+1}} \\left(\\frac{1}{2^{n}}(2^n-{^{n}}C_0) \\right)$  \n",
    "\n",
    "$T_1+T_n={^{n+1}}C_1\\frac{1}{2^{n+1}}$  \n",
    "$T_2+T_n-1={^{n+1}}C_2\\frac{1}{2^{n+1}}$  \n",
    "\n",
    "if n is even\n",
    "$T_{n/2}+T_{n/2+1}={^{n+1}}C_{n/2}\\frac{1}{2^{n+1}}$  \n",
    "\n",
    "if n is odd\n",
    "$T_{n/2}+T_{n/2-1}={^{n+1}}C_{n/2}\\frac{1}{2^{n+1}}$  \n"
   ]
  }
 ],
 "metadata": {
  "kernelspec": {
   "display_name": "Python 3",
   "language": "python",
   "name": "python3"
  },
  "language_info": {
   "codemirror_mode": {
    "name": "ipython",
    "version": 3
   },
   "file_extension": ".py",
   "mimetype": "text/x-python",
   "name": "python",
   "nbconvert_exporter": "python",
   "pygments_lexer": "ipython3",
   "version": "3.6.1"
  }
 },
 "nbformat": 4,
 "nbformat_minor": 2
}
