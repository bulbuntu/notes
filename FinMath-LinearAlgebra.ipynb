{
 "cells": [
  {
   "cell_type": "markdown",
   "metadata": {
    "colab_type": "text",
    "id": "10IBbFh2mNFz"
   },
   "source": [
    "Linear Algebra\n",
    "==\n",
    "\n",
    "Lesson notes from https://youtu.be/9YtmGy-wfE4\n"
   ]
  },
  {
   "cell_type": "markdown",
   "metadata": {
    "colab_type": "text",
    "id": "PH8e9wTNmNFz"
   },
   "source": [
    "### Cheat Sheet\n",
    "\n",
    "$Av=λv$ Where $A$ is a Transitional matrix that scales vector in $v$ space by $λ$  \n",
    "$λ$ is called the eigen value and $v$ the corresponding eigen vector for transitional matrix A  \n",
    "$|A-λI|$ can used to evaluate eigen values for a given transitional matrix A. And thus also the corresponding eigen vectors.  \n",
    "**Eigen Value Decomposition**  \n",
    "If matrix $A$ is symmetrical then  \n",
    "* all $λ$ would be real.\n",
    "* $A=UDU^T$  \n",
    "Where is D is a diagonal matrix with eigen values in the diagonal and U is has the eigen vectors in the corresponding columns, this is called Diagonalisation of a matrix.  \n",
    "\n",
    "**Single Value Decomposition**  \n",
    "For any non-symmetrical matrix $A_m*n$  \n",
    "$A_{m*n}=U_{m*m}\\sum_{m*n}V_{n*n}^T$  \n",
    "Simplified as for a matrix $A_{m*n}$ where $m<n$     \n",
    "$A_{m*n}=U_{m*m}\\sum_{m*m}V_{n*m}^T$   \n",
    "Given solution for $A^TA=V_sDV_s^{-1}$  \n",
    "From $V_s$ can be discard the vectors $i>m$ till $i=n$ and get $A$'s $V$  \n",
    "From $D$ get $\\sum$ by taking squareroot of all the positive λs (call it $\\sigma$)and taking largest $m$ of $n$.  \n",
    "Now get $U$ by $u_i=\\frac{Av_i}{\\sigma_i}$  \n",
    "**Importantly we need to make sure that $U$ and $V$ are normalized to vector length of 1***  \n",
    "\n",
    "\n",
    "$\\qquad\\gamma _{A}(\\lambda )=n-\\operatorname {rank} (A-\\lambda I).$"
   ]
  },
  {
   "cell_type": "markdown",
   "metadata": {
    "colab_type": "text",
    "id": "CxsSFN75zy-U"
   },
   "source": [
    "### Matrix Multiplication\n",
    "\n",
    "$\\left[\\begin{matrix} 2\\\\3\\end{matrix}\\right]\\left[\\begin{matrix} 1&2\\end{matrix}\\right]=\\left[\\begin{matrix} 2&4\\\\3&6\\end{matrix}\\right]$\n",
    "\n",
    "Matrix multiplication AB=C can be looked as  \n",
    "C being a combination of columns of A.  \n",
    "C being a combination of rows of B.\n",
    "\n",
    "$\\left[\\begin{matrix} 2&1\\\\3&2\\end{matrix}\\right]\\left[\\begin{matrix} 1&2\\\\0&0\\end{matrix}\\right]=\\left[\\begin{matrix} 2&4\\\\3&6\\end{matrix}\\right]$  \n",
    "\n",
    "Here C is still the combination of columns of A, just that the second multiplies is zero, so we get the same result.  \n",
    "Here C is still the combination of rows of B, just that the second row is zero, so we get the same result.\n",
    "\n",
    "$\\left[\\begin{matrix} 2&1\\\\3&2\\end{matrix}\\right]\\left[\\begin{matrix} 1&2\\\\1&1\\end{matrix}\\right]=\\left[\\begin{matrix} 3&5\\\\5&8\\end{matrix}\\right]$  "
   ]
  },
  {
   "cell_type": "markdown",
   "metadata": {
    "colab_type": "text",
    "id": "hzoGivWmXXKP"
   },
   "source": [
    "#### Lecture 1 "
   ]
  },
  {
   "cell_type": "code",
   "execution_count": 15,
   "metadata": {
    "cellView": "code",
    "colab": {
     "autoexec": {
      "startup": false,
      "wait_interval": 0
     },
     "base_uri": "https://localhost:8080/",
     "height": 336,
     "output_extras": [
      {
       "item_id": 1
      }
     ]
    },
    "colab_type": "code",
    "executionInfo": {
     "elapsed": 457,
     "status": "ok",
     "timestamp": 1521072121515,
     "user": {
      "displayName": "Kalyan Kaza",
      "photoUrl": "//lh3.googleusercontent.com/-KMQMBEgB4x0/AAAAAAAAAAI/AAAAAAAAHTw/GLg4kh1PFTY/s50-c-k-no/photo.jpg",
      "userId": "106862100495924346167"
     },
     "user_tz": 240
    },
    "id": "BJrkYA8A9g4C",
    "outputId": "060301fd-82db-406b-8070-d13190131cfe"
   },
   "outputs": [
    {
     "data": {
      "text/html": [
       "<iframe width=\"560\" height=\"315\" src=\"https://www.youtube.com/embed/ZK3O402wf1c?rel=0\" frameborder=\"0\" allow=\"autoplay; encrypted-media\" allowfullscreen></iframe>"
      ],
      "text/plain": [
       "<IPython.core.display.HTML object>"
      ]
     },
     "metadata": {},
     "output_type": "display_data"
    }
   ],
   "source": [
    "%%HTML\n",
    "<iframe width=\"560\" height=\"315\" src=\"https://www.youtube.com/embed/ZK3O402wf1c?rel=0\" frameborder=\"0\" allow=\"autoplay; encrypted-media\" allowfullscreen></iframe>"
   ]
  },
  {
   "cell_type": "markdown",
   "metadata": {
    "colab_type": "text",
    "id": "hYlLzbWjid_N"
   },
   "source": [
    "#### Problems\n",
    "Problem 3.1: Add AB to AC and compare with A(B + C) :   \n",
    "$A=\\left[\\begin{matrix}\n",
    "1&2\\\\\n",
    "3&4\\end{matrix}\\right]\n",
    "\\quad B=\\left[\\begin{matrix}\n",
    "1&0\\\\\n",
    "0&0\\end{matrix}\\right]\n",
    "\\quad C=\\left[\\begin{matrix}\n",
    "0&0\\\\\n",
    "5&6\n",
    "\\end{matrix}\\right]$\n",
    "\n",
    "$AB=\\left[\\begin{matrix}\n",
    "1&0\\\\\n",
    "3&0\\end{matrix}\\right]\n",
    "\\quad AC=\\left[\\begin{matrix}\n",
    "10&12\\\\\n",
    "20&24\\end{matrix}\\right]\n",
    "\\quad AB+AC=\\left[\\begin{matrix}\n",
    "11&12\\\\\n",
    "23&24\\end{matrix}\\right]\n",
    "$  \n",
    "$B+C=\\left[\\begin{matrix}\n",
    "1&0\\\\\n",
    "5&6\\end{matrix}\\right]\n",
    "\\quad A(B+C)=\\left[\\begin{matrix}\n",
    "11&12\\\\\n",
    "23&24\\end{matrix}\\right]\n",
    "$  \n"
   ]
  },
  {
   "cell_type": "markdown",
   "metadata": {
    "colab_type": "text",
    "id": "w1IJ8u773djQ"
   },
   "source": [
    "### Singular Matrix\n",
    "\n",
    "If we can find a vector x, such that Ax=0, where x is not zero vector, then...  \n",
    "\n",
    "$Ax=0\\quad\\text{mulitply both sides by }A^-1\\\\\n",
    "A^{-1}Ax=A^{-1}0\\\\\n",
    "Ix=0$  \n",
    "As x is not a zero vector, right side should really be x itself. Thus A^{-1} doesn't exist.\n",
    "\n",
    "Ax=0 means that there is a combination of columns of A that is zero. That "
   ]
  },
  {
   "cell_type": "markdown",
   "metadata": {
    "colab_type": "text",
    "id": "sTa1lbFGz3ID"
   },
   "source": [
    "### Gauss-Jordan Elimination"
   ]
  },
  {
   "cell_type": "markdown",
   "metadata": {
    "colab_type": "text",
    "id": "AI1QvRVYQP-p"
   },
   "source": [
    "$A=\\left[\\begin{matrix} 1&2\\\\2&3\\end{matrix}\\right]$  \n",
    "Let's consider a matrix E such that EA=I  \n",
    "$E[A|I]=[EA|EI]=[I|E]=[I|A^{-1}]$  \n",
    "Since $EA=I, E=A^{-1}$  \n",
    "\n",
    "So let'se do some transformations as below:-\n",
    "\n",
    "$\\left[\\begin{array}{cc|cc} 1&2&1&0\\\\2&3&0&1\\end{array}\\right]\\overrightarrow{r_2-2r_1}\\left[\\begin{array}{cc|cc} 1&2&1&0\\\\0&-1&-2&1\\end{array}\\right]\\overrightarrow{r_1+2r_2}\\left[\\begin{array}{cc|cc} 1&0&-3&2\\\\0&-1&-2&1\\end{array}\\right]\\overrightarrow{r_2-2r_2}\\left[\\begin{array}{cc|cc} 1&0&-3&2\\\\0&1&2&-1\\end{array}\\right]$  \n",
    "\n",
    "First transformation is where Gaussian transformation ends, but Jacobian transfomation moves ahead to get to I matrix.  \n",
    "$A^{-1}=\\left[\\begin{matrix} -3&2\\\\2&-1\\end{matrix}\\right]$  \n",
    "\n",
    "$AA^{-1}=\\left[\\begin{matrix} 1&2\\\\2&3\\end{matrix}\\right]\\left[\\begin{matrix} -3&2\\\\2&-1\\end{matrix}\\right]=\\left[\\begin{matrix} 1&0\\\\0&1\\end{matrix}\\right]$\n",
    "\n",
    "\n"
   ]
  },
  {
   "cell_type": "markdown",
   "metadata": {
    "colab_type": "text",
    "id": "XfHUfm1SXljE"
   },
   "source": [
    "#### Lecture 2 Video"
   ]
  },
  {
   "cell_type": "code",
   "execution_count": 16,
   "metadata": {
    "cellView": "both",
    "colab": {
     "autoexec": {
      "startup": false,
      "wait_interval": 0
     },
     "base_uri": "https://localhost:8080/",
     "height": 336,
     "output_extras": [
      {
       "item_id": 1
      }
     ]
    },
    "colab_type": "code",
    "executionInfo": {
     "elapsed": 499,
     "status": "ok",
     "timestamp": 1521072012171,
     "user": {
      "displayName": "Kalyan Kaza",
      "photoUrl": "//lh3.googleusercontent.com/-KMQMBEgB4x0/AAAAAAAAAAI/AAAAAAAAHTw/GLg4kh1PFTY/s50-c-k-no/photo.jpg",
      "userId": "106862100495924346167"
     },
     "user_tz": 240
    },
    "id": "9gub0HeH84Uc",
    "outputId": "118509b0-84f0-4f10-cc7e-aea688d9b0f4"
   },
   "outputs": [
    {
     "data": {
      "text/html": [
       "<iframe width=\"560\" height=\"315\" src=\"https://www.youtube.com/embed/QVKj3LADCnA?rel=0\" frameborder=\"0\" allow=\"autoplay; encrypted-media\" allowfullscreen></iframe>"
      ],
      "text/plain": [
       "<IPython.core.display.HTML object>"
      ]
     },
     "metadata": {},
     "output_type": "display_data"
    }
   ],
   "source": [
    "%%HTML\n",
    "<iframe width=\"560\" height=\"315\" src=\"https://www.youtube.com/embed/QVKj3LADCnA?rel=0\" frameborder=\"0\" allow=\"autoplay; encrypted-media\" allowfullscreen></iframe>"
   ]
  },
  {
   "cell_type": "markdown",
   "metadata": {
    "colab_type": "text",
    "id": "w8174y75XrCh"
   },
   "source": [
    "#### Lecture 3 Video"
   ]
  },
  {
   "cell_type": "code",
   "execution_count": 17,
   "metadata": {
    "cellView": "both",
    "colab": {
     "autoexec": {
      "startup": false,
      "wait_interval": 0
     },
     "base_uri": "https://localhost:8080/",
     "height": 336,
     "output_extras": [
      {
       "item_id": 1
      }
     ]
    },
    "colab_type": "code",
    "executionInfo": {
     "elapsed": 475,
     "status": "ok",
     "timestamp": 1521075547996,
     "user": {
      "displayName": "Kalyan Kaza",
      "photoUrl": "//lh3.googleusercontent.com/-KMQMBEgB4x0/AAAAAAAAAAI/AAAAAAAAHTw/GLg4kh1PFTY/s50-c-k-no/photo.jpg",
      "userId": "106862100495924346167"
     },
     "user_tz": 240
    },
    "id": "_nZ23FKE75Eo",
    "outputId": "4abac943-8b36-4e49-9a63-f11debd6fe93"
   },
   "outputs": [
    {
     "data": {
      "text/html": [
       "<iframe width=\"560\" height=\"315\" src=\"https://www.youtube.com/embed/FX4C-JpTFgY?rel=0\" frameborder=\"0\" allow=\"autoplay; encrypted-media\" allowfullscreen></iframe>"
      ],
      "text/plain": [
       "<IPython.core.display.HTML object>"
      ]
     },
     "metadata": {},
     "output_type": "display_data"
    }
   ],
   "source": [
    "%%HTML\n",
    "<iframe width=\"560\" height=\"315\" src=\"https://www.youtube.com/embed/FX4C-JpTFgY?rel=0\" frameborder=\"0\" allow=\"autoplay; encrypted-media\" allowfullscreen></iframe>"
   ]
  },
  {
   "cell_type": "markdown",
   "metadata": {
    "colab_type": "text",
    "id": "YMHscbWNUmkk"
   },
   "source": [
    "Problem 2.1: In the two-by-two system of linear equations below, what multiple of the first equation should be subtracted from the second equation\n",
    "when using the method of elimination? Convert this system of equations to matrix form, apply elimination (what are the pivots?), and use\n",
    "back substitution to find a solution. Try to check your work before looking up the answer.  \n",
    "2x + 3y = 5  \n",
    "6x + 15y = 12   \n",
    "**Ans:**  \n",
    "$Ax=b$  \n",
    "$\\left[\\begin{matrix} 2&3\\\\6&15\\end{matrix}\\right]\\left[\\begin{matrix} x\\\\y\\end{matrix}\\right]=\\left[\\begin{matrix} 5\\\\12\\end{matrix}\\right]\\\\\n",
    "\\left[\\begin{matrix} 2&3\\\\0&6\\end{matrix}\\right]\\left[\\begin{matrix} x\\\\y\\end{matrix}\\right]=\\left[\\begin{matrix} 5\\\\-3\\end{matrix}\\right]\\\\\n",
    "\\left[\\begin{matrix} 2&3\\\\0&1\\end{matrix}\\right]\\left[\\begin{matrix} x\\\\y\\end{matrix}\\right]=\\left[\\begin{matrix} 5\\\\-\\frac{3}{6}\\end{matrix}\\right]\\\\\n",
    "\\left[\\begin{matrix} 2&0\\\\0&1\\end{matrix}\\right]\\left[\\begin{matrix} x\\\\y\\end{matrix}\\right]=\\left[\\begin{matrix} 5+\\frac{3}{2}\\\\-\\frac{3}{6}\\end{matrix}\\right]\\\\\n",
    "\\left[\\begin{matrix} 1&0\\\\0&1\\end{matrix}\\right]\\left[\\begin{matrix} x\\\\y\\end{matrix}\\right]=\\left[\\begin{matrix} \\frac{5}{2}+\\frac{3}{4}\\\\-\\frac{3}{6}\\end{matrix}\\right]\\\\\n",
    "\\left[\\begin{matrix} 1&0\\\\0&1\\end{matrix}\\right]\\left[\\begin{matrix} x\\\\y\\end{matrix}\\right]=\\left[\\begin{matrix} \\frac{13}{4}\\\\-\\frac{1}{2}\\end{matrix}\\right]$"
   ]
  },
  {
   "cell_type": "markdown",
   "metadata": {
    "colab_type": "text",
    "id": "kPP16J-uW33M"
   },
   "source": [
    "**Problem 2.2:** (2.3 #29. Introduction to Linear Algebra: Strang) Find the triangular\n",
    "matrix E that reduces “Pascal’s matrix” to a smaller Pascal:\n",
    "$E\\left[\\begin{matrix} 1 &0& 0& 0\\\\\n",
    "1 &1& 0& 0\\\\\n",
    "1& 2& 1 &0\\\\\n",
    "1&3&3& 1\\end{matrix}\\right]=\\left[\n",
    "\\begin{matrix}\n",
    "1&0& 0& 0\\\\\n",
    "0 &1& 0& 0\\\\\n",
    "0& 1& 1& 0\\\\\n",
    "0& 1& 2& 1\n",
    "\\end{matrix}\n",
    "\\right]$  \n",
    "\n",
    "Which matrix M (multiplying several E’s) reduces Pascal all the way\n",
    "to I? \n",
    "\n",
    "$EA=B$  \n",
    "$E[A,I]=[EA,E]$\n",
    "\n",
    "$E[A,I]=[I,EI]$  \n",
    "$EA=I$  \n",
    "\n",
    "$\\left[\\begin{array}{cccc|cccc} 1 &0& 0& 0&1&0&0&0\\\\\n",
    "1 &1& 0& 0&0&1&0&0\\\\\n",
    "1& 2& 1 &0&0&0&1&0\\\\\n",
    "1&3&3& 1&0&0&0&1\\end{array}\\right]\n",
    "\\to\n",
    "\\left[\\begin{array}{cccc|cccc} \n",
    "1 & 0 & 0 & 0   &   1 & 0 & 0 & 0\\\\\n",
    "0 & 1 & 0 & 0   &   -1 & 1 & 0 & 0\\\\\n",
    "0 & 2 & 1 & 0   &   -1 & 0 & 1 & 0\\\\\n",
    "0 & 3 & 3 & 1   &   -1 & 0 & 0 & 1\\end{array}\\right]\n",
    "\\to\n",
    "\\left[\\begin{array}{cccc|cccc} \n",
    "1 & 0 & 0 & 0   &   1  & 0  & 0 & 0\\\\\n",
    "0 & 1 & 0 & 0   &   -1 & 1  & 0 & 0\\\\\n",
    "0 & 1 & 1 & 0   &   0  & -1 & 1 & 0\\\\\n",
    "0 & 1 & 3 & 1   &   1  & -2  & 0 & 1\\end{array}\\right]\n",
    "\\to\n",
    "\\left[\\begin{array}{cccc|cccc} \n",
    "1 & 0 & 0 & 0   &   1  & 0  & 0 & 0\\\\\n",
    "0 & 1 & 0 & 0   &   -1 & 1  & 0 & 0\\\\\n",
    "0 & 1 & 1 & 0   &   0  & -1 & 1 & 0\\\\\n",
    "0 & 1 & 2 & 1   &   0  & 0 & -1 & 1\\end{array}\\right]\n",
    "$\n",
    "\n",
    "**Problem 3.2:** (2.5 #24. Introduction to Linear Algebra: Strang) Use GaussJordan\n",
    "elimination on [U I] to find the upper triangular $U^{−1}$ :  \n",
    "\n",
    "$UU^{-1}=I\\qquad\n",
    "\\left[\\begin{matrix}\n",
    "1 & a & b\\\\\n",
    "0 & 1 & c\\\\\n",
    "0 & 0 & 1\\end{matrix}\\right]\n",
    "\\left[\\begin{matrix}\n",
    "\\\\\n",
    "x1 & x2 & x3\\\\\n",
    "\\\\ \n",
    "\\end{matrix}\\right]=\n",
    "\\left[\\begin{matrix}\n",
    "1 & 0 & 0\\\\\n",
    "0 & 1 & 0\\\\\n",
    "0 & 0 & 1\n",
    "\\end{matrix}\\right]$\n",
    "\n",
    "$\\left[\\begin{array}{ccc|ccc}\n",
    "1 & a & b   &   1 & 0 & 0\\\\\n",
    "0 & 1 & c   &   0 & 1 & 0\\\\\n",
    "0 & 0 & 1   &   0 & 0 & 1\\end{array}\\right]\n",
    "\\to\n",
    "\\left[\\begin{array}{ccc|ccc}\n",
    "1 & a & 0   &   1 & 0 & -b\\\\\n",
    "0 & 1 & 0   &   0 & 1 & -c\\\\\n",
    "0 & 0 & 1   &   0 & 0 & 1\\end{array}\\right]\n",
    "\\to\n",
    "\\left[\\begin{array}{ccc|ccc}\n",
    "1 & 0 & 0   &   1 & -a & -b\\\\\n",
    "0 & 1 & 0   &   0 & 1 & -c\\\\\n",
    "0 & 0 & 1   &   0 & 0 & 1\\end{array}\\right]\n",
    "$  \n",
    "\n",
    "$U^{-1}=\\left[\\begin{matrix}\n",
    "1 & -a & -b\\\\\n",
    "0 & 1 & -c\\\\\n",
    "0 & 0 & 1\\end{matrix}\\right]$\n",
    "\n"
   ]
  },
  {
   "cell_type": "markdown",
   "metadata": {
    "colab_type": "text",
    "id": "WAbqH8ZlDY8j"
   },
   "source": [
    "#### Calculation complexity of LU decomposition\n",
    "\n",
    "LU decomposition on a n x n matrix is an operation that has calculations of the order of approximately $n^3$.  \n",
    "Exmaple for a 100 x 100 matrix elimination of first column is an operation of 100^2 which is (multiplication and then substraction together). Then it boils down to operation on 99x99 matrix. Thus the whole operation considering there are no zeros is $\\displaystyle\\sum_{k=1}^n k^2=\\frac{n(n+1)(2n+1)}{6}$. Which is of the order $\\frac{n^3}{3}$. "
   ]
  },
  {
   "cell_type": "markdown",
   "metadata": {
    "colab_type": "text",
    "id": "pLIeItphzYXa"
   },
   "source": [
    "#### Row replacement and permutations\n",
    "Permutation of Identity Matrices: This is useful in understanding row exchanges when pivots are zero, which is not a useful condition for elimination process.\n",
    "\n",
    "$I_1=\\left[\\begin{matrix}\n",
    "1&0&0\\\\\n",
    "0&1&0\\\\\n",
    "0&0&1\\end{matrix}\\right]\\quad\n",
    "I_2=\\left[\\begin{matrix}\n",
    "0&1&0\\\\\n",
    "1&0&0\\\\\n",
    "0&0&1\\end{matrix}\\right]\\quad\n",
    "I_3=\\left[\\begin{matrix}\n",
    "0&0&1\\\\\n",
    "0&1&0\\\\\n",
    "1&0&0\\end{matrix}\\right]\\quad\n",
    "I_4=\\left[\\begin{matrix}\n",
    "1&0&0\\\\\n",
    "0&0&1\\\\\n",
    "0&1&0\\end{matrix}\\right]\\quad\n",
    "I_5=\\left[\\begin{matrix}\n",
    "0&1&0\\\\\n",
    "0&0&1\\\\\n",
    "1&0&0\\end{matrix}\\right]\\quad\n",
    "I_6=\\left[\\begin{matrix}\n",
    "0&0&1\\\\\n",
    "1&0&0\\\\\n",
    "0&1&0\\end{matrix}\\right]$\n",
    "\n",
    "All the above matrices are permutations of I. These can be considered as row exchange matrices. And Inverse of each of these matrices are themselves.  \n",
    "As if exchange row-1 and row-2, the inverse of such an operation is again an exchange of row-1 and row-2.  \n",
    "\n",
    "\n",
    "When we need row exchanges to maintain non zero pivots.\n",
    "\n",
    "$PA=LU$ where P is one the permutation matrices of $I$ as shown above. For a nxn matrix there are n! permutations possible."
   ]
  },
  {
   "cell_type": "markdown",
   "metadata": {
    "colab_type": "text",
    "id": "mi1HNlOnXzQy"
   },
   "source": [
    "#### Lecture 5 Video"
   ]
  },
  {
   "cell_type": "code",
   "execution_count": 18,
   "metadata": {
    "cellView": "both",
    "colab": {
     "autoexec": {
      "startup": false,
      "wait_interval": 0
     },
     "base_uri": "https://localhost:8080/",
     "height": 336,
     "output_extras": [
      {
       "item_id": 1
      }
     ]
    },
    "colab_type": "code",
    "executionInfo": {
     "elapsed": 1650,
     "status": "ok",
     "timestamp": 1521071605212,
     "user": {
      "displayName": "Kalyan Kaza",
      "photoUrl": "//lh3.googleusercontent.com/-KMQMBEgB4x0/AAAAAAAAAAI/AAAAAAAAHTw/GLg4kh1PFTY/s50-c-k-no/photo.jpg",
      "userId": "106862100495924346167"
     },
     "user_tz": 240
    },
    "id": "1HEjtLU57jd_",
    "outputId": "9c5959d6-6716-4251-9840-ef8d8c9e6126"
   },
   "outputs": [
    {
     "data": {
      "text/html": [
       "<iframe width=\"560\" height=\"315\" src=\"https://www.youtube.com/embed/JibVXBElKL0\" frameborder=\"0\" allow=\"autoplay; encrypted-media\" allowfullscreen></iframe>"
      ],
      "text/plain": [
       "<IPython.core.display.HTML object>"
      ]
     },
     "metadata": {},
     "output_type": "display_data"
    }
   ],
   "source": [
    "%%HTML\n",
    "<iframe width=\"560\" height=\"315\" src=\"https://www.youtube.com/embed/JibVXBElKL0\" frameborder=\"0\" allow=\"autoplay; encrypted-media\" allowfullscreen></iframe>"
   ]
  },
  {
   "cell_type": "markdown",
   "metadata": {
    "colab_type": "text",
    "id": "mN-ig_a-GEnp"
   },
   "source": [
    "### LU Decomposition\n",
    "By example\n"
   ]
  },
  {
   "cell_type": "markdown",
   "metadata": {
    "colab_type": "text",
    "id": "lfHmBaw2GUU7"
   },
   "source": [
    "#### Problem 4.1: \n",
    "What matrix E puts A into triangular form EA = U? Multiply by $E^{−1} = L$ to factor A into LU.  \n",
    "$\\left[\\begin{matrix}\n",
    "1 & 3 & 0\\\\\n",
    "2 & 4 & 0\\\\\n",
    "2 & 0 & 1\n",
    "\\end{matrix}\\right]$\n",
    "\n",
    "Decomposing gives  \n",
    "\n",
    "$\\left[\\begin{matrix}\n",
    "1 & 3 & 0\\\\\n",
    "2 & 4 & 0\\\\\n",
    "2 & 0 & 1\n",
    "\\end{matrix}\\right]\n",
    "\\to\n",
    "\\left[\\begin{matrix}\n",
    "1 & 3  & 0\\\\\n",
    "0 & -2 & 0\\\\\n",
    "0 & -6 & 1\n",
    "\\end{matrix}\\right]\n",
    "\\to\n",
    "\\left[\\begin{matrix}\n",
    "1 & 3  & 0\\\\\n",
    "0 & -2 & 0\\\\\n",
    "0 & 0 & 1\n",
    "\\end{matrix}\\right]\n",
    "$  \n",
    "Transformations we applied are  \n",
    "$\\left[\\begin{matrix}\n",
    "1 & 0 & 0\\\\\n",
    "0 & 1 & 0\\\\\n",
    "0 & 0 & 1\n",
    "\\end{matrix}\\right]\n",
    "\\overrightarrow{T_1}\n",
    "\\left[\\begin{matrix}\n",
    " 1 & 0 & 0\\\\\n",
    "-2 & 1 & 0\\\\\n",
    "-2 & 0 & 1\n",
    "\\end{matrix}\\right]\n",
    "\\overrightarrow{T_2}\n",
    "\\left[\\begin{matrix}\n",
    "1 &  0  & 0\\\\\n",
    "0 &  1  & 0\\\\\n",
    "0 & -3 & 1\n",
    "\\end{matrix}\\right]$  \n",
    "\n",
    "$EA=U\\\\\\implies E^{-1}EA=A=E^{-1}U\\\\\\implies A=E^{-1}U=LU\\\\\\implies E^{-1}=L$\n",
    "\n",
    "Thus for L we just need to reverse the transformations and find that $E^{-1}$...\n",
    "\n",
    "Using the transformations above for getting to U:  \n",
    "$L=\\left[\\begin{matrix}\n",
    " 1 & 0 & 0\\\\\n",
    "-2 & 1 & 0\\\\\n",
    "-2 & 0 & 1\n",
    "\\end{matrix}\\right]^{-1}\n",
    "\\left[\\begin{matrix}\n",
    "1 &  0  & 0\\\\\n",
    "0 &  1  & 0\\\\\n",
    "0 & -3  & 1\n",
    "\\end{matrix}\\right]^{-1}\n",
    "=\n",
    "\\left[\\begin{matrix}\n",
    " 1 & 0 & 0\\\\\n",
    " 2 & 1 & 0\\\\\n",
    " 2 & 0 & 1\n",
    "\\end{matrix}\\right]\n",
    "\\left[\\begin{matrix}\n",
    "1 &  0  & 0\\\\\n",
    "0 &  1  & 0\\\\\n",
    "0 &  3 & 1\n",
    "\\end{matrix}\\right]\n",
    "=\n",
    "\\left[\\begin{matrix}\n",
    "1 &  0  & 0\\\\\n",
    "2 &  1  & 0\\\\\n",
    "2 &  3  & 1\n",
    "\\end{matrix}\\right]\n",
    "$  \n",
    "\n",
    "Now let's see if we did this properly...\n",
    "\n",
    "$LU=\\left[\\begin{matrix}\n",
    "1 &  0  & 0\\\\\n",
    "2 &  1  & 0\\\\\n",
    "2 &  3  & 1\n",
    "\\end{matrix}\\right]\n",
    "\\left[\\begin{matrix}\n",
    "1 & 3  & 0\\\\\n",
    "0 & -2 & 0\\\\\n",
    "0 & 0 & 1\n",
    "\\end{matrix}\\right]\n",
    "=\n",
    "\\left[\\begin{matrix}\n",
    "1 & 3  & 0\\\\\n",
    "2 & 4 & 0\\\\\n",
    "2 & 0 & 1\n",
    "\\end{matrix}\\right]\n",
    "$  \n",
    "\n",
    "And $E=T_2T_1$  "
   ]
  },
  {
   "cell_type": "markdown",
   "metadata": {
    "colab_type": "text",
    "id": "HYpwEheVPr5R"
   },
   "source": [
    "#### Problem 4.2:\n",
    "(2.6 #13. Introduction to Linear Algebra: Strang) Compute L and U for the symmetric matrix\n",
    "\n",
    "$A=\n",
    "\\left[\\begin{matrix}\n",
    "a & a & a & a\\\\\n",
    "a & b & b & b\\\\\n",
    "a & b & c & c\\\\\n",
    "a & b & c & d\n",
    "\\end{matrix}\\right]$\n",
    "Find four conditions on a, b, c, d to get A = LU with four pivots.\n",
    "\n",
    "**Ans:**  \n",
    "$\\left[\\begin{matrix}\n",
    "a & a & a & a\\\\\n",
    "a & b & b & b\\\\\n",
    "a & b & c & c\\\\\n",
    "a & b & c & d\n",
    "\\end{matrix}\\right]\n",
    "\\to\n",
    "\\left[\\begin{matrix}\n",
    "a & a   & a   & a\\\\\n",
    "0 & b-a & b-a & b-a\\\\\n",
    "0 & b-a & c-a & c-a\\\\\n",
    "0 & b-a & c-a & d-a\n",
    "\\end{matrix}\\right]\n",
    "\\to\n",
    "\\left[\\begin{matrix}\n",
    "a & a   & a       & a\\\\\n",
    "0 & b-a & b-a     & b-a\\\\\n",
    "0 & 0   & c-b & c-b\\\\\n",
    "0 & 0   & c-b & d-b\n",
    "\\end{matrix}\\right]\n",
    "\\to\n",
    "\\left[\\begin{matrix}\n",
    "a & a   & a       & a\\\\\n",
    "0 & b-a & b-a     & b-a\\\\\n",
    "0 & 0   & c-b & c-b\\\\\n",
    "0 & 0   & 0   & d-c\n",
    "\\end{matrix}\\right]\n",
    "$  \n",
    "And the transformations applied are..  \n",
    "$\\left[\\begin{matrix}\n",
    "1 & 0 & 0 & 0\\\\\n",
    "0 & 1 & 0 & 0\\\\\n",
    "0 & 0 & 1 & 0\\\\\n",
    "0 & 0 & 0 & 1\\\\\n",
    "\\end{matrix}\\right]\n",
    "\\overrightarrow{T_1}\n",
    "\\left[\\begin{matrix}\n",
    " 1 & 0 & 0 & 0\\\\\n",
    "-1 & 1 & 0 & 0\\\\\n",
    "-1 & 0 & 1 & 0\\\\\n",
    "-1 & 0 & 0 & 1\\\\\n",
    "\\end{matrix}\\right]\n",
    "\\overrightarrow{T_2}\n",
    "\\left[\\begin{matrix}\n",
    "1 & 0  & 0 & 0\\\\\n",
    "0 & 1  & 0 & 0\\\\\n",
    "0 & -1 & 1 & 0\\\\\n",
    "0 & -1 & 0 & 1\\\\\n",
    "\\end{matrix}\\right]\n",
    "\\overrightarrow{T_3}\n",
    "\\left[\\begin{matrix}\n",
    "1 & 0 & 0 & 0\\\\\n",
    "0 & 1 & 0 & 0\\\\\n",
    "0 & 0 & 1 & 0\\\\\n",
    "0 & 0 & -1 & 1\\\\\n",
    "\\end{matrix}\\right]=T_3T_2T_1=\\\\\n",
    "\\left[\\begin{matrix}\n",
    "  1 &  0 & 0 & 0\\\\\n",
    " -1 &  1 & 0 & 0\\\\\n",
    " -1 & -1 & 1 & 0\\\\\n",
    " -1 & -1 & 0 & 1\\\\\n",
    "\\end{matrix}\\right]\\to\n",
    "\\left[\\begin{matrix}\n",
    "1 & 0 & 0 & 0\\\\\n",
    "0 & 1 & 0 & 0\\\\\n",
    "0 & 0 & 1 & 0\\\\\n",
    "0 & 0 & -1 & 1\\\\\n",
    "\\end{matrix}\\right]=\\\\\n",
    "\\left[\\begin{matrix}\n",
    " 1 &  0 &  0 & 0\\\\\n",
    "-1 &  1 &  0 & 0\\\\\n",
    "-1 & -1 &  1 & 0\\\\\n",
    "-1 & -1 & -1 & 1\\\\\n",
    "\\end{matrix}\\right]\n",
    "$  \n",
    "\n",
    "  \n",
    "And inverting the transformations we get applied are..  \n",
    "$T_1^{-1}T_2^{-1}T_3^{-1}=\\\\\n",
    "\\left[\\begin{matrix}\n",
    " 1 & 0 & 0 & 0\\\\\n",
    "-1 & 1 & 0 & 0\\\\\n",
    "-1 & 0 & 1 & 0\\\\\n",
    "-1 & 0 & 0 & 1\\\\\n",
    "\\end{matrix}\\right]^{-1}\n",
    "\\left[\\begin{matrix}\n",
    "1 &  0  & 0 & 0\\\\\n",
    "0 &  1  & 0 & 0\\\\\n",
    "0 & -1  & 1 & 0\\\\\n",
    "0 & -1  & 0 & 1\\\\\n",
    "\\end{matrix}\\right]^{-1}\n",
    "\\left[\\begin{matrix}\n",
    "1 & 0 & 0 & 0\\\\\n",
    "0 & 1 & 0 & 0\\\\\n",
    "0 & 0 & 1 & 0\\\\\n",
    "0 & 0 & -1 & 1\\\\\n",
    "\\end{matrix}\\right]^{-1}\\\\\n",
    "=\n",
    "\\left[\\begin{matrix}\n",
    " 1 & 0 & 0 & 0\\\\\n",
    " 1 & 1 & 0 & 0\\\\\n",
    " 1 & 0 & 1 & 0\\\\\n",
    " 1 & 0 & 0 & 1\\\\\n",
    "\\end{matrix}\\right]\n",
    "\\left[\\begin{matrix}\n",
    "1 & 0  & 0 & 0\\\\\n",
    "0 & 1  & 0 & 0\\\\\n",
    "0 & 1  & 1 & 0\\\\\n",
    "0 & 1  & 0 & 1\\\\\n",
    "\\end{matrix}\\right]\n",
    "\\left[\\begin{matrix}\n",
    "1 & 0 & 0 & 0\\\\\n",
    "0 & 1 & 0 & 0\\\\\n",
    "0 & 0 & 1 & 0\\\\\n",
    "0 & 0 & 1 & 1\\\\\n",
    "\\end{matrix}\\right]\\\\\n",
    "=\n",
    "\\left[\\begin{matrix}\n",
    "1 & 0  & 0 & 0\\\\\n",
    "1 & 1  & 0 & 0\\\\\n",
    "1 & 1  & 1 & 0\\\\\n",
    "1 & 1  & 0 & 1\\\\\n",
    "\\end{matrix}\\right]\n",
    "\\left[\\begin{matrix}\n",
    "1 & 0 & 0 & 0\\\\\n",
    "0 & 1 & 0 & 0\\\\\n",
    "0 & 0 & 1 & 0\\\\\n",
    "0 & 0 & 1 & 1\\\\\n",
    "\\end{matrix}\\right]\\\\\n",
    "=\n",
    "\\left[\\begin{matrix}\n",
    "1 & 0 & 0 & 0\\\\\n",
    "1 & 1 & 0 & 0\\\\\n",
    "1 & 1 & 1 & 0\\\\\n",
    "1 & 1 & 1 & 1\\\\\n",
    "\\end{matrix}\\right]\\\\\n",
    "$  \n",
    "\n",
    "Test LU=A\n",
    "\n",
    "$LU=\\left[\\begin{matrix}\n",
    "1 & 0 & 0 & 0\\\\\n",
    "1 & 1 & 0 & 0\\\\\n",
    "1 & 1 & 1 & 0\\\\\n",
    "1 & 1 & 1 & 1\\\\\n",
    "\\end{matrix}\\right]\n",
    "\\left[\\begin{matrix}\n",
    "a & a   & a   & a\\\\\n",
    "0 & b-a & b-a & b-a\\\\\n",
    "0 & 0   & c-b & c-b\\\\\n",
    "0 & 0   & 0   & d-c\n",
    "\\end{matrix}\\right]\\\\\n",
    "=\n",
    "\\left[\\begin{matrix}\n",
    "a & a   & a       & a\\\\\n",
    "a & b   & b       & b\\\\\n",
    "a & b   & c       & c\\\\\n",
    "a & b   & c       & d\n",
    "\\end{matrix}\\right]$\n",
    "\n",
    "The four conditions are \n",
    "$a\\neq0\\\\\n",
    "a\\neq b\\\\\n",
    "b\\neq c\\\\\n",
    "c\\neq d$\n",
    "\n",
    "\n",
    "\n"
   ]
  },
  {
   "cell_type": "code",
   "execution_count": 19,
   "metadata": {
    "colab": {
     "autoexec": {
      "startup": false,
      "wait_interval": 0
     },
     "base_uri": "https://localhost:8080/",
     "height": 289,
     "output_extras": [
      {
       "item_id": 1
      }
     ]
    },
    "colab_type": "code",
    "executionInfo": {
     "elapsed": 503,
     "status": "ok",
     "timestamp": 1520998228665,
     "user": {
      "displayName": "Kalyan Kaza",
      "photoUrl": "//lh3.googleusercontent.com/-KMQMBEgB4x0/AAAAAAAAAAI/AAAAAAAAHTw/GLg4kh1PFTY/s50-c-k-no/photo.jpg",
      "userId": "106862100495924346167"
     },
     "user_tz": 240
    },
    "id": "Z4uSj4RtiIHC",
    "outputId": "079ab12e-32e0-41ee-9dd7-27d0a06a537a"
   },
   "outputs": [
    {
     "name": "stdout",
     "output_type": "stream",
     "text": [
      "[[ 1.  0.  0.  0.]\n",
      " [ 0.  1.  0.  0.]\n",
      " [ 0.  0.  1.  0.]\n",
      " [ 0.  0. -1.  1.]]\n",
      "[[1. 0. 0. 0.]\n",
      " [0. 1. 0. 0.]\n",
      " [0. 0. 1. 0.]\n",
      " [0. 0. 1. 1.]]\n",
      "[[ 1.  0.  0.  0.]\n",
      " [ 0.  1.  0.  0.]\n",
      " [ 0. -1.  1.  0.]\n",
      " [ 0. -1.  0.  1.]]\n",
      "[[1. 0. 0. 0.]\n",
      " [0. 1. 0. 0.]\n",
      " [0. 1. 1. 0.]\n",
      " [0. 1. 0. 1.]]\n"
     ]
    }
   ],
   "source": [
    "import numpy as np\n",
    "A=np.identity(4)\n",
    "A[3,2]=-1\n",
    "print(A)\n",
    "print(np.linalg.inv(A))\n",
    "\n",
    "A=np.identity(4)\n",
    "A[2\n",
    "  ,1]=-1\n",
    "A[3,1]=-1\n",
    "print(A)\n",
    "print(np.linalg.inv(A))\n"
   ]
  },
  {
   "cell_type": "markdown",
   "metadata": {
    "colab_type": "text",
    "id": "0dz2eMEWx8eP"
   },
   "source": [
    "### Sub Spaces\n",
    "\n",
    "Eight rules of vector space are based on two things.\n",
    "1. When multiplied by  scalar(scaled), the vector should still be in the vector space.\n",
    "2. Addition of any two vectors should still in the vector space.\n",
    "\n",
    "If $A,B$ are separate subspaces  \n",
    "* $A\\bigcup B$ is not a sub-space\n",
    "* $A\\bigcap B$ is a sub-space  \n",
    "(Note that if A and B belong to same vector space then AUB is also a subspace.)  \n",
    "The column space of $A=\\left[\\begin{matrix}\n",
    "1&3\\\\\n",
    "2&4\\\\\n",
    "3&5\\\\\n",
    "4&6\n",
    "\\end{matrix}\\right]$ is a sub-space in $R^4$ spanned by the two vectors   \n",
    "$\\qquad v_1=x_1+2x_2+3x_3+4x_4\\\\\n",
    "\\qquad v_2=3x_1+4x_2+5x_3+6x_4$\n",
    "\n",
    "$Ax=b$ will have a solution only when $b$ is in the sub-space spawned by the column-space of $A$. If $b$ is outside this sub-space, then there will be no solution. Therefore when $b=\\left[\\begin{matrix}\n",
    "0\\\\\n",
    "0\\\\\n",
    "0\\\\\n",
    "0\n",
    "\\end{matrix}\\right]$ there would definetly be a solution.\n",
    "\n",
    "Note that algebraically this has four equations with two unknowns. So this throw contradictory solutions when b is not in the sub-space of spawned by the column-space of $A$\n",
    "\n",
    "\n",
    "Note that columns pace of $A=\\left[\\begin{matrix}\n",
    "1&3&4\\\\\n",
    "2&4&6\\\\\n",
    "3&5&8\\\\\n",
    "4&6&10\n",
    "\\end{matrix}\\right]$ is spawns a sub-space of $R^2$ in $R^4$ as the the $3^{rd}$ lies int he plane of first two vectors. "
   ]
  },
  {
   "cell_type": "markdown",
   "metadata": {
    "colab_type": "text",
    "id": "jByv87-iYAt7"
   },
   "source": [
    "#### Lecture 6 Video"
   ]
  },
  {
   "cell_type": "code",
   "execution_count": 20,
   "metadata": {
    "cellView": "both",
    "colab": {
     "autoexec": {
      "startup": false,
      "wait_interval": 0
     },
     "base_uri": "https://localhost:8080/",
     "height": 336,
     "output_extras": [
      {
       "item_id": 1
      }
     ]
    },
    "colab_type": "code",
    "executionInfo": {
     "elapsed": 450,
     "status": "ok",
     "timestamp": 1521071488292,
     "user": {
      "displayName": "Kalyan Kaza",
      "photoUrl": "//lh3.googleusercontent.com/-KMQMBEgB4x0/AAAAAAAAAAI/AAAAAAAAHTw/GLg4kh1PFTY/s50-c-k-no/photo.jpg",
      "userId": "106862100495924346167"
     },
     "user_tz": 240
    },
    "id": "lqONkdSP7IIz",
    "outputId": "19572e11-8204-4e65-87a4-528e4b4d10d7"
   },
   "outputs": [
    {
     "data": {
      "text/html": [
       "<iframe width=\"560\" height=\"315\" src=\"https://www.youtube.com/embed/8o5Cmfpeo6g\" frameborder=\"0\" allow=\"autoplay; encrypted-media\" allowfullscreen></iframe>"
      ],
      "text/plain": [
       "<IPython.core.display.HTML object>"
      ]
     },
     "metadata": {},
     "output_type": "display_data"
    }
   ],
   "source": [
    "%%HTML\n",
    "<iframe width=\"560\" height=\"315\" src=\"https://www.youtube.com/embed/8o5Cmfpeo6g\" frameborder=\"0\" allow=\"autoplay; encrypted-media\" allowfullscreen></iframe>"
   ]
  },
  {
   "cell_type": "markdown",
   "metadata": {
    "colab_type": "text",
    "id": "c_D__zer5rVN"
   },
   "source": [
    "#### Problem 6.2: \n",
    "(3.2 #18.) The plane x − 3y − z = 12 is parallel to the plane x − 3y − x = 0. One particular point on this plane is (12, 0, 0). All points on the plane have the form (fill in the first components) \n",
    "\n",
    "$\\qquad \\left[\\begin{matrix}x\\\\y\\\\z\\end{matrix}\\right]=\\left[\\begin{matrix}\\\\0\\\\0\\end{matrix}\\right]+y\\left[\\begin{matrix}\\\\1\\\\0\\end{matrix}\\right]+z\\left[\\begin{matrix}\\\\0\\\\1\\end{matrix}\\right]$  \n",
    "**Ans**  \n",
    "$\\qquad \\left[\\begin{matrix}x\\\\y\\\\z\\end{matrix}\\right]=\\left[\\begin{matrix}12\\\\0\\\\0\\end{matrix}\\right]+y\\left[\\begin{matrix}3\\\\1\\\\0\\end{matrix}\\right]+z\\left[\\begin{matrix}1\\\\0\\\\1\\end{matrix}\\right]$  \n",
    "\n"
   ]
  },
  {
   "cell_type": "markdown",
   "metadata": {
    "colab_type": "text",
    "id": "NPsEHNWU_-AJ"
   },
   "source": [
    "#### Problem 6.3: \n",
    "(3.2 #36.) How is the nullspace N(C) related to the spaces N(A) and N(B), if C =$\\left[\\begin{matrix}A\\\\B\\end{matrix}\\right]$  \n",
    "\n",
    "Null space of A is Ax=0  \n",
    "Null space of B is By=0  \n",
    "One thing to note is that A and B should have the same number of columns.  \n",
    "x and y should be of same dimension vectors.  \n",
    "Null space of C is $\\left[\\begin{matrix}A\\\\B\\end{matrix}\\right]z=0\\\\\n",
    "\\implies\\left[\\begin{matrix}Az\\\\Bz\\end{matrix}\\right]=0\\\\\n",
    "\\implies Az=0\\text{ and }Bz=0$   \n",
    "x,y and z should be of same dimension vectors.\n",
    "\n",
    "$z=x\\bigcap y$\n",
    "\n"
   ]
  },
  {
   "cell_type": "markdown",
   "metadata": {
    "colab_type": "text",
    "id": "FpTyOqMfHTkr"
   },
   "source": [
    "### Null Spaces (Ax=0)\n",
    "\n",
    "Bring any matrix A to it's **echelon** form by reduction.  \n",
    "Continue further till the pivot's values are all 1s to get to the  *Reduced Echelon Form**\n"
   ]
  },
  {
   "cell_type": "markdown",
   "metadata": {
    "colab_type": "text",
    "id": "HtGsb0AfYMPz"
   },
   "source": [
    "#### Lecture 7 Video"
   ]
  },
  {
   "cell_type": "code",
   "execution_count": 21,
   "metadata": {
    "cellView": "both",
    "colab": {
     "autoexec": {
      "startup": false,
      "wait_interval": 0
     },
     "base_uri": "https://localhost:8080/",
     "height": 336,
     "output_extras": [
      {
       "item_id": 1
      }
     ]
    },
    "colab_type": "code",
    "executionInfo": {
     "elapsed": 422,
     "status": "ok",
     "timestamp": 1521071416708,
     "user": {
      "displayName": "Kalyan Kaza",
      "photoUrl": "//lh3.googleusercontent.com/-KMQMBEgB4x0/AAAAAAAAAAI/AAAAAAAAHTw/GLg4kh1PFTY/s50-c-k-no/photo.jpg",
      "userId": "106862100495924346167"
     },
     "user_tz": 240
    },
    "id": "JPF25ESV62aM",
    "outputId": "5ebe4cef-010a-407b-fb7f-253e0d638ebd"
   },
   "outputs": [
    {
     "data": {
      "text/html": [
       "<iframe width=\"560\" height=\"315\" src=\"https://www.youtube.com/embed/VqP2tREMvt0\" frameborder=\"0\" allow=\"autoplay; encrypted-media\" allowfullscreen></iframe>"
      ],
      "text/plain": [
       "<IPython.core.display.HTML object>"
      ]
     },
     "metadata": {},
     "output_type": "display_data"
    }
   ],
   "source": [
    "%%HTML\n",
    "<iframe width=\"560\" height=\"315\" src=\"https://www.youtube.com/embed/VqP2tREMvt0\" frameborder=\"0\" allow=\"autoplay; encrypted-media\" allowfullscreen></iframe>"
   ]
  },
  {
   "cell_type": "markdown",
   "metadata": {
    "colab_type": "text",
    "id": "bd_xCstdHytS"
   },
   "source": [
    "#### Problem 7.1:\n",
    "a) Find the row reduced form of:\n",
    "$A=\\left[\\begin{matrix}\n",
    "1 &  5 &  7 & 9\\\\\n",
    "0 &  4 &  1 & 7\\\\\n",
    "2 & −2 & 11 & −3\n",
    "\\end{matrix}\\right]$  \n",
    "b) What is the rank of this matrix?  \n",
    "c) Find any special solutions to the equation Ax = 0  \n",
    "\n",
    "**Ans**  \n",
    "$A=\\left[\\begin{matrix}\n",
    "1 &  5 &  7 & 9\\\\\n",
    "0 &  4 &  1 & 7\\\\\n",
    "2 & −2 & 11 & −3\n",
    "\\end{matrix}\\right]\n",
    "\\to\n",
    "\\left[\\begin{matrix}\n",
    "1 &  5  &  7 & 9\\\\\n",
    "0 &  4  &  1 & 7\\\\\n",
    "0 & −12 & -3 & −21\n",
    "\\end{matrix}\\right]\n",
    "\\overrightarrow{\\text{echelon form}}\n",
    "\\left[\\begin{matrix}\n",
    "1 &  5  &  7 & 9\\\\\n",
    "0 &  4  &  1 & 7\\\\\n",
    "0 &  0  &  0 & 0\n",
    "\\end{matrix}\\right]\n",
    "\\to\n",
    "\\left[\\begin{matrix}\n",
    "1 &  5  &  7 & 9\\\\\n",
    "0 &  1  &  1/4 & 7/4\\\\\n",
    "0 &  0  &  0 & 0\n",
    "\\end{matrix}\\right]\n",
    "\\to\n",
    "\\left[\\begin{matrix}\n",
    "1 &  0  &  7-5/4 & 9-35/4\\\\\n",
    "0 &  1  &  1/4 & 7/4\\\\\n",
    "0 &  0  &  0 & 0\n",
    "\\end{matrix}\\right]\\\\\n",
    "=\n",
    "\\left[\\begin{matrix}\n",
    "1 &  0  &  23/4 & 1/4\\\\\n",
    "0 &  1  &  1/4 & 7/4\\\\\n",
    "0 &  0  &  0 & 0\n",
    "\\end{matrix}\\right]\\\\\n",
    "$  \n",
    "(This is reduced echelon form)  \n",
    "Thus **rank** of the matrix is 2.  \n",
    "\n",
    "Special solutions to Ax=0 is all matrices of the form\n",
    "\n",
    "$\\left[\\begin{array}{c|c}I&F\\\\\n",
    "\\hline\n",
    "0&0\n",
    "\\end{array}\\right]\n",
    "\\left[\\begin{array}{c}a\\\\\n",
    "\\hline\n",
    "c\n",
    "\\end{array}\\right]=\\left[\\begin{array}{c}Ia+cF\\\\\n",
    "\\hline\n",
    "0a+0c\n",
    "\\end{array}\\right]\n",
    "$  \n",
    "\n",
    "Thus Null Space is defined by  \n",
    "$N=\\left[\\begin{array}{c}\n",
    "-23/4&-1/4\\\\\n",
    "-1/4&-7/4\\\\\n",
    "1&0\\\\\n",
    "0&1\n",
    "\\end{array}\\right]=\\left[\\begin{array}{c}\n",
    "-23&-1\\\\\n",
    "-1&-7\\\\\n",
    "4&0\\\\\n",
    "0&4\n",
    "\\end{array}\\right]$  \n",
    "\n",
    "Other way to put is that the null space is defined by\n",
    "\n",
    "$N=a\\left[\\begin{matrix}\n",
    "-23\\\\\n",
    "-1\\\\\n",
    "4\\\\\n",
    "0\n",
    "\\end{matrix}\\right]\n",
    "+\n",
    "b\\left[\\begin{matrix}\n",
    "-1\\\\\n",
    "-7\\\\\n",
    "0\\\\\n",
    "4\n",
    "\\end{matrix}\\right]\n",
    "$  \n",
    "\n",
    "\n"
   ]
  },
  {
   "cell_type": "markdown",
   "metadata": {
    "colab_type": "text",
    "id": "lVpqyMGHNJc4"
   },
   "source": [
    "#### Problem 7.2: \n",
    "(3.3 #17.b Introduction to Linear Algebra: Strang) Find $A_1$ and $A_2$ so that rank($A_1B$) = 1 and rank($A_2B$) = 0 for B = $\\left[\\begin{matrix}\n",
    "1&1\\\\\n",
    "1&1\n",
    "\\end{matrix}\\right]$  \n",
    "\n",
    "$B$ is already of rank 1. So $A_1$ is just I matrix.\n",
    "\n",
    "Now if we want the rank($A_2B$)=0, that means we need a zero matrix. As only zero matrix has a rank of zero.\n",
    "\n",
    "$\\left[\\begin{matrix}\n",
    "1&-1\\\\\n",
    "1&-1\n",
    "\\end{matrix}\\right]\n",
    "\\left[\\begin{matrix}\n",
    "1&1\\\\\n",
    "1&1\n",
    "\\end{matrix}\\right]=\n",
    "\\left[\\begin{matrix}\n",
    "0&0\\\\\n",
    "0&0\n",
    "\\end{matrix}\\right]\n",
    "$  "
   ]
  },
  {
   "cell_type": "markdown",
   "metadata": {
    "colab_type": "text",
    "id": "Km23TPqtUiGl"
   },
   "source": [
    "### Ax=b\n",
    "For mxn matrix A  \n",
    "**RANK TELLS YOU EVERYTHING!!!**  \n",
    "* **Square Matrices with full rank**  \n",
    "  There exists a solution for any b. And only one solution exists.\n",
    "* **Full Column Rank**  \n",
    "  There exists a solution for specific b. b should be a combination of columns of A.  \n",
    "* **Full Row Rank**  \n",
    "  Solution for all b. Infinetly many solutions\n",
    "* **Rank<m<n**  \n",
    "  either none of infinetly many solutions. the zero rows after transformation should be reflected with RHS zeros on b. Only then solution will exist.\n",
    "\n",
    "$\\begin{array}{c|c|c|c|c}\n",
    "A_{m\\times n}&\\text{Sqr Mat w FullRank}&\\text{FullColumnRank}&\\text{FullRowRank}&\\text{Rank<min(m,n)}\\\\\n",
    "\\text{RedEchelonForm}\n",
    "&\n",
    "I\n",
    "&\n",
    "\\left[\\begin{matrix}I\\\\0\\end{matrix}\\right]\n",
    "&\n",
    "\\left[\\begin{matrix}I&F\\end{matrix}\\right]\n",
    "&\n",
    "\\left[\\begin{matrix}I&F\\\\0&0\\end{matrix}\\right]\\\\\n",
    "b\\text{ for Soln to exist}\n",
    "&\n",
    "\\text{any }b\n",
    "&\n",
    "\\text{ only when }b\\, \\epsilon \\text{ col space of }A\n",
    "&\n",
    "\\text{any }b\n",
    "&\n",
    "\\text{LHS 0s shld match b 0s}\\\\\n",
    "\\text{No. of soln.}\n",
    "&\n",
    "1\n",
    "&\n",
    "1\n",
    "&\n",
    "\\text{inf. many}\n",
    "&\n",
    "\\text{0 or inf. many}\\\\\n",
    "\\text{Null Space}\n",
    "&\n",
    "\\text{None}\n",
    "&\n",
    "\\text{None}\n",
    "&\n",
    "\\text{Full Null Space}\n",
    "&\n",
    "\\text{Full Null Space}\\\\\n",
    "\\text{No. Of Var}\n",
    "&\n",
    "m=n\n",
    "&\n",
    "n<m\n",
    "&\n",
    "n>m\n",
    "&\n",
    "n>r\\\\\n",
    "\\text{No. of Eq}\n",
    "&\n",
    "m=n=r\n",
    "&\n",
    "m>n\n",
    "&\n",
    "m<n\n",
    "&\n",
    "m>r\n",
    "\\end{array}$"
   ]
  },
  {
   "cell_type": "markdown",
   "metadata": {
    "colab_type": "text",
    "id": "yJDfy9oaYWUQ"
   },
   "source": [
    "#### Lecture 8 Video"
   ]
  },
  {
   "cell_type": "code",
   "execution_count": 22,
   "metadata": {
    "cellView": "both",
    "colab": {
     "autoexec": {
      "startup": false,
      "wait_interval": 0
     },
     "base_uri": "https://localhost:8080/",
     "height": 336,
     "output_extras": [
      {
       "item_id": 1
      }
     ]
    },
    "colab_type": "code",
    "executionInfo": {
     "elapsed": 468,
     "status": "ok",
     "timestamp": 1521071351858,
     "user": {
      "displayName": "Kalyan Kaza",
      "photoUrl": "//lh3.googleusercontent.com/-KMQMBEgB4x0/AAAAAAAAAAI/AAAAAAAAHTw/GLg4kh1PFTY/s50-c-k-no/photo.jpg",
      "userId": "106862100495924346167"
     },
     "user_tz": 240
    },
    "id": "nAilxHMx6Ci0",
    "outputId": "be1a1a30-da0a-4c89-ea78-f438e0550a8e"
   },
   "outputs": [
    {
     "data": {
      "text/html": [
       "<iframe width=\"560\" height=\"315\" src=\"https://www.youtube.com/embed/9Q1q7s1jTzU?rel=0\" frameborder=\"0\" allow=\"autoplay; encrypted-media\" allowfullscreen></iframe>"
      ],
      "text/plain": [
       "<IPython.core.display.HTML object>"
      ]
     },
     "metadata": {},
     "output_type": "display_data"
    }
   ],
   "source": [
    "%%HTML\n",
    "<iframe width=\"560\" height=\"315\" src=\"https://www.youtube.com/embed/9Q1q7s1jTzU?rel=0\" frameborder=\"0\" allow=\"autoplay; encrypted-media\" allowfullscreen></iframe>"
   ]
  },
  {
   "cell_type": "markdown",
   "metadata": {
    "colab_type": "text",
    "id": "p4z1VKO3kKDg"
   },
   "source": [
    "#### Problem 8.1: \n",
    "(3.4 #13.(a,b,d) Introduction to Linear Algebra: Strang) Explain why these are all false:  \n",
    "a) The complete solution is any linear combination of $x_p$ and $x_n$.  \n",
    "b) The system Ax = b has at most one particular solution.  \n",
    "c) If A is invertible there is no solution $x_n$ in the nullspace.  \n",
    "\n",
    "**Ans:**  \n",
    "a. the complete solution is $x_p$+C$x_n$  \n",
    "b. no Ax=b could have infinetly many solutions when rank<n, where n is the number of columns.  \n",
    "c. $x_n$=0 is a solution in the nullspace for an invertible A.  "
   ]
  },
  {
   "cell_type": "markdown",
   "metadata": {
    "colab_type": "text",
    "id": "QAqvOJ9Ikxeb"
   },
   "source": [
    "#### Problem 8.2: \n",
    "(3.4 #28.) Let \n",
    "$\\qquad U=\\left[\\begin{matrix}1&2&3\\\\0&0&4\\end{matrix}\\right]\\,\\,\\,c=\\left[\\begin{matrix}5\\\\8\\end{matrix}\\right]$  \n",
    "Use Gauss-Jordan elimination to reduce the matrices [U 0] and [U c] to [R 0] and [R d]. Solve Rx = 0 and Rx = d.  \n",
    "Check your work by plugging your values into the equations Ux = 0 and Ux = c.  \n",
    "**Ans:**  \n",
    "$\\left[\\begin{array}{c|c}U&c\\end{array}\\right]=\n",
    "\\left[\\begin{array}{ccc|c}\n",
    "1&2&3&5\\\\\n",
    "0&0&4&8\n",
    "\\end{array}\\right]=\n",
    "\\left[\\begin{array}{ccc|c}\n",
    "1&2&3&5\\\\\n",
    "0&0&1&2\n",
    "\\end{array}\\right]=\n",
    "\\left[\\begin{array}{ccc|c}\n",
    "1&2&0&-1\\\\\n",
    "0&0&1&2\n",
    "\\end{array}\\right]=\n",
    "\\left[\\begin{array}{c|c}R&d\\end{array}\\right]\n",
    "$  \n",
    "\n",
    "Particular solution is\n",
    "\n",
    "$x_3=2$ and if $x_2=1$ then $x_1=-1-2=-3$  \n",
    "\n",
    "Null Space is  \n",
    "\n",
    "$N=\\left[\\begin{array}{}\n",
    "-2\\\\\n",
    "1\\\\\n",
    "0\n",
    "\\end{array}\\right]$  \n",
    "\n",
    "Full solution is\n",
    "\n",
    "$x=\n",
    "\\left[\\begin{array}{}\n",
    "-3\\\\\n",
    "1\\\\\n",
    "2\n",
    "\\end{array}\\right]\n",
    "+k\n",
    "\\left[\\begin{array}{}\n",
    "-2\\\\\n",
    "1\\\\\n",
    "0\n",
    "\\end{array}\\right]\n",
    "$  \n",
    "\n",
    "Test Ux=0  \n",
    "$Ux=k\n",
    "\\left[\\begin{matrix}\n",
    "1&2&3\\\\\n",
    "0&0&4\n",
    "\\end{matrix}\\right]\n",
    "\\left[\\begin{array}{}\n",
    "-2\\\\\n",
    "1\\\\\n",
    "0\n",
    "\\end{array}\\right]\\\\\n",
    "=\n",
    "k\\left[\\begin{array}{}\n",
    "-2+2\\\\\n",
    "0\n",
    "\\end{array}\\right]\\\\\n",
    "k\\left[\\begin{array}{}\n",
    "0\\\\\n",
    "0\n",
    "\\end{array}\\right]\n",
    "$  \n",
    "\n",
    "Test Ux=c  \n",
    "$Ux=\n",
    "\\left[\\begin{matrix}\n",
    "1&2&3\\\\\n",
    "0&0&4\n",
    "\\end{matrix}\\right]\\left(\n",
    "\\left[\\begin{array}{}\n",
    "-3\\\\\n",
    "1\\\\\n",
    "2\n",
    "\\end{array}\\right]\n",
    "+k\n",
    "\\left[\\begin{array}{}\n",
    "-2\\\\\n",
    "1\\\\\n",
    "0\n",
    "\\end{array}\\right]\n",
    "\\right)\\\\\n",
    "=\n",
    "\\left[\\begin{matrix}\n",
    "1&2&3\\\\\n",
    "0&0&4\n",
    "\\end{matrix}\\right]\n",
    "\\left[\\begin{array}{}\n",
    "-3\\\\\n",
    "1\\\\\n",
    "2\n",
    "\\end{array}\\right]\n",
    "+k\n",
    "\\left[\\begin{matrix}\n",
    "1&2&3\\\\\n",
    "0&0&4\n",
    "\\end{matrix}\\right]\n",
    "\\left[\\begin{array}{}\n",
    "-2\\\\\n",
    "1\\\\\n",
    "0\n",
    "\\end{array}\\right]\\\\\n",
    "=\n",
    "\\left[\\begin{array}{}\n",
    "-3+2+6\\\\\n",
    "0+0+8\n",
    "\\end{array}\\right]\n",
    "+\n",
    "k\\left[\\begin{array}{}\n",
    "0\\\\\n",
    "0\n",
    "\\end{array}\\right]\n",
    "=\n",
    "\\left[\\begin{array}{}\n",
    "5\\\\\n",
    "8\n",
    "\\end{array}\\right]\n",
    "$  \n"
   ]
  },
  {
   "cell_type": "markdown",
   "metadata": {
    "colab_type": "text",
    "id": "BQOKrDdRqPg9"
   },
   "source": [
    "#### Problem 8.3:\n",
    "\n",
    "(3.4 #36.) Suppose Ax = b and Cx = b have the same (complete) solutions for every b. Is it true that A = C? \n",
    "\n",
    "**Ans:**  \n",
    "A and B need to have the same null space and particular solution, thus redering them to live in the same sub-space, if two matrices have the same sub-space then they should be equal.\n",
    "\n",
    "Choose any y that has proper Ay. Now get Ay and set b=Ay, thus for Ax=b, y is a solution. if y is a solution to Ax=b it should be a solution to Cx=b. Thus for any arbitrary y Ay=b=Cy. Thus Ay=Cy for any arbitrary y, thus A=C."
   ]
  },
  {
   "cell_type": "markdown",
   "metadata": {
    "colab_type": "text",
    "id": "DhU7YtTYuq95"
   },
   "source": [
    "### Independence and Basis from Ax=0  \n",
    "\n",
    "***For any mxn matrix..**  \n",
    "$\\begin{array}{c|c|c|c|c}\n",
    "&\\text{Sqr Mat w FullRank}&\\text{FullColumnRank}&\\text{FullRowRank}&\\text{Rank<min(m,n)}\\\\\n",
    "\\text{Column Space dimension}\n",
    "&\n",
    "m=n\n",
    "&\n",
    "n\n",
    "&\n",
    "m\n",
    "&\n",
    "r\\\\\n",
    "\\text{Null Space dimention}\n",
    "&\n",
    "0\n",
    "&\n",
    "0\n",
    "&\n",
    "n-m\n",
    "&\n",
    "n-r\n",
    "\\end{array}$  \n",
    "\n",
    "Dimension of a **Col. Space**=Number of basis vectors needed to spawn the space= Rank of the matrix(in case of Column Space)=Number of Pivot Columns=No. of Pivot Values  \n",
    "Dimension of a **Null Space**=Number of free variables=n-Rank=Number of basis vectors needed to spawn the Null Space."
   ]
  },
  {
   "cell_type": "markdown",
   "metadata": {
    "colab_type": "text",
    "id": "MLsNH2uBYsBz"
   },
   "source": [
    "#### Lecture 9 Video"
   ]
  },
  {
   "cell_type": "code",
   "execution_count": 23,
   "metadata": {
    "cellView": "both",
    "colab": {
     "autoexec": {
      "startup": false,
      "wait_interval": 0
     },
     "base_uri": "https://localhost:8080/",
     "height": 336,
     "output_extras": [
      {
       "item_id": 1
      }
     ]
    },
    "colab_type": "code",
    "executionInfo": {
     "elapsed": 409,
     "status": "ok",
     "timestamp": 1521072225677,
     "user": {
      "displayName": "Kalyan Kaza",
      "photoUrl": "//lh3.googleusercontent.com/-KMQMBEgB4x0/AAAAAAAAAAI/AAAAAAAAHTw/GLg4kh1PFTY/s50-c-k-no/photo.jpg",
      "userId": "106862100495924346167"
     },
     "user_tz": 240
    },
    "id": "JDqb_uX94juc",
    "outputId": "0b3bc602-fc37-475a-fae8-8c4aaa37078f"
   },
   "outputs": [
    {
     "data": {
      "text/html": [
       "<iframe width=\"560\" height=\"315\" src=\"https://www.youtube.com/embed/yjBerM5jWsc?rel=0\" frameborder=\"0\" allow=\"autoplay; encrypted-media\" allowfullscreen></iframe>"
      ],
      "text/plain": [
       "<IPython.core.display.HTML object>"
      ]
     },
     "metadata": {},
     "output_type": "display_data"
    }
   ],
   "source": [
    "%%HTML\n",
    "<iframe width=\"560\" height=\"315\" src=\"https://www.youtube.com/embed/yjBerM5jWsc?rel=0\" frameborder=\"0\" allow=\"autoplay; encrypted-media\" allowfullscreen></iframe>"
   ]
  },
  {
   "cell_type": "markdown",
   "metadata": {
    "colab_type": "text",
    "id": "nrjwEH3ZXIv4"
   },
   "source": [
    "#### Problem 9.1: \n",
    "(3.5 #2. Introduction to Linear Algebra: Strang) Find the largest possible number of independent vectors among:  \n",
    "\n",
    "$v_1=\\left[\\begin{matrix}\n",
    "1\\\\\n",
    "-1\\\\\n",
    "0\\\\\n",
    "0\n",
    "\\end{matrix}\\right]\\quad,\\quad\n",
    "v_2=\\left[\\begin{matrix}\n",
    "1\\\\\n",
    "0\\\\\n",
    "-1\\\\\n",
    "0\n",
    "\\end{matrix}\\right]\\quad,\\quad\n",
    "v_3=\\left[\\begin{matrix}\n",
    "1\\\\\n",
    "0\\\\\n",
    "0\\\\\n",
    "-1\n",
    "\\end{matrix}\\right]\\quad,\\quad\n",
    "v_4=\\left[\\begin{matrix}\n",
    "0\\\\\n",
    "1\\\\\n",
    "-1\\\\\n",
    "0\n",
    "\\end{matrix}\\right]\\quad,\\quad\n",
    "v_5=\\left[\\begin{matrix}\n",
    "0\\\\\n",
    "1\\\\\n",
    "0\\\\\n",
    "-1\n",
    "\\end{matrix}\\right]\\quad,\\quad\n",
    "v_6=\\left[\\begin{matrix}\n",
    "0\\\\\n",
    "0\\\\\n",
    "1\\\\\n",
    "-1\n",
    "\\end{matrix}\\right]\\quad\\,\\quad$  \n",
    "\n",
    "As the vectors in $R^4$, the maximum number of independent vectors would be four. We need find a basis from the the 6 given vectors... Let's start with A  \n",
    "\n",
    "$A=\\left[\\begin{matrix}\n",
    " 1 & 1 & 1 & 0 & 0 & 0\\\\\n",
    "-1 & 0 & 0 & 1 & 1 & 0\\\\\n",
    " 0 &-1 & 0 &-1 & 0 & 1\\\\\n",
    " 0 & 0 &-1 & 0 &-1 &-1\n",
    "\\end{matrix}\\right]\n",
    "\\to\n",
    "\\left[\\begin{matrix}\n",
    " 1 & 1 & 1 & 0 & 0 & 0\\\\\n",
    " 0 & 1 & 1 & 1 & 1 & 0\\\\\n",
    " 0 &-1 & 0 &-1 & 0 & 1\\\\\n",
    " 0 & 0 &-1 & 0 &-1 &-1\n",
    "\\end{matrix}\\right]\n",
    "\\to\n",
    "\\left[\\begin{matrix}\n",
    " 1 & 1 & 1 & 0 & 0 & 0\\\\\n",
    " 0 & 1 & 1 & 1 & 1 & 0\\\\\n",
    " 0 & 0 & 1 & 0 & 1 & 1\\\\\n",
    " 0 & 0 &-1 & 0 &-1 &-1\n",
    "\\end{matrix}\\right]\n",
    "\\to\n",
    "\\left[\\begin{matrix}\n",
    " 1 & 1 & 1 & 0 & 0 & 0\\\\\n",
    " 0 & 1 & 1 & 1 & 1 & 0\\\\\n",
    " 0 & 0 & 1 & 0 & 1 & 1\\\\\n",
    " 0 & 0 & 0 & 0 & 0 & 0\n",
    "\\end{matrix}\\right]\n",
    "$  \n",
    "\n",
    "Thus we have a rank of only 3   \n",
    "=> The vector space spawned by the 6 vectors is 3 dimensions in $R^4$.  \n",
    "=> There are a maximum of 3 basis vectors for this space.\n",
    "=> There can be only 3 independent vectors, any fourth could be derived by a combination of those 3.\n",
    "=> Like $(v_1,v_2,v_3)$ is a set of independent vectors and $v_4,v_5,v_6$ could be derived as $v_2-v_1,v_3-v_1,v_3-v_2$"
   ]
  },
  {
   "cell_type": "markdown",
   "metadata": {
    "colab_type": "text",
    "id": "ZkIjlgRnc8Xw"
   },
   "source": [
    "#### Problem 9.2: \n",
    "(3.5 #20.) Find a basis for the plane x − 2y + 3z=0 in $R^3$.Then find a basis for the intersection of that plane with the xy plane. Then find a basis for all vectors perpendicular to the plane.\n",
    "\n",
    "This can be written as\n",
    "\n",
    "$\\left[\\begin{matrix}\n",
    "1&-2&3\n",
    "\\end{matrix}\\right]\n",
    "\\left[\\begin{matrix}\n",
    "x\\\\\n",
    "y\\\\\n",
    "z\n",
    "\\end{matrix}\\right]=0$  \n",
    "\n",
    "For Null-Space, which would be our intended plane..  \n",
    "$N=\\left[\\begin{matrix}-F\\\\I\\end{matrix}\\right]=\\left[\\begin{matrix}2&-3\\\\1&0\\\\0&1\\end{matrix}\\right]$  \n",
    "\n",
    "Thus the plane can be defined as  \n",
    "$P=k\\left[\\begin{matrix}2\\\\1\\\\0\\end{matrix}\\right]+l\\left[\\begin{matrix}-3\\\\0\\\\1\\end{matrix}\\right]$  \n",
    "\n",
    "For this plane to intersect with xy plane all the z-should be zeros \n",
    "=> $l=0$  \n",
    "=> Intersection $I=k\\left[\\begin{matrix}2\\\\1\\\\0\\end{matrix}\\right]$  \n",
    "\n",
    "A vector perpendicular to $A$ and $B$ would be $A\\times B$. Thus the basis for vectors perpendicular to the above plane is  \n",
    "$V=\\left[\\begin{matrix}\n",
    "\\hat{i}&\\hat{j}&\\hat{k}\\\\\n",
    "2&1&0\\\\\n",
    "-3&0&1\\end{matrix}\\right]=\\hat{i}-2\\hat{j}+3\\hat{k}=c\\left[\\begin{matrix}\n",
    "1\\\\\n",
    "-2\\\\\n",
    "3\n",
    "\\end{matrix}\\right]$\n"
   ]
  },
  {
   "cell_type": "markdown",
   "metadata": {
    "colab_type": "text",
    "id": "TXUtCWi6PnWg"
   },
   "source": [
    "### Four Fundamental Spaces of a Matrix.\n",
    "\n",
    "$\\begin{array}{c|c|c|c|c}\n",
    "A_{m\\times n}&\\text{Column Space}&\\text{Column-Null Space}&\\text{Row Space}&\\text{Row-Null Space}\\\\  \n",
    "\\hline\\\\\n",
    "\\text{Notation}&C(A_{m\\times n})&N(A_{m\\times n})&C(A_{m\\times n}^T)&N(A_{m\\times n}^T)\\\\\n",
    "\\hline\\\\\n",
    "R^x\\text{(domain)}&R^{m}&R^{n}&R^{n}&R^{m}\\\\\n",
    "\\hline\n",
    "\\text{Dimension}&r&n-r&r&m-r\\\\\\end{array}$"
   ]
  },
  {
   "cell_type": "markdown",
   "metadata": {
    "colab_type": "text",
    "id": "Xm14kQbEY0IL"
   },
   "source": [
    "#### Lecture 10 Video"
   ]
  },
  {
   "cell_type": "code",
   "execution_count": 24,
   "metadata": {
    "cellView": "both",
    "colab": {
     "autoexec": {
      "startup": false,
      "wait_interval": 0
     },
     "base_uri": "https://localhost:8080/",
     "height": 336,
     "output_extras": [
      {
       "item_id": 1
      }
     ]
    },
    "colab_type": "code",
    "executionInfo": {
     "elapsed": 471,
     "status": "ok",
     "timestamp": 1521072283252,
     "user": {
      "displayName": "Kalyan Kaza",
      "photoUrl": "//lh3.googleusercontent.com/-KMQMBEgB4x0/AAAAAAAAAAI/AAAAAAAAHTw/GLg4kh1PFTY/s50-c-k-no/photo.jpg",
      "userId": "106862100495924346167"
     },
     "user_tz": 240
    },
    "id": "y6DGzyik3uo6",
    "outputId": "0682ce2a-bac7-46c2-f57d-28fc86269023"
   },
   "outputs": [
    {
     "data": {
      "text/html": [
       "\n",
       "<iframe width=\"560\" height=\"315\" src=\"https://www.youtube.com/embed/nHlE7EgJFds?rel=0\" frameborder=\"0\" allow=\"autoplay; encrypted-media\" allowfullscreen></iframe>"
      ],
      "text/plain": [
       "<IPython.core.display.HTML object>"
      ]
     },
     "metadata": {},
     "output_type": "display_data"
    }
   ],
   "source": [
    "%%HTML\n",
    "\n",
    "<iframe width=\"560\" height=\"315\" src=\"https://www.youtube.com/embed/nHlE7EgJFds?rel=0\" frameborder=\"0\" allow=\"autoplay; encrypted-media\" allowfullscreen></iframe>\n"
   ]
  },
  {
   "cell_type": "markdown",
   "metadata": {
    "colab_type": "text",
    "id": "4bTFa_3mvOmT"
   },
   "source": [
    "#### Problem 10.1: \n",
    "(3.6 #11. Introduction to Linear Algebra: Strang) A is an m by n matrix of rank r. Suppose there are right sides b for which Ax = b has no solution.  \n",
    "a) What are all the inequalities (< or ≤) that must be true between m, n, and r?  \n",
    "b) How do you know that $A^Ty = 0$ has solutions other than y = 0?  \n",
    "\n",
    "\n",
    "**Ans:**\n",
    "When m<n , all b's will have a solution.\n",
    "When m=n and invertible then there exists exactly one solution for every b.\n",
    "\n",
    "When m>n and n=r, then b should be in column space of A for the solution to exist.\n",
    "When m>n and r<n, then b should obey the zero rules for infinite solutions to exist.\n",
    "\n",
    "Certain b's will not give you a solution when r≤n<m.\n",
    "\n",
    "For **b)**  \n",
    "\n",
    "As certain b's do not have solutions m>n. \n",
    "\n",
    "$Dim(C(A))  + Dim(N(A^T))=m$ note both are in $R^m$    \n",
    "$Dim(C(A^T))+ Dim(N(A))  =n$ note both are in $R^n$   \n",
    "\n",
    "$Dim(C(A))=r≤n<m.\\\\  \n",
    "Dim(N(A^T))=m-r>0$  \n",
    "Thus it will have a Null Space of dimension >0, and thus has infinetly many solutions.\n"
   ]
  },
  {
   "cell_type": "markdown",
   "metadata": {
    "colab_type": "text",
    "id": "4C8kBb4oydcE"
   },
   "source": [
    "#### Problem 10.2: \n",
    "(3.6 #24.) $A^Ty = d$ is solvable when d is in which of the four subspaces? The solution y is unique when the ________ contains only the zero vector.  \n",
    "\n",
    "**Ans** \n",
    "\n",
    "$A^Ty = d$ is solvable when d is in the row space.  \n",
    "The solution y is unique when the null space of $A^T$ contains only the zero vector."
   ]
  },
  {
   "cell_type": "markdown",
   "metadata": {
    "colab_type": "text",
    "id": "ZKbi727ZZQAe"
   },
   "source": [
    "### Matrices as Spaces"
   ]
  },
  {
   "cell_type": "markdown",
   "metadata": {
    "colab_type": "text",
    "id": "pnP1SIFcY8xo"
   },
   "source": [
    "#### Lecture 11 Video"
   ]
  },
  {
   "cell_type": "code",
   "execution_count": 25,
   "metadata": {
    "cellView": "both",
    "colab": {
     "autoexec": {
      "startup": false,
      "wait_interval": 0
     },
     "base_uri": "https://localhost:8080/",
     "height": 336,
     "output_extras": [
      {
       "item_id": 1
      }
     ]
    },
    "colab_type": "code",
    "executionInfo": {
     "elapsed": 527,
     "status": "ok",
     "timestamp": 1521072415080,
     "user": {
      "displayName": "Kalyan Kaza",
      "photoUrl": "//lh3.googleusercontent.com/-KMQMBEgB4x0/AAAAAAAAAAI/AAAAAAAAHTw/GLg4kh1PFTY/s50-c-k-no/photo.jpg",
      "userId": "106862100495924346167"
     },
     "user_tz": 240
    },
    "id": "Xjd0iYyg-pZ8",
    "outputId": "4c474d9f-5d13-4067-ef8d-2e22d0ff84a6"
   },
   "outputs": [
    {
     "data": {
      "text/html": [
       "<iframe width=\"560\" height=\"315\" src=\"https://www.youtube.com/embed/2IdtqGM6KWU?rel=0\" frameborder=\"0\" allow=\"autoplay; encrypted-media\" allowfullscreen></iframe>"
      ],
      "text/plain": [
       "<IPython.core.display.HTML object>"
      ]
     },
     "metadata": {},
     "output_type": "display_data"
    }
   ],
   "source": [
    "%%HTML\n",
    "<iframe width=\"560\" height=\"315\" src=\"https://www.youtube.com/embed/2IdtqGM6KWU?rel=0\" frameborder=\"0\" allow=\"autoplay; encrypted-media\" allowfullscreen></iframe>"
   ]
  },
  {
   "cell_type": "markdown",
   "metadata": {
    "colab_type": "text",
    "id": "pDvKLi1N36Z9"
   },
   "source": [
    "#### Problem 11.1:\n",
    "[Optional] (3.5 #41. Introduction to Linear Algebra: Strang)\n",
    "Write the 3 by 3 identity matrix as a combination of the other five permutation matrices. Then show that those five matrices are linearly independent.\n",
    "(Assume a combination gives $c_1P_1 + · · · + c_5P_5 = 0$ and check entries to prove c_i is zero.) The five permutation matrices are a basis for the\n",
    "subspace of three by three matrices with row and column sums all equal.  \n",
    "**Ans**  \n",
    "\n",
    "$I=\\left[\\begin{matrix}\n",
    "1&0&0\\\\\n",
    "0&1&0\\\\\n",
    "0&0&1\n",
    "\\end{matrix}\\right]$  \n",
    "$P_1=\\left[\\begin{matrix}\n",
    "1&0&0\\\\\n",
    "0&0&1\\\\\n",
    "0&1&0\n",
    "\\end{matrix}\\right]\n",
    ",\n",
    "P_2=\\left[\\begin{matrix}\n",
    "0&1&0\\\\\n",
    "1&0&0\\\\\n",
    "0&0&1\n",
    "\\end{matrix}\\right]\n",
    ",\n",
    "P_3=\\left[\\begin{matrix}\n",
    "0&1&0\\\\\n",
    "0&0&1\\\\\n",
    "1&0&0\n",
    "\\end{matrix}\\right]\n",
    ",\n",
    "P_4=\\left[\\begin{matrix}\n",
    "0&0&1\\\\\n",
    "1&0&0\\\\\n",
    "0&1&0\n",
    "\\end{matrix}\\right]\n",
    ",\n",
    "P_5=\\left[\\begin{matrix}\n",
    "0&0&1\\\\\n",
    "0&1&0\\\\\n",
    "1&0&0\n",
    "\\end{matrix}\\right]\n",
    "$  \n",
    "\n",
    "$I=P_1+P_5+P_2-P_3-P4$  \n",
    "\n",
    "$c_1=0$ as there is 1 at 1,1 for only 1 matrix.  \n",
    "$c_2=0$ as there is 1 at 3,3 for only 1 matrix.  \n",
    "$c_3=0$ as there is 1 at 2,3 for only 1 remaining matrices, as $c_1=0$  \n",
    "$c_4=0$ as there is 1 at 2,1 for only 1 remaining matrices, as $c_2=0$  \n",
    "$c_5=0$ as there is 1 at 2,2 for only 1 matrix.   \n",
    "\n",
    "As the 5 matrices are independent we can make a vector space from the five matrices.\n",
    "\n",
    "$V=c_1P_1+c_2P_2 \\dots c_5p_5=$  \n",
    "$\\left[\\begin{matrix}\n",
    "c_1    &    c_2+c_3&    c_4+c_5\\\\\n",
    "c_2+c_4&    c_5    &    c_1+c_3\\\\\n",
    "c_3+c_5&    c_1c_4&    c_2\n",
    "\\end{matrix}\\right]$\n"
   ]
  },
  {
   "cell_type": "markdown",
   "metadata": {
    "colab_type": "text",
    "id": "fQ1Xqdpy-d6T"
   },
   "source": [
    "#### Problem 11.2: \n",
    "(3.6 #31.) M is the space of three by three matrices. Multiply each matrix X in M by:  \n",
    "$A=\\left[\\begin{matrix}\n",
    " 1 & 0 &-1\\\\\n",
    "−1 & 1 & 0\\\\\n",
    " 0 &-1 & 1\n",
    "\\end{matrix}\\right]$\n",
    "\n",
    "Notice that $A\\left[\\begin{matrix}\n",
    " 1\\\\\n",
    " 1\\\\\n",
    " 1\n",
    "\\end{matrix}\\right]=\\left[\\begin{matrix}\n",
    " 0\\\\\n",
    " 0\\\\\n",
    " 0\n",
    "\\end{matrix}\\right]$\n",
    "\n",
    "a) Which matrices X lead to AX = 0?  \n",
    "b) Which matrices have the form AX for some matrix X?  \n",
    "c) Part (a) finds the “nullspace” of the operation AX and part (b) finds the “column space.” What are the dimensions of those two subspaces\n",
    "of M? Why do the dimensions add to (n − r) + r = 9?  \n",
    "\n",
    "**Ans**\n",
    "\n",
    "a)\n",
    "Matrices of the form=$c\\left[\\begin{matrix}\n",
    " 1 & 1 & 1\\\\\n",
    " 1 & 1 & 1\\\\\n",
    " 1 & 1 & 1\n",
    "\\end{matrix}\\right]$\n",
    "b)\n",
    "\n",
    "AX will be of the form=$\\left[\\begin{matrix}\n",
    "a-c\\\\\n",
    "b-a\\\\\n",
    "c-b\n",
    "\\end{matrix}\\right]$ for a matrix X with rows as a,b,c. Thus AX will have a null-space same as A."
   ]
  },
  {
   "cell_type": "markdown",
   "metadata": {
    "colab_type": "text",
    "id": "1Vtta1O42R18"
   },
   "source": [
    "### Graphs, Networks and Incidence Matrices\n",
    "\n"
   ]
  },
  {
   "cell_type": "code",
   "execution_count": 26,
   "metadata": {
    "colab": {
     "autoexec": {
      "startup": false,
      "wait_interval": 0
     },
     "base_uri": "https://localhost:8080/",
     "height": 362,
     "output_extras": [
      {
       "item_id": 1
      }
     ]
    },
    "colab_type": "code",
    "executionInfo": {
     "elapsed": 584,
     "status": "ok",
     "timestamp": 1521085549586,
     "user": {
      "displayName": "Kalyan Kaza",
      "photoUrl": "//lh3.googleusercontent.com/-KMQMBEgB4x0/AAAAAAAAAAI/AAAAAAAAHTw/GLg4kh1PFTY/s50-c-k-no/photo.jpg",
      "userId": "106862100495924346167"
     },
     "user_tz": 240
    },
    "id": "DcohfUo5mjEW",
    "outputId": "13736f32-82bf-4985-9aba-b32fc7322f1d"
   },
   "outputs": [
    {
     "data": {
      "image/png": "[encoded data removed]",
      "text/plain": [
       "<matplotlib.figure.Figure at 0x15211c89b0>"
      ]
     },
     "metadata": {},
     "output_type": "display_data"
    }
   ],
   "source": [
    "#!conda install networkx\n",
    "import networkx as nx\n",
    "%matplotlib inline\n",
    "import matplotlib.pyplot as plt\n",
    "nodes=[1,2,3,4]\n",
    "edges=[(1,2),(1,3),(1,4),(2,3),(3,4)]\n",
    "edgelabels={e:i+1 for i,e in enumerate(edges)}\n",
    "\n",
    "G=nx.DiGraph()\n",
    "G.add_nodes_from(nodes)\n",
    "G.add_edges_from(edges)\n",
    "pos=nx.spring_layout(G)\n",
    "nx.draw_networkx(G,pos,with_labels=1,arrows=True,ax=None,node_color='c')\n",
    "nx.draw_networkx_edge_labels(G,pos,edge_labels=edgelabels)\n",
    "plt.axis('off')\n",
    "plt.title(\"Electrical Circuit\")\n",
    "plt.show()\n"
   ]
  },
  {
   "cell_type": "markdown",
   "metadata": {
    "colab_type": "text",
    "id": "zkJiWn6kmpHX"
   },
   "source": [
    "The above graph can be represented as below  \n",
    "$\\begin{array}{c|cccc}\n",
    "\\text{Nodes}\\rightarrow&1&2&3&4\\\\\n",
    "\\text{Edges}\\downarrow\\\\\n",
    "\\hline\\\\\n",
    "1&-1& 1& 0&0\\\\\n",
    "2&-1& 0& 1&0\\\\\n",
    "3&-1& 0& 0&1\\\\\n",
    "4& 0&-1& 1&0\\\\\n",
    "5& 0& 0&-1&1\n",
    "\\end{array}$  \n",
    "\n",
    "And thus as a matrix A  \n",
    "\n",
    "$A=\\left[\\begin{matrix}\n",
    "-1& 1& 0&0\\\\\n",
    "-1& 0& 1&0\\\\\n",
    "-1& 0& 0&1\\\\\n",
    " 0&-1& 1&0\\\\\n",
    " 0& 0&-1&1\n",
    "\\end{matrix}\\right]$  \n",
    "\n",
    "First thing to note is take a look at a loop and the corresponding edges in this case row 1,2 and 4. Note that row1+row4=row2, we have dependence matrix for all edges in a loop.\n",
    "\n",
    "Let's try and see if there is a null-space to answer the question if the column vectors in A are dependent or independent.\n",
    "$\\left[\\begin{matrix}\n",
    "-1& 1& 0&0\\\\\n",
    "-1& 0& 1&0\\\\\n",
    "-1& 0& 0&1\\\\\n",
    " 0&-1& 1&0\\\\\n",
    " 0& 0&-1&1\n",
    "\\end{matrix}\\right]\n",
    "\\to\n",
    "\\left[\\begin{matrix}\n",
    "-1& 1& 0&0\\\\\n",
    " 0&-1& 1&0\\\\\n",
    " 0&-1& 0&1\\\\\n",
    " 0&-1& 1&0\\\\\n",
    " 0& 0&-1&1\n",
    "\\end{matrix}\\right]\n",
    "\\to\n",
    "\\left[\\begin{matrix}\n",
    "-1& 1& 0&0\\\\\n",
    " 0&-1& 1&0\\\\\n",
    " 0& 0&-1&1\\\\\n",
    " 0& 0& 0&0\\\\\n",
    " 0& 0&-1&1\n",
    "\\end{matrix}\\right]\n",
    "\\to\n",
    "\\left[\\begin{matrix}\n",
    "-1& 1& 0&0\\\\\n",
    " 0&-1& 1&0\\\\\n",
    " 0& 0&-1&1\\\\\n",
    " 0& 0& 0&0\\\\\n",
    " 0& 0& 0&0\n",
    "\\end{matrix}\\right]\n",
    "\\to\n",
    "\\left[\\begin{matrix}\n",
    " 1&-1& 0& 0\\\\\n",
    " 0& 1&-1& 0\\\\\n",
    " 0& 0& 1&-1\\\\\n",
    " 0& 0& 0& 0\\\\\n",
    " 0& 0& 0& 0\n",
    "\\end{matrix}\\right]\n",
    "\\to\n",
    "\\left[\\begin{matrix}\n",
    " 1& 0& 0&-1\\\\\n",
    " 0& 1& 0&-1\\\\\n",
    " 0& 0& 1&-1\\\\\n",
    " 0& 0& 0& 0\\\\\n",
    " 0& 0& 0& 0\n",
    "\\end{matrix}\\right]\n",
    "$  \n",
    "\n",
    "1. Column Space of A is 3 dimensional in $R^5$, as the rank of the matrix is 3.\n",
    "2. The NullSpace(A) in $R^4$ is\n",
    "$k\\left[\\begin{matrix}\n",
    "1\\\\\n",
    "1\\\\\n",
    "1\\\\\n",
    "1\n",
    "\\end{matrix}\\right]$  \n",
    "\n",
    "Another way to look at it is  \n",
    "\n",
    "Ax=0\n",
    "$\\implies\\left[\\begin{matrix}\n",
    "-1& 1& 0&0\\\\\n",
    "-1& 0& 1&0\\\\\n",
    "-1& 0& 0&1\\\\\n",
    " 0&-1& 1&0\\\\\n",
    " 0& 0&-1&1\n",
    "\\end{matrix}\\right]\n",
    "\\left[\\begin{matrix}\n",
    "x_1\\\\\n",
    "x_2\\\\\n",
    "x_3\\\\\n",
    "x_4\n",
    "\\end{matrix}\\right]\n",
    "=\n",
    "\\left[\\begin{matrix}\n",
    "x_2-x_1\\\\\n",
    "x_3-x_1\\\\\n",
    "x_4-x_1\\\\\n",
    "x_3-x_2\\\\\n",
    "x_4-x_3\n",
    "\\end{matrix}\\right]=0$  \n",
    "\n",
    "If we consider $x_1,x_2,x_3,x_4$ as the potential at respective points in electrical circuit. Then **x** in A**x**=0 represents the potential differences across the edges. All the  potential differences would be zero only when all the potentials are same. Thus the basis vector for the Null-Space is\n",
    "$x=\\left[\\begin{matrix}\n",
    "1\\\\\n",
    "1\\\\\n",
    "1\\\\\n",
    "1\n",
    "\\end{matrix}\\right]$  \n",
    "\n",
    "Now let's try for Left Null Space or Null-Space  $N(A^T)$\n",
    "\n",
    "\n",
    "$A^T=\\left[\\begin{matrix}\n",
    "-1&-1& -1& 0 & 0\\\\\n",
    " 1& 0&  0&-1 & 0\\\\\n",
    " 0& 1&  0& 1 &-1\\\\\n",
    " 0& 0&  1& 0 & 1\\\\\n",
    "\\end{matrix}\\right]$  \n",
    "Now $A^Ty=0\\implies\\left[\\begin{matrix}\n",
    "-1&-1& -1& 0 & 0\\\\\n",
    " 1& 0&  0&-1 & 0\\\\\n",
    " 0& 1&  0& 1 &-1\\\\\n",
    " 0& 0&  1& 0 & 1\\\\\n",
    "\\end{matrix}\\right]\n",
    "\\left[\\begin{matrix}\n",
    "y_1\\\\\n",
    "y_2\\\\\n",
    "y_3\\\\\n",
    "y_4\\\\\n",
    "y_5\n",
    "\\end{matrix}\\right]=\n",
    "\\left[\\begin{matrix}\n",
    "-y_1-y_2-y_3\\\\\n",
    "y_1-y_4\\\\\n",
    "y_2+y_4-y_5\\\\\n",
    "y_3+y_5\n",
    "\\end{matrix}\\right]=0$  \n",
    "\n",
    "Now y's are the currents through the edges.\n",
    "\n"
   ]
  },
  {
   "cell_type": "markdown",
   "metadata": {
    "colab_type": "text",
    "id": "s-w1NNl4ZExv"
   },
   "source": [
    "#### Lecture 12 Video"
   ]
  },
  {
   "cell_type": "code",
   "execution_count": 27,
   "metadata": {
    "cellView": "both",
    "colab": {
     "autoexec": {
      "startup": false,
      "wait_interval": 0
     },
     "base_uri": "https://localhost:8080/",
     "height": 336,
     "output_extras": [
      {
       "item_id": 1
      }
     ]
    },
    "colab_type": "code",
    "executionInfo": {
     "elapsed": 420,
     "status": "ok",
     "timestamp": 1521072491359,
     "user": {
      "displayName": "Kalyan Kaza",
      "photoUrl": "//lh3.googleusercontent.com/-KMQMBEgB4x0/AAAAAAAAAAI/AAAAAAAAHTw/GLg4kh1PFTY/s50-c-k-no/photo.jpg",
      "userId": "106862100495924346167"
     },
     "user_tz": 240
    },
    "id": "2xHFGeic-8lk",
    "outputId": "8607c598-7990-4588-c5c8-8316bce8202d"
   },
   "outputs": [
    {
     "data": {
      "text/html": [
       "<iframe width=\"560\" height=\"315\" src=\"https://www.youtube.com/embed/6-wh6yvk6uc?rel=0\" frameborder=\"0\" allow=\"autoplay; encrypted-media\" allowfullscreen></iframe>"
      ],
      "text/plain": [
       "<IPython.core.display.HTML object>"
      ]
     },
     "metadata": {},
     "output_type": "display_data"
    }
   ],
   "source": [
    "%%HTML\n",
    "<iframe width=\"560\" height=\"315\" src=\"https://www.youtube.com/embed/6-wh6yvk6uc?rel=0\" frameborder=\"0\" allow=\"autoplay; encrypted-media\" allowfullscreen></iframe>"
   ]
  },
  {
   "cell_type": "markdown",
   "metadata": {
    "colab_type": "text",
    "id": "cyle6cxMmNF0"
   },
   "source": [
    "Eigen Values =and Eigen Vectors\n",
    "--\n",
    "If $A$ is $n*n$ Matrix then there exists a eigen value(complex) $\\lambda$ and eigen vector $v$ such that  \n",
    "    \n",
    "<div style=\"border:solid\">$\\quad Av=\\lambda v$</div>\n",
    "\n",
    "$\\quad Av-\\lambda v=0$\n",
    "\n",
    "$\\quad (A-\\lambda I)v=0$\n",
    "<div style=\"border:solid\">$\\quad |A-\\lambda I|=0\\quad \\quad$</div>\n",
    "--\n",
    "<pre>for non zero eigen vector v to exist </pre>\n",
    "\n",
    "##### Getting Eigen Values\n",
    "If we consider $\\lambda$ to be a variable then $|A-\\lambda I|=0$ becomes a characteristic polynomial equation of the order of matrix $A$ ($n$). Called **characteristic polynomial** of $A$.  \n",
    "$(\\lambda - \\lambda_{1})(\\lambda - \\lambda_{2})(\\lambda - \\lambda_{3})...(\\lambda - \\lambda_{i})...(\\lambda - \\lambda_{n})=0$  \n",
    "(If you are confused about how a matrix representation became an polynomial equation in $\\lambda$ see the example workout below)  \n",
    "Now $\\lambda_{1},\\lambda_{2}...\\lambda_{n}$ are eigen values of matrix $A$\n",
    "##### Getting Eigen Vectors\n",
    "After this we can get the corresponding eigen vectors $v_{1},v_{2}...v_{n}$.\n",
    "\n",
    "Geometrically speaking  \n",
    "$A$ scales $v_{1}\\quad by\\quad\\lambda_{1}$  \n",
    "$A$ scales $v_{4}\\quad by\\quad\\lambda_{2}$  \n",
    ".  \n",
    ".  \n",
    ".  \n",
    "$A$ scales $v_{n}\\quad by\\quad\\lambda_{n}$  \n",
    "\n",
    "\n",
    "##### Properties of Eigen Values and Eigen Vectors #####\n",
    "\n",
    "\n",
    "###### Algebraic and Geometric Multiplicity ######\n",
    "In the above polynomial equation in $\\lambda$, there could be duplicate solutions when  \n",
    "$(\\lambda - \\lambda_{1})^{g_{1}}(\\lambda - \\lambda_{2})^{g_{2}}(\\lambda - \\lambda_{3})^{g_{3}}...(\\lambda - \\lambda_{i})^{g_{i}}=0$  \n",
    "$\\sum_{j=1}^{i} g_{j}=n\\quad$ Where $g_{j}$ is the **algebraic multiplicity** of $\\lambda_{j}$ w.r.t the polynomial equation all arrived at from the transformation matrix $A$.  \n",
    "$g_{j}$ the algebraic multiplicty is usually denoted as $\\mu_{A}(\\lambda_{j})$.\n",
    "\n",
    "For each eigen value $\\lambda$ there could be multiple *linearly independent* eigen vectors if $\\mu_{A}(\\lambda)>1$.  \n",
    "The number of linearly independent eignen vectors for each eigen value is known as **geometric multiplicity** denoted by $\\gamma_A(\\lambda)$.  \n",
    "$1\\leq\\gamma_A(\\lambda)\\leq\\mu_A(\\lambda)\\leq n\\quad$ for a given Matrix $A$ of size $n*n$ and one of its eigen value $\\lambda$   \n",
    "\n",
    "<div style=\"border:groove\">$\\lambda$ could be a complex number</div>\n",
    "--\n",
    "$\\lambda$ is called a simple eigenvalue if it's algebraic mulitplicity is one.  \n",
    "$\\lambda$ is called a semisimple eigenvalue if $\\mu_A(\\lambda)=\\gamma_A(\\lambda)$  \n",
    "\n",
    "\n",
    "#### For any Matrix $A$ with complex numbers  \n",
    "\n",
    "$\\operatorname {tr} (A)=\\sum _{i=1}^{n}A_{ii}=\\sum _{i=1}^{n}\\lambda _{i}=\\lambda _{1}+\\lambda _{2}+\\cdots +\\lambda _{n}.$  \n",
    "\n",
    "$\\det(A)=\\prod _{i=1}^{n}\\lambda _{i}=\\lambda _{1}\\lambda _{2}\\cdots \\lambda _{n}.$  \n",
    "\n",
    "#### Special Cases where handling of Matrices becomes easier.  \n",
    "\n",
    "Conjugate of a complex number $c=x+iy$ is $\\bar{c}=x-iy$.  \n",
    "Conjugate of a matrix $A$ is denoted as $\\bar{A}$.  \n",
    "$\\quad$Where $A_{i,j}=conjugate((\\bar{A})_{j,i})$.      \n",
    "$A$ is Hermitian matrix if $A=\\bar{A}^T$.  \n",
    "Conjugate Transpose of $A$, $\\bar{A}^T$ is usually denoted as $A^*$.  \n",
    "In case of $A=A^*$, all eigen values would be real.  \n",
    "When $A$ is real, $A=\\bar{A}$.  \n",
    "When $A$ is symmetric, $A=A^T$.  \n",
    "When $A$ is real symmetric all it's eigen values would be real.  \n",
    "\n",
    "When $A$ is Hermitan $A=A^*$ which is $\\bar{A^T}$  \n",
    "$\\quad\\bar{v^T}Av = \\bar{v^T} · (λv) = λ ||v||^2\\qquad(i)$  \n",
    "$\\quad\\bar{v^T}Av = \\bar{v^T}\\bar{A^T} · v\\qquad Given-A-is-Hermitan$  \n",
    "$\\qquad\\implies\\bar{v^T}Av = \\bar{(Av)^T} · v$  \n",
    "$\\qquad\\implies\\bar{v^T}Av = \\bar{(λv)^T} · v$  \n",
    "$\\qquad\\implies\\bar{v^T}Av = \\bar{(λv)^T} · v$  \n",
    "$\\qquad\\implies\\bar{v^T}Av = \\bar{(λv)^T} · v$  \n",
    "$\\qquad\\implies\\bar{v^T}Av = \\bar{λ}\\bar{v^T} · v$  \n",
    "$\\qquad\\implies\\bar{v^T}Av = \\bar{λ}||v||^2$  \n",
    "$\\qquad\\implies\\bar{v^T}Av = \\bar{λ}||v||^2 = λ ||v||^2\\qquad from (i)$\n",
    "<div style=\"border:groove\">$\\qquad\\bar{λ}=λ\\qquad$ Thus λ is real, when $A=A^*=\\bar{A^T}$, esp. when $A$ is real symmetric</div>  \n",
    "<div style=\"border:solid\">When $A$ is real symmetric all it's eigen values would be real.</div>\n",
    "--\n",
    "\n",
    "You can go to https://en.wikipedia.org/wiki/Eigenvalues_and_eigenvectors for further information.\n",
    "\n",
    "\n",
    "\n",
    "### Diagnolisable\n",
    "\n",
    "$\\quad Av=\\lambda v$  \n",
    "$\\qquad \\implies A{\\begin{bmatrix} v_1 &v_2 &\\cdots &v_n \\end{bmatrix}} ={\\begin{bmatrix}\\lambda _{1}v_{1}&\\lambda _{2}v_{2}&\\cdots &\\lambda _{n}v_{n}\\end{bmatrix}}$.  \n",
    "$\\qquad if D = \\left[{\\begin{array}{cccc} \\lambda_1&0&\\cdots &0\\\\ 0&\\lambda_2&\\cdots &0\\\\\\vdots \\\\0&0&\\cdots &\\lambda_n \\end{array}}\\right]$  \n",
    "$\\qquad if U={\\begin{bmatrix} v_1 &v_2 &\\cdots &v_n \\end{bmatrix}}$  \n",
    "$\\qquad\\implies AU=UD$  \n",
    "$\\qquad\\implies A=UDU^{-1}$  \n",
    "\n",
    "Conversly if we can decompose $A$ in to $UDU^{-1}$ where $D$ is a diagonal matrix. Then the diagonal elements of $D$ would be the eigen values and the columns in $U$ would be eigen vectors.\n",
    "\n",
    "\n",
    "### Singular Value Decomposition\n",
    "\n",
    "Eigen Value decomposition is useful for symmetric matrices for non symmetric matrices we can use SVD.\n",
    "\n",
    "$\\quad A_{m*n}=U_{m*m}\\sum_{m*n}V_{n*m}^{T}$  \n",
    "Here $A$ is called transformation matrix from $m$ space to $n$ space.  \n",
    "$U$ and $V$ should be orthogonal matrices and $\\sum$ should be a diagonal matrix.\n",
    "\n",
    "Given solution for $A^TA=V_sDV_s^{-1}$  \n",
    "From $V_s$ can be discard the vectors $i>m$ till $i=n$ and get $A$'s $V$  \n",
    "From $D$ get $\\sum$ by taking squareroot of all the positive λs (call it $\\sigma$)and taking largest $m$ of $n$.  \n",
    "#### <div style=\"border:solid\"> Now get $U$ by $u_i=\\frac{Av_i}{\\sigma_i}$</div>  \n",
    "**Importantly we need to make sure that $U$ and $V$ are normalized to vector length of 1***  \n"
   ]
  },
  {
   "cell_type": "markdown",
   "metadata": {
    "colab_type": "text",
    "id": "EL9TkAZxmNF3"
   },
   "source": [
    "## Examples\n",
    "*****\n",
    "*****\n",
    "### Example of how to get eigen values and their respective Eigen Vectors ######\n",
    "\n",
    "$\\quad A=\\left[{\\begin{array}{cc} 2&1\\\\1&2 \\end{array}}\\right]$\n",
    "\n",
    "$\\quad A-\\lambda I = \\left[{\\begin{array}{cc} 2-\\lambda &1\\\\1&2-\\lambda \\end{array}}\\right]$\n",
    "\n",
    "$\\quad |A-\\lambda I|=0$\n",
    "\n",
    "$\\quad =>(2-\\lambda)*(2-\\lambda)-1*1=0$\n",
    "\n",
    "$\\quad =>3-4\\lambda +\\lambda ^2=0$\n",
    "\n",
    "$\\quad =>(\\lambda -3)*(\\lambda -1)=0$\n",
    "\n",
    "$\\quad => \\lambda =3$\n",
    "\n",
    "    OR\n",
    "\n",
    "$\\quad \\quad  \\lambda =1$\n",
    "\n",
    "So here 3 and 1 are *eigen values*. Once we've the eigen values we could get the corresponding *eigen vectors*\n",
    "\n",
    "$\\quad Av=\\lambda v$\n",
    "\n",
    "###### For $\\lambda =1$\n",
    "$\\quad Av=1*v\\quad    For\\quad    \\lambda =1$\n",
    "    \n",
    "$ \\left[{\\begin{array}{cc} 2&1\\\\1&2 \\end{array}}\\right] * \\left[{\\begin{array}{c} x\\\\y \\end{array}}\\right] = \\left[{\\begin{array}{c} x\\\\y \\end{array}}\\right]$\n",
    "\n",
    "Both equations give $x=-y$\n",
    "So $v_{\\lambda =1}=\\left[{\\begin{array}{c} 1\\\\-1 \\end{array}}\\right]$ or any non-zero scalar multiple of the same.\n",
    "\n",
    "###### For $\\lambda =3$\n",
    "$\\quad Av=3*v\\quad    For\\quad    \\lambda =3$\n",
    "    \n",
    "$ \\left[{\\begin{array}{cc} 2&1\\\\1&2 \\end{array}}\\right] * \\left[{\\begin{array}{c} x\\\\y \\end{array}}\\right] = \\left[{\\begin{array}{c} 3x\\\\3y \\end{array}}\\right]$\n",
    "\n",
    "Both equations give $x=y$\n",
    "So $v_{\\lambda =1}=\\left[{\\begin{array}{c} 1\\\\1 \\end{array}}\\right]$ or any non-zero scalar multiple of the same.\n",
    "\n",
    "###### So for A, eigen values are 1 and 3 and their corresponding eigen vectors are $v_{\\lambda =1}=\\left[{\\begin{array}{c} 1\\\\-1 \\end{array}}\\right]$ and $v_{\\lambda =1}=\\left[{\\begin{array}{c} 1\\\\1 \\end{array}}\\right]$\n",
    "*******\n",
    "*******\n",
    "### Another Example of decomposition for a diagonal matrix\n",
    "\n",
    "$\\quad A=\\left[{\\begin{array}{ccc} 1&0&0\\\\0&2&0\\\\0&0&3 \\end{array}}\\right]$  \n",
    "Now do $|A-\\lambda I|=0$  \n",
    "$\\quad(1-\\lambda)*(2-\\lambda)*(3-\\lambda)=0$  \n",
    "$\\quad\\lambda_1=1,\\lambda_2=2,\\lambda_3=3$  \n",
    "For $v_1 (\\lambda_1=1)$  \n",
    "$\\quad x=x$  \n",
    "$\\quad\\quad$True for any x, so we choose x=1 and all it's non zero scalar multiples as eigen vectors  \n",
    "$\\quad2y=y$  \n",
    "$\\quad\\quad$y=0  \n",
    "$\\quad3z=z$  \n",
    "$\\quad\\quad$z=0  \n",
    "$\\quad v_1=\\left[{\\begin{array}{c} 1\\\\0\\\\0 \\end{array}}\\right]$  \n",
    "For $v_2 (\\lambda_2=2)$  \n",
    "$\\quad x=2x$  \n",
    "$\\quad 2y=2y$  \n",
    "$\\quad 3z=2z$  \n",
    "$\\quad v_1=\\left[{\\begin{array}{c} 0\\\\1\\\\0 \\end{array}}\\right]$  \n",
    "For $v_3 (\\lambda_3=3)$  \n",
    "$\\quad x=3x$  \n",
    "$\\quad 2y=3y$  \n",
    "$\\quad 3z=3z$  \n",
    "$\\quad v_1=\\left[{\\begin{array}{c} 0\\\\0\\\\1 \\end{array}}\\right]$  \n",
    "\n",
    "****\n",
    "****\n"
   ]
  },
  {
   "cell_type": "markdown",
   "metadata": {
    "colab_type": "text",
    "id": "Aja7bvLamNF3"
   },
   "source": [
    "### SVD Example\n",
    "\n",
    "$\\quad A= \\left[{\\begin{array}{ccc} 3&2&2\\\\2&3&-2 \\end{array}}\\right]$  \n",
    "$\\quad A^TA = \\left[{\\begin{array}{cc} 3&2\\\\2&3\\\\2&-2 \\end{array}}\\right].\\left[{\\begin{array}{ccc} 3&2&2\\\\2&3&-2 \\end{array}}\\right]$  \n",
    "$\\quad A^TA=\\left[{\\begin{array}{ccc} 13&12&2\\\\12&13&-2\\\\2&-2&8 \\end{array}}\\right]$  \n",
    "$\\quad |A^TA-\\lambda I|=0$  \n",
    "$\\quad\\implies \\left|\\left[{\\begin{array}{ccc} 13-λ&12&2\\\\12&13-λ&-2\\\\2&-2&8-λ \\end{array}}\\right]\\right|=0$  \n",
    "$\\quad\\implies (13-λ)((13-λ)*(8-λ)-4)-12(96-12λ+4)+2(-24-26+2λ)=0$  \n",
    "$\\quad\\implies (13-λ)(13*8-13λ-8λ+λ^2-4)-12^2*2^3+12^2λ-12*2^2-12*4-13*4+4λ=0$  \n",
    "$\\quad\\implies (13-λ)(2^2*5^2+(2^2-5^2)λ+λ^2)-13*2^2*5^2+4λ+12^2λ=0$  \n",
    "$\\quad\\implies (13-λ)(2^2*5^2+(2^2-5^2)λ+λ^2)-13*2^2*5^2+4λ+12^2λ=0$  \n",
    "$\\quad\\implies 13(2^2*5^2+(2^2-5^2)λ+λ^2)-λ(2^2*5^2+(2^2-5^2)λ+λ^2)+148λ-13*2^2*5^2=0$  \n",
    "$\\quad\\implies 13*2^2*5^2+13(2^2-5^2)λ+13λ^2-2^2*5^2λ-(2^2-5^2)λ^2-λ^3+148λ-13*2^2*5^2=0$  \n",
    "$\\quad\\implies -λ^3+13λ^2-(2^2-5^2)λ^2+13(2^2-5^2)λ-2^2*5^2λ+148λ+13*2^2*5^2-13*2^2*5^2=0$  \n",
    "$\\quad\\implies -λ^3+13λ^2-(2^2-5^2)λ^2+13(2^2-5^2)λ-2^2*5^2λ+148λ=0$  \n",
    "$\\quad\\implies -λ^3+(13+5^2-2^2)λ^2-13(5^2-2^2)λ-2^2*5^2λ+148λ=0$  \n",
    "$\\quad\\implies -λ^3+(13+5^2-2^2)λ^2-(13*5^2-13*2^2+2^2*5^2)λ+148λ=0$  \n",
    "$\\quad\\implies -λ^3+34λ^2-373λ+148λ=0$  \n",
    "$\\quad\\implies -λ^3+34λ^2-225λ=0$  \n",
    "$\\quad\\implies -λ(λ^2-(25+9)λ+25*9)=0$  \n",
    "$\\quad\\implies -λ(λ-25)(λ-9)=0$  \n",
    "$\\quad\\implies λ=25,9,0$  \n",
    "$D = \\left[{\\begin{array}{ccc} 25&0&0\\\\0&9&0\\\\0&0&0 \\end{array}}\\right]$  this is $D$ for $A^TA$  \n",
    "This also gives us the below:-  \n",
    "$\\sum=\\left[{\\begin{array}{ccc} 5&0&0\\\\0&3&0\\\\0&0&0 \\end{array}}\\right]$  this is $\\sum$ in \" $A=U\\sum V^T$  \"\n",
    "--\n",
    "\n",
    "\n",
    "Let's calculate the eigenvectors for $A^TA$  \n",
    "$\\quad A^TAv_1=λ_1v_1$  \n",
    "$\\left[{\\begin{array}{ccc} 13&12&2\\\\12&13&-2\\\\2&-2&8 \\end{array}}\\right]\\left[{\\begin{array}{c} x\\\\y\\\\z \\end{array}}\\right]=\\left[{\\begin{array}{c} 25x\\\\25y\\\\25z \\end{array}}\\right]$  \n"
   ]
  },
  {
   "cell_type": "markdown",
   "metadata": {
    "colab_type": "text",
    "id": "md9FhEOOmNF4"
   },
   "source": [
    "    \n",
    "$13x+12y+2z=25x$  \n",
    "$12x+13y-2z=25y$  \n",
    "$2x-2y+8z=25z$  \n",
    "  \n",
    "$x-y=z/6$  \n",
    "$x-y=17z/2$  \n",
    "  \n",
    "$x=1,y=1,z=0$ and any non zero scalar multiple of the same would be an eigen vector for $\\lambda=25$  \n",
    "$\\quad v_{\\lambda = 25}=\\left[{\\begin{array}{c}1\\\\1\\\\0\\end{array}}\\right]$  \n",
    "  \n",
    "$13x+12y+2z=9x$  \n",
    "$12x+13y-2z=9y$  \n",
    "$2x-2y+8z=9z$  \n",
    "  \n",
    "$2x+6y=-z$\n",
    "$6x+2y=z$\n",
    "$2x-2y=z$\n",
    "  \n",
    "$\\quad v_{\\lambda = 9}=\\left[{\\begin{array}{c}1\\\\-1\\\\4\\end{array}}\\right]$\n",
    "  \n",
    "There is really no need for us to calculate the eigenvector when $λ=0$  \n",
    "$13x+12y+2z=0  \n",
    "$12x+13y-2z=0  \n",
    "$2x-2y+8z=0  \n",
    "  \n",
    "$x=-y$\n",
    "$x=-2z$\n",
    "  \n",
    "$\\quad v_{\\lambda = 9}=\\left[{\\begin{array}{c}1\\\\-1\\\\-1/2\\end{array}}\\right]$\n",
    "\n",
    "\n",
    "**Now $V=\\left[{\\begin{array}{ccc}1&1&1\\\\1&-1&-1\\\\0&4&-1/2\\end{array}}\\right]$  this is $V$ in \" $A=U\\sum{}V^T$  \"\n",
    "Now $V=\\left[{\\begin{array}{ccc}1/\\sqrt{2}&1/\\sqrt{18}&1\\\\1/\\sqrt{2}&-1/\\sqrt{18}&-1\\\\0&4/\\sqrt{18}&-1/2\\end{array}}\\right]$  this is $V$ in \" $A=U\\sum{}V^T$  \"**\n",
    "\n",
    "**\n",
    "<div style=\"border:solid\">From SVD we define $u_i=Av_i/\\sigma_i$  </div>\n",
    "  **\n",
    "$u_1=1/\\sigma_1 \\left[{\\begin{array}{ccc} 3&2&2\\\\2&3&-2 \\end{array}}\\right].\\left[{\\begin{array}{c}1\\\\1\\\\0\\end{array}}\\right]$  \n",
    "$u_i=1/5 \\left[{\\begin{array}{c} 5\\\\5 \\end{array}}\\right]$  \n",
    "$u_i=\\left[{\\begin{array}{c} 1\\\\1 \\end{array}}\\right]$  \n",
    "  \n",
    "$u_2=1/\\sigma_2 \\left[{\\begin{array}{ccc} 3&2&2\\\\2&3&-2 \\end{array}}\\right].\\left[{\\begin{array}{c}1\\\\-1\\\\4\\end{array}}\\right]$  \n",
    "$u_i=1/3 \\left[{\\begin{array}{c} 9\\\\-9 \\end{array}}\\right]$  \n",
    "$u_i=\\left[{\\begin{array}{c} 3\\\\-3 \\end{array}}\\right]$  \n",
    "\n",
    "Now $U=\\left[{\\begin{array}{cc}1&3\\\\1&-3\\end{array}}\\right]$  this is $V$ in \" $A=U\\sum{}V^T$  \"  \n",
    "**Now $U=\\left[{\\begin{array}{cc}1/\\sqrt{2}&1/\\sqrt{2}\\\\1/\\sqrt{2}&-1/\\sqrt{2}\\end{array}}\\right]$  this is $V$ in \" $A=U\\sum{}V^T$  \"**\n",
    "\n",
    "Now let's calculate $U\\sum V^T$  \n",
    "$U\\sum V^T=\\left[{\\begin{array}{cc}1&3\\\\1&-3\\end{array}}\\right].\\left[{\\begin{array}{ccc} 5&0&0\\\\0&3&0\\\\0&0&0 \\end{array}}\\right].\\left[{\\begin{array}{ccc}1&1&1\\\\1&-1&-1\\\\0&4&-1/2\\end{array}}\\right]^T$  \n"
   ]
  },
  {
   "cell_type": "code",
   "execution_count": 28,
   "metadata": {
    "colab": {
     "autoexec": {
      "startup": false,
      "wait_interval": 0
     },
     "output_extras": [
      {}
     ]
    },
    "colab_type": "code",
    "id": "47ppq2almNF5",
    "outputId": "b211683b-6659-4770-fbd2-bc61fc401cbd"
   },
   "outputs": [
    {
     "name": "stdout",
     "output_type": "stream",
     "text": [
      "[[ 14  -4  36]\n",
      " [ -4  14 -36]]\n"
     ]
    }
   ],
   "source": [
    "import numpy as np\n",
    "U=[[1,3],[1,-3]]\n",
    "D=[[5,0],[0,3]]\n",
    "V=np.asarray([[1,1],[1,-1],[0,4]])\n",
    "A=np.matmul(U,D)\n",
    "A=np.matmul(A,np.matrix.transpose(V))\n",
    "print(A)"
   ]
  },
  {
   "cell_type": "markdown",
   "metadata": {
    "colab_type": "text",
    "id": "VHyjJqE1mNGA"
   },
   "source": [
    "$U\\sum V^T=\\left[{\\begin{array}{cc}1&3\\\\1&-3\\end{array}}\\right].\\left[{\\begin{array}{ccc} 5&0\\\\0&3 \\end{array}}\\right].\\left[{\\begin{array}{ccc}1&1&1\\\\1&-1&-1\\\\0&4&-1/2\\end{array}}\\right]^T$  \n",
    "$U\\sum V^T=\\left[{\\begin{array}{cc}1&3\\\\1&-3\\end{array}}\\right].\\left[{\\begin{array}{ccc} 5&0\\\\0&3 \\end{array}}\\right].\\left[{\\begin{array}{cc} 1&1\\\\1&-1\\\\0&4\\end{array}}\\right]^T$  \n",
    "$U\\sum V^T=\\left[{\\begin{array}{cc}1&3\\\\1&-3\\end{array}}\\right].\\left[{\\begin{array}{ccc} 5&0\\\\0&3 \\end{array}}\\right].\\left[{\\begin{array}{ccc} 1&1&0\\\\1&-1&4 \\end{array}}\\right]$  \n",
    "$U\\sum V^T=\\left[{\\begin{array}{cc}5&9\\\\5&-9\\end{array}}\\right].\\left[{\\begin{array}{ccc} 1&1&0\\\\1&-1&4 \\end{array}}\\right]$  \n",
    "\n",
    "Well clearly this is not working... So we need to make sure that the eigen vectors are unary.\n",
    "\n",
    "$U\\sum V^T=$$\\left[{\\begin{array}{cc}1/\\sqrt{2}&1/\\sqrt{2}\\\\1/\\sqrt{2}&-1/\\sqrt{2}\\end{array}}\\right]$.$\\left[{\\begin{array}{ccc} 5&0&0\\\\0&3&0\\\\0&0&0 \\end{array}}\\right].\\left[{\\begin{array}{ccc}1/\\sqrt{2}&1/\\sqrt{18}&1\\\\1/\\sqrt{2}&-1/\\sqrt{18}&-1\\\\0&4/\\sqrt{18}&-1/2\\end{array}}\\right]^T$  \n",
    "\n"
   ]
  },
  {
   "cell_type": "code",
   "execution_count": 29,
   "metadata": {
    "colab": {
     "autoexec": {
      "startup": false,
      "wait_interval": 0
     },
     "output_extras": [
      {}
     ]
    },
    "colab_type": "code",
    "id": "qDSKgKwhmNGC",
    "outputId": "4c62be1a-714e-4cee-d1a3-c5013fda38a8"
   },
   "outputs": [
    {
     "name": "stdout",
     "output_type": "stream",
     "text": [
      "[[ 3.  2.  2.]\n",
      " [ 2.  3. -2.]]\n"
     ]
    }
   ],
   "source": [
    "import numpy as np\n",
    "U=[[1/2**0.5,1/2**0.5],[1/2**0.5,-1/2**0.5]]\n",
    "D=[[5,0],[0,3]]\n",
    "V=np.asarray([[1/2**0.5,1/18**0.5],[1/2**0.5,-1/18**0.5],[0,4/18**0.5]])\n",
    "A=np.matmul(U,D)\n",
    "A=np.matmul(A,np.matrix.transpose(V))\n",
    "print(A)\n"
   ]
  },
  {
   "cell_type": "markdown",
   "metadata": {
    "colab_type": "text",
    "id": "iT1z-QIRmNGF"
   },
   "source": [
    "$U\\sum V^T=\\left[{\\begin{array}{cc}1/\\sqrt{2}&1/\\sqrt{2}\\\\1/\\sqrt{2}&-1/\\sqrt{2}\\end{array}}\\right].\\left[{\\begin{array}{ccc} 5&0\\\\0&3 \\end{array}}\\right].\\left[{\\begin{array}{ccc}1/\\sqrt{2}&1/\\sqrt{18}&1\\\\1/\\sqrt{2}&-1/\\sqrt{18}&-1\\\\0&4/\\sqrt{18}&-1/2\\end{array}}\\right]^T$  \n",
    "$U\\sum V^T=\\left[{\\begin{array}{cc}1/\\sqrt{2}&1/\\sqrt{2}\\\\1/\\sqrt{2}&-1/\\sqrt{2}\\end{array}}\\right].\\left[{\\begin{array}{ccc} 5&0\\\\0&3 \\end{array}}\\right].\\left[{\\begin{array}{cc} 1/\\sqrt{2}&1/\\sqrt{18}\\\\1/\\sqrt{2}&-1/\\sqrt{18}\\\\0&4/\\sqrt{18}\\end{array}}\\right]^T$  \n",
    "$U\\sum V^T=\\left[{\\begin{array}{cc}1/\\sqrt{2}&1/\\sqrt{2}\\\\1/\\sqrt{2}&-1/\\sqrt{2}\\end{array}}\\right].\\left[{\\begin{array}{ccc} 5&0\\\\0&3 \\end{array}}\\right].\\left[{\\begin{array}{ccc} 1/\\sqrt{2}&1/\\sqrt{2}&0\\\\1/\\sqrt{18}&-1/\\sqrt{18}&4/\\sqrt{18} \\end{array}}\\right]$  \n",
    "$U\\sum V^T=\\left[{\\begin{array}{cc}1/\\sqrt{2}&1/\\sqrt{2}\\\\1/\\sqrt{2}&-1/\\sqrt{2}\\end{array}}\\right].\\left[{\\begin{array}{ccc} 5&0\\\\0&3 \\end{array}}\\right].\\left[{\\begin{array}{ccc} 1/\\sqrt{2}&1/\\sqrt{2}&0\\\\1/\\sqrt{18}&-1/\\sqrt{18}&4/\\sqrt{18} \\end{array}}\\right]$  \n",
    "$U\\sum V^T=\\left[{\\begin{array}{cc}5/\\sqrt{2}&3/\\sqrt{2}\\\\5/\\sqrt{2}&-3/\\sqrt{2}\\end{array}}\\right].\\left[{\\begin{array}{ccc} 1/\\sqrt{2}&1/\\sqrt{2}&0\\\\1/\\sqrt{18}&-1/\\sqrt{18}&4/\\sqrt{18} \\end{array}}\\right]$  \n",
    "$U\\sum V^T=\\left[{\\begin{array}{ccc} 6/\\sqrt{2}^2&4/\\sqrt{2}^2&\\frac{3*4}{3*2}\\\\5/\\sqrt{2}^2&6/\\sqrt{2}^2&-\\frac{3*4}{3*2} \\end{array}}\\right]$  \n",
    "$U\\sum V^T=\\left[{\\begin{array}{ccc} 3&2&2\\\\2&3&-2 \\end{array}}\\right]=A$  \n",
    "\n"
   ]
  },
  {
   "cell_type": "markdown",
   "metadata": {
    "colab_type": "text",
    "id": "1GFNrxNxmNGF"
   },
   "source": [
    "\n",
    "\n",
    "##### Single Value Decomposition"
   ]
  },
  {
   "cell_type": "markdown",
   "metadata": {
    "colab_type": "text",
    "id": "hNeIJ6lXmNGG"
   },
   "source": [
    "\n",
    "##### Known notes\n",
    "Given\n",
    "\n",
    "$a_{1}x + b_{1}y + c_{1}z =k_{1}$\n",
    "\n",
    "$a_{2}x + b_{2}y + c_{2}z =k_{2}$\n",
    "\n",
    "$a_{3}x + b_{3}y + c_{3}z =k_{3}$\n",
    "\n",
    "$A=\\left[{\\begin{array}{ccc} \n",
    "    a_{1} & b_{1} & c_{1}\\\\\n",
    "    a_{2} & b_{2} & c_{2}\\\\\n",
    "    a_{3} & b_{3} & c_{3}\\\\\n",
    "    \\end{array}} \\right]$\n",
    "\n",
    "and\n",
    "\n",
    "$K=\\left[{\\begin{array}{c} \n",
    "    k_{1}\\\\\n",
    "    k_{2}\\\\\n",
    "    k_{3}\\\\\n",
    "    \\end{array}} \\right]$\n",
    "\n",
    "\n",
    "$V=\\left[{\\begin{array}{c} \n",
    "    x\\\\\n",
    "    y\\\\\n",
    "    z\\\\\n",
    "    \\end{array}} \\right]$\n",
    "\n",
    "$AV=K$\n",
    "\n",
    "$=>A^{-1}AV=A^{-1}K$\n",
    "\n",
    "$=>IV=A^{-1}K$\n",
    "\n",
    "$=>V=A^{-1}K$\n",
    "\n",
    "$=>V=\\frac{1}{|A|} adj(A)K$\n",
    "\n",
    "$=>V=\\frac{1}{|A|} C^{T}K$\n",
    "\n",
    "Where **C** is a co-factor matrix of **A**\n",
    "\n",
    "To support an earlier version when\n",
    "\n",
    "$AV-K=0$\n",
    "\n",
    "$(A-KI)V=0 ??$\n",
    "\n",
    "\n"
   ]
  },
  {
   "cell_type": "markdown",
   "metadata": {
    "colab_type": "text",
    "id": "JTTV1w9qmNGH"
   },
   "source": [
    "### Unknown Terms that should be learnt\n",
    "\n",
    "*  Lebesgue Measure\n",
    "*  Gram Schmidt Process\n",
    "\n",
    "###### Useful is SVD\n",
    "*  Cholesky Decomposition (LU etc..)\n",
    "*  QR Algorithm\n"
   ]
  },
  {
   "cell_type": "markdown",
   "metadata": {
    "colab_type": "text",
    "id": "9nrMlPBtmNGI"
   },
   "source": [
    "### Assignment Problems"
   ]
  },
  {
   "cell_type": "markdown",
   "metadata": {
    "colab_type": "text",
    "id": "_fqjPECNmNGJ"
   },
   "source": [
    "###### Problem A-1. \n",
    "Decide whether the following statements are true or false. No explanation\n",
    "needed.  \n",
    "  \n",
    "1. The row-rank and column-rank of a matrix is always equal to each other.  \n",
    "$\\quad$ True  \n",
    "  \n",
    "2. For a $m × n$ matrix $A$ and a $n × g$ matrix $B$, it is always true that rank(AB) ≤ rank(A).  \n",
    "$\\quad$ True in fact rank(AB) ≤ min(rank(A),rank(B))  \n",
    "  \n",
    "3. There are matrices whose left-inverse and right-inverse are not equal to each other, i.e.,  \n",
    " ∃A, B, C such that BA = I and AC = I.  \n",
    " $\\quad$ False  \n",
    "  \n",
    "4. A matrix has full-rank if and only if it is invertible.  \n",
    "$\\quad$ Not sure but the inverse is true though, a matrix is invertible if and only if it has a fill rank.  \n",
    "  \n",
    "5. All symmetric matrices are invertible.  \n",
    "$\\quad$ Only symmetric matrices with full rank are invertible.  \n",
    "  \n",
    "6. A matrix is invertible if all eigenvalues are distinct.  \n",
    "$\\quad$Ans:If algebraic multiplicty is >1 for a given $\\lambda$ then $\\lambda$s are not distinct.  \n",
    "<div style=\"border:solid\">Not sure of invertibility in relation to multiplicity of an eigen value.</div>  \n",
    "But A matrix is invertible if and only if it has all non-zero eigen values. But a given eigen value is said to be repeated if it's geometric multiplicity is >1.  \n",
    "So the statement could be False.  \n",
    "The statement should be \"A matrix is invertible if all eigenvalues are non-zero real values.\" This would imply that A is Hermitian matrix and thus is invertible.\n",
    "  \n",
    "7. A matrix is diagonalizable if and only if it is invertible.  \n",
    "$\\quad$Ans:Invertibility has nothing to do with diagonalizability as $A=UDU^-1$ for symmetric matrices via EVD and $A=U\\sum V^T$ for non symmetric matrices via  SVD"
   ]
  },
  {
   "cell_type": "markdown",
   "metadata": {
    "colab_type": "text",
    "id": "Zp-5uWDUmNGJ"
   },
   "source": [
    "###### Problem A-2  \n",
    "1. Find an orthonormal basis of the subspace of $R^5$ spanned by $v_1$, $v_2$, and\n",
    "$v_3$, where $v_1$ = (1, 0, 1, 0, 1), $v_2$ = (1, 1, 1, 0, 0), and $v_3$ = (0, 0, 1, 1, 1), using Gram-Schmidt\n",
    "process.\n",
    "2. Complete the basis found in (a), into an orthonormal basis of R5.  \n",
    "3. Find the matrix U which transforms the basis found in (b) into the standard basis of R5.  "
   ]
  },
  {
   "cell_type": "code",
   "execution_count": 30,
   "metadata": {
    "colab": {
     "autoexec": {
      "startup": false,
      "wait_interval": 0
     },
     "output_extras": [
      {}
     ]
    },
    "colab_type": "code",
    "id": "QmILIgGimNGK",
    "outputId": "672e3f3e-4aca-4197-eeaa-1cff935ebe91"
   },
   "outputs": [
    {
     "name": "stdout",
     "output_type": "stream",
     "text": [
      "[[1 1 0]\n",
      " [0 1 0]\n",
      " [1 1 1]\n",
      " [0 0 1]\n",
      " [1 0 1]]\n",
      "[1 0 1 0 1]\n",
      "[ 0.33333333  1.          0.33333333  0.         -0.66666667]\n",
      "[-0.6  0.2  0.4  1.   0.2]\n",
      "Test Orthonormality\n",
      "1.1102230246251565e-16\n",
      "1.1102230246251565e-16\n",
      "-5.551115123125783e-17\n",
      "All vectors are perpendicular to each other as the dot products are very close to zero.\n",
      "U=[[ 0.57735027  0.25819889 -0.47434165]\n",
      " [ 0.          0.77459667  0.15811388]\n",
      " [ 0.57735027  0.25819889  0.31622777]\n",
      " [ 0.          0.          0.79056942]\n",
      " [ 0.57735027 -0.51639778  0.15811388]]\n",
      "Test=[[ 1.00000000e+00  5.55111512e-17  5.55111512e-17]\n",
      " [ 5.55111512e-17  1.00000000e+00 -5.55111512e-17]\n",
      " [ 5.55111512e-17 -5.55111512e-17  1.00000000e+00]]\n"
     ]
    }
   ],
   "source": [
    "import numpy as np\n",
    "\n",
    "A=np.column_stack(([1,0,1,0,1],[1,1,1,0,0],[0,0,1,1,1]))\n",
    "print(A)\n",
    "V1=np.transpose([1,0,1,0,1])\n",
    "V2=np.transpose([1,1,1,0,0])\n",
    "V3=np.transpose([0,0,1,1,1])\n",
    "\n",
    "U1=V1\n",
    "U2=V2-(np.matmul(np.transpose(U1),V2)/np.matmul(np.transpose(U1),U1))*U1\n",
    "U3=V3-(np.matmul(np.transpose(U1),V3)/np.matmul(np.transpose(U1),U1))*U1 - (np.matmul(np.transpose(U2),V3)/np.matmul(np.transpose(U2),U2))*U2\n",
    "\n",
    "print(U1)\n",
    "print(U2)\n",
    "print(U3)\n",
    "print(\"Test Orthonormality\")\n",
    "print(np.matmul(np.transpose(U1),U2))\n",
    "print(np.matmul(np.transpose(U1),U3))\n",
    "print(np.matmul(np.transpose(U2),U3))\n",
    "print(\"All vectors are perpendicular to each other as the dot products are very close to zero.\")\n",
    "\n",
    "E1=U1/np.matmul(np.transpose(U1),U1)**0.5\n",
    "E2=U2/np.matmul(np.transpose(U2),U2)**0.5\n",
    "E3=U3/np.matmul(np.transpose(U3),U3)**0.5\n",
    "\n",
    "U=np.column_stack((E1,E2,E3))\n",
    "print(\"U=\" + str(U))\n",
    "#Tranpose(U).U=I as U is an orthonormal basis.\n",
    "print(\"Test=\" + str(np.matmul(np.transpose(U),U)))\n"
   ]
  },
  {
   "cell_type": "markdown",
   "metadata": {
    "colab_type": "text",
    "id": "Ouyqro1qmNGO"
   },
   "source": [
    "###### Problem B-1. \n",
    "Decide whether the following statements about a singular value decomposition $A = UΣV^T$ are true or false. EXPLAIN the reason.  \n",
    "1.  The number of non-zero diagonal entries of Σ is equal to the rank of A.  \n",
    "$\\quad$True.  \n",
    "  \n",
    "2. Σ is uniquely determined up to permuting the rows and columns.  \n",
    "$\\quad$  Don't understand the question  \n",
    "  \n",
    "3. If A is a n × n matrix, then U and V can be chosen so that U = V .\n",
    "$\\quad$ False.  \n",
    "$\\quad$In $n × n$ case it wouldn't be $A=UDV^T$ but it would be $A=UDV^{-1}$.  \n",
    "$\\quad$Both would be the same only when $V^T=V^{-1}$. This would be the case when A is Hermititan(or real symmetric matrix).\n",
    "\n",
    "4. If A is a symmetric n × n matrix, then U and V can be chosen so that U = V  \n",
    "$\\quad$Not is A is a symmetric n × n matrix, with complex numbers on non-diagonal. In which case it needs to be a Hermitian for this to be True. That is $A=A^*$, that is $A=\\bar{A}^{T}$. This is not the case when A is symmetric as below:-\n",
    "$\\quad$$A=\\left[{\\begin{array}{cc} 1&i\\\\i&1 \\end{array}}\\right]$  \n"
   ]
  },
  {
   "cell_type": "markdown",
   "metadata": {
    "colab_type": "text",
    "id": "7TilbCM0mNGO"
   },
   "source": [
    "###### Problem B-2. \n",
    "Prove that the matrices $AA^T$ and $A^TA$ have the same set of non-zero eigenvalues.\n",
    "(Hint: consider the singular value decomposition of A)\n",
    "\n",
    "$A=U\\sum V^T$  \n",
    "$\\quad\\implies A^T=V(U\\sum )^T$  \n",
    "$\\quad\\implies A^T=V\\sum^TU^T$  \n",
    "$A^TA=V\\sum^2V^T$  \n",
    "$AA^T=U\\sum V^TV\\sum^TU^T$ Since $V$ is an othogonal matrix as $AA^T$ is real symmetric, for orthogonal matrices $VV^T=V^TV=I$ and $V^T=V^{-1}$  \n",
    "$\\quad\\implies AA^T=U\\sum \\sum^TU^T$  \n",
    "$\\quad\\implies AA^T=U\\sum^2U^T$ "
   ]
  },
  {
   "cell_type": "markdown",
   "metadata": {
    "colab": {
     "autoexec": {
      "startup": false,
      "wait_interval": 0
     },
     "output_extras": [
      {}
     ]
    },
    "colab_type": "code",
    "id": "sDX0LYxYmNGQ",
    "outputId": "66bb6726-d21b-49da-f224-f4eee353262c"
   },
   "source": [
    "import numpy as np\n",
    "#A is a Shear Transformation matrix\n",
    "A=[[1,4],[0,1]]\n",
    "B=[[1],[1]]\n",
    "\n",
    "BT=np.matmul(A,B)\n",
    "print(str(np.array(A)) + \"\\t\\n Transforms \\n\" + str(np.array(B)) + \"\\t\\n to \\n\" + str(BT))\n",
    "\n",
    "l,v=np.linalg.eig(A)\n",
    "print(\"Lambdas=\" + str(l))\n",
    "print(\"Vectors=\\n\" + str(v))\n",
    "\n",
    "v1=np.array([[v[0,0]],[v[1,0]]])\n",
    "print(v1)\n",
    "\n",
    "#U=Av/sigma\n",
    "u1=np.matmul(A,v1)\n",
    "U=np.column_stack((u1,u1))\n",
    "V=np.column_stack((v1,v1))\n",
    "D=np.array([[l[0],0],[0,l[1]]])\n",
    "print(\"U\")\n",
    "print(U)\n",
    "print(\"D\")\n",
    "print(D)\n",
    "print(\"V\")\n",
    "print(V)\n",
    "\n",
    "#A=UZV(T)\n",
    "print(np.matmul(U,D))\n",
    "print(np.matmul(np.matmul(U,D),np.transpose(V)))\n",
    "\n",
    "#Here "
   ]
  }
 ],
 "metadata": {
  "colab": {
   "collapsed_sections": [],
   "default_view": {},
   "name": "FinMath-LinearAlgebra.ipynb",
   "provenance": [],
   "version": "0.3.2",
   "views": {}
  },
  "kernelspec": {
   "display_name": "Python 3",
   "language": "python",
   "name": "python3"
  },
  "language_info": {
   "codemirror_mode": {
    "name": "ipython",
    "version": 3
   },
   "file_extension": ".py",
   "mimetype": "text/x-python",
   "name": "python",
   "nbconvert_exporter": "python",
   "pygments_lexer": "ipython3",
   "version": "3.6.1"
  }
 },
 "nbformat": 4,
 "nbformat_minor": 1
}
