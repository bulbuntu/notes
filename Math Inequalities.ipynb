{
 "cells": [
  {
   "cell_type": "markdown",
   "metadata": {},
   "source": [
    "$e^x=1+x+\\frac{x^2}{2!}+\\frac{x^3}{3!}+.....$\n",
    "--\n",
    "$\\qquad\\qquad$Remember that $n!$ has a lower bound of $a^n$. $n!$ increases faster than $a^n$ for any real $a$ thus the above series is converging.\n",
    "\n",
    "$1+x \\leq e^x \\leq 1+ x + x^2$\n",
    "--\n",
    "$\\qquad\\qquad$for $|x| \\leq 1$\n",
    "--\n",
    "\n",
    "Thus \n",
    "\n",
    "$e^x\\rightarrow 1+x$ as $x\\rightarrow 0$\n",
    "--\n",
    "\n",
    "\n",
    "\n",
    "$\\operatorname{Lt}_{n\\rightarrow\\infty}\\left(1+\\frac{x}{n}\\right)^n=e^x$\n",
    "--\n",
    "\n",
    "$\\operatorname{Lt}_{n\\rightarrow\\infty}\\left(\\frac{n^b}{a^n}\\right)=0$\n",
    "--\n",
    "$\\qquad\\qquad$ for all $a>1$  \n",
    "--\n",
    "\n",
    "\n",
    "$\\operatorname{Lt}_{n\\rightarrow\\infty}\\left(\\frac{\\operatorname{lg}^bn}{(2^a)^{\\operatorname{lg}n}}\\right)=0$  \n",
    "$\\operatorname{Lt}_{n\\rightarrow\\infty}\\left(\\frac{\\operatorname{lg}^bn}{2^{a{\\operatorname{lg}n}}}\\right)=0$  \n",
    "$\\operatorname{Lt}_{n\\rightarrow\\infty}\\left(\\frac{\\operatorname{lg}^bn}{2^{{\\operatorname{lg}n^a}}}\\right)=0$  \n",
    "$\\operatorname{Lt}_{n\\rightarrow\\infty}\\left(\\frac{\\operatorname{lg}^bn}{{{n^a}}}\\right)=0$  \n",
    "--\n",
    "\n",
    "$\\qquad\\qquad$ for all $2^a>1 \\Rightarrow a>0$  \n",
    "--\n",
    "\n",
    "Thus $\\operatorname{lg}^b n = o(n^a)$  for any constant $a>0$\n"
   ]
  },
  {
   "cell_type": "markdown",
   "metadata": {},
   "source": [
    "Proof:-\n",
    "--\n",
    "$\\operatorname{Lt_{n\\rightarrow\\infty}}(1+\\frac{x}{n})^n=e^x$\n",
    "--\n",
    "\n",
    "$(1+x)^1=1+x$  \n",
    "$(1+x)^2=1+2x+x^2$  \n",
    "$(1+x)^3=1+3x+3x^2+x^3$  \n",
    "$(1+x)^4=(1+2x)^2+2x^2+4x^3+x^4$  \n",
    "$\\qquad=1+4x+4x^2+2x^2+4x^3+x^4$  \n",
    "$\\qquad=1+4x+6x^2+4x^3+x^4$  \n",
    "$(1+x)^5=1+5x+\\frac{5!}{2!3!}x^2+\\frac{5!}{2!3!}x^3+5x^4+x^5$  \n",
    ".  \n",
    ".  \n",
    ".  \n",
    "as $n\\rightarrow\\infty$  \n",
    "$(1+\\frac{x}{n})^n=1+n\\frac{x}{n}+\\frac{(n-1)n}{2!}\\left(\\frac{x}{n}\\right)^2+\\frac{(n-3)(n-1)n}{3!}\\left(\\frac{x}{n}\\right)^3.....$  \n",
    "$\\qquad\\qquad=1+x+\\frac{x^2}{2!}+\\frac{x^3}{3!}.....$  \n",
    "\n"
   ]
  },
  {
   "cell_type": "code",
   "execution_count": null,
   "metadata": {},
   "outputs": [],
   "source": []
  },
  {
   "cell_type": "code",
   "execution_count": null,
   "metadata": {},
   "outputs": [],
   "source": []
  }
 ],
 "metadata": {
  "kernelspec": {
   "display_name": "Python 3",
   "language": "python",
   "name": "python3"
  },
  "language_info": {
   "codemirror_mode": {
    "name": "ipython",
    "version": 3
   },
   "file_extension": ".py",
   "mimetype": "text/x-python",
   "name": "python",
   "nbconvert_exporter": "python",
   "pygments_lexer": "ipython3",
   "version": "3.6.1"
  }
 },
 "nbformat": 4,
 "nbformat_minor": 2
}
