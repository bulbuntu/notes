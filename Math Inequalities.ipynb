{
 "cells": [
  {
   "cell_type": "markdown",
   "metadata": {},
   "source": [
    "$e^x=1+x+\\frac{x^2}{2!}+\\frac{x^3}{3!}+.....$\n",
    "--\n",
    "$\\qquad\\qquad$Remember that $n!$ has a lower bound of $a^n$. $n!$ increases faster than $a^n$ for any real $a$ thus the above series is converging.\n",
    "\n",
    "$1+x \\leq e^x \\leq 1+ x + x^2$\n",
    "--\n",
    "$\\qquad\\qquad$for $|x| \\leq 1$\n",
    "--\n",
    "\n",
    "Thus \n",
    "\n",
    "$e^x\\rightarrow 1+x$ as $x\\rightarrow 0$\n",
    "--\n",
    "\n",
    "\n",
    "\n",
    "$\\operatorname{Lt}_{n\\rightarrow\\infty}\\left(1+\\frac{x}{n}\\right)^n=e^x$\n",
    "--\n",
    "\n",
    "$\\operatorname{Lt}_{n\\rightarrow\\infty}\\left(\\frac{n^b}{a^n}\\right)=0$\n",
    "--\n",
    "$\\qquad\\qquad$ for all $a>1$  \n",
    "--\n",
    "\n",
    "\n",
    "$\\operatorname{Lt}_{n\\rightarrow\\infty}\\left(\\frac{\\operatorname{lg}^bn}{(2^a)^{\\operatorname{lg}n}}\\right)=0$  \n",
    "$\\operatorname{Lt}_{n\\rightarrow\\infty}\\left(\\frac{\\operatorname{lg}^bn}{2^{a{\\operatorname{lg}n}}}\\right)=0$  \n",
    "$\\operatorname{Lt}_{n\\rightarrow\\infty}\\left(\\frac{\\operatorname{lg}^bn}{2^{{\\operatorname{lg}n^a}}}\\right)=0$  \n",
    "$\\operatorname{Lt}_{n\\rightarrow\\infty}\\left(\\frac{\\operatorname{lg}^bn}{{{n^a}}}\\right)=0$  \n",
    "--\n",
    "\n",
    "$\\qquad\\qquad$ for all $2^a>1 \\Rightarrow a>0$  \n",
    "--\n",
    "\n",
    "Thus $\\operatorname{lg}^b n = o(n^a)$  for any constant $a>0$\n"
   ]
  },
  {
   "cell_type": "markdown",
   "metadata": {},
   "source": [
    "Proof:-\n",
    "--\n",
    "$\\operatorname{Lt_{n\\rightarrow\\infty}}(1+\\frac{x}{n})^n=e^x$\n",
    "--\n",
    "\n",
    "$(1+x)^1=1+x$  \n",
    "$(1+x)^2=1+2x+x^2$  \n",
    "$(1+x)^3=1+3x+3x^2+x^3$  \n",
    "$(1+x)^4=(1+2x)^2+2x^2+4x^3+x^4$  \n",
    "$\\qquad=1+4x+4x^2+2x^2+4x^3+x^4$  \n",
    "$\\qquad=1+4x+6x^2+4x^3+x^4$  \n",
    "$(1+x)^5=1+5x+\\frac{5!}{2!3!}x^2+\\frac{5!}{2!3!}x^3+5x^4+x^5$  \n",
    ".  \n",
    ".  \n",
    ".  \n",
    "as $n\\rightarrow\\infty$  \n",
    "$(1+\\frac{x}{n})^n=1+n\\frac{x}{n}+\\frac{(n-1)n}{2!}\\left(\\frac{x}{n}\\right)^2+\\frac{(n-3)(n-1)n}{3!}\\left(\\frac{x}{n}\\right)^3.....$  \n",
    "$\\qquad\\qquad=1+x+\\frac{x^2}{2!}+\\frac{x^3}{3!}.....$  \n",
    "\n"
   ]
  },
  {
   "cell_type": "markdown",
   "metadata": {},
   "source": [
    "### Recursion formula for sum of series\n",
    "We need to derive formula for $\\operatorname{S}(n,i)=\\sum_{k=1}^n k^i$  \n",
    "$(k+1)^{i+1}=\\sum_{j=0}^{i+1} \\operatorname {^{(i+1)}C_j}k^j$  \n",
    "$(k+1)^{i+1}= k^{i+1} + \\sum_{j=0}^i \\operatorname {^{(i+1)}C_j}k^j$  \n",
    "$(k+1)^{i+1} - k^{i+1} = \\sum_{j=0}^i \\operatorname {^{(i+1)}C_j}k^j$  \n",
    "$(n+1)^{i+1} - 1 = \\sum_{k=1}^n \\sum_{j=0}^i \\operatorname {^{(i+1)}C_j}k^j$  \n",
    "$(n+1)^{i+1} - 1 =   \\sum_{j=0}^i \\operatorname {^{(i+1)}C_j} \\sum_{k=1}^n k^j$  \n",
    "$(n+1)^{i+1} - 1 =  (i+1)\\sum_{k=1}^n k^i +\\sum_{j=0}^{i-1} \\operatorname {^{(i+1)}C_j} \\sum_{k=1}^n k^j$  \n",
    "$(n+1)^{i+1} - 1 =  (i+1)\\operatorname{S}(n,i) +\\sum_{j=0}^{i-1} \\operatorname {^{(i+1)}C_j} \\operatorname{S}(n,j)$  \n",
    "### $\\operatorname{S}(n,i)=\\frac{1}{i+1}\\left( (n+1)^{i+1} - 1 - \\sum_{j=0}^{i-1} \\operatorname {^{(i+1)}C_j} \\operatorname{S}(n,j) \\right)$  \n"
   ]
  },
  {
   "cell_type": "markdown",
   "metadata": {},
   "source": [
    "### Linear Recurion Series\n",
    "\n",
    "$\\sum_{i=0}^k a_ix_{n+i}=0$ is linear recursive function of the order of k. Any $x_n$ can be defined by using previous $k$, $x_{n-i}$,$i=1:k$ in the series.  \n",
    "\n",
    "Three Step Process.\n",
    "\n",
    "1. Find the recursion dependence without any \"n\" in the definition of $x_n$. Gives the order $k$. That is $x_{n+k+1}=\\sum_{j=0}^ka_jx_{n+j}$\n",
    "2. Find the co-efficients of the characteristic polynomial or the order of k. And find it's k roots $\\lambda_i$\n",
    "3. Find the values for first $k$ in the series\n",
    "4. Solve the linear system of equations to get the $C_j$ using AC=x.\n",
    "\n",
    "What we have is that  \n",
    "$\\sum_{j=1}^k C_j\\lambda_j^n=x_n$ Thus the solution for the system of $C_j\\lambda_j^n$ would hold for $x_n$.  \n",
    "\n",
    " * Now $C\\lambda_j^n$ is a linear recursive series, as  \n",
    "$\\sum_{i=0}^k a_iC\\lambda_j^{n+i}=C\\lambda_j^n\\sum_{i=0}^k a_i\\lambda_j^i=C\\lambda_j^n\\operatorname P(\\lambda_j)=0$  \n",
    "Where $\\operatorname P(z)$ is a characteristic polynomial for the original linear recursive series and $\\lambda_j$ is the $j^{th}$ root of the polynomial.  \n",
    " * Now the sum of $k^{th}$ order linear recursive series is also a linear recursive series thus $\\sum_{i=1}^k C_i\\lambda_i^n$ is a linear recursive series.  \n",
    "\n",
    "If we have repeated roots then multiplicity of $\\lambda_j$ as $m_j>1$  in which case  \n",
    "$\\sum_{j=1}^p \\left(\\sum_{i=0}^{m_j} C_{i,j}n^i\\right)\\lambda_j^n=x_n$\n",
    "\n",
    "##### Example work out.\n",
    "\n",
    "$x_{n+1}=x_n+(n+1)^2\\qquad\\qquad$      (1)  $\\qquad\\rightarrow$ we have an n term still  \n",
    "$\\qquad x_1=0+(0+1)^2=1$  \n",
    "$x_{n+2}=x_{n+1}+(n+2)^2\\qquad\\qquad$    (2)  \n",
    "$x_{n+2}=2x_{n+1}-x_n+(2n+3)\\qquad$    (2)-(1)=(3)  $\\qquad\\rightarrow$ we have an n term still  \n",
    "$\\qquad x_2=2*1-0+(2*0+3)=5$  \n",
    "$x_{n+3}=2x_{n+2}-x_{n+1}+(2(n+1)+3)\\qquad$    (4)  \n",
    "$x_{n+3}=3x_{n+2}-3x_{n+1}+x_n+2\\qquad$    (4)-(3)=(5)    $\\qquad\\rightarrow$ we have a constant term yet  \n",
    "$\\qquad x_3=3*5-3*1+0+2=14$  \n",
    "$x_{n+4}=3x_{n+3}-3x_{n+2}+x_{n+1}+2\\qquad$    (6)  \n",
    "$x_{n+4}=4x_{n+3}-6x_{n+2}+4x_{n+1}-x_n\\qquad$    (6)-(5)=(7)     $\\qquad\\rightarrow \\sum_{i=0}^ka_ix_{n+i}=0$  \n",
    "$\\qquad x_4=4*14-6*5+4*1-0=30$  \n",
    "Now the characteristic polynomial of the this linear recursive series is  \n",
    "$P(z)=z^4-4z^3+6z^2-4z-1=0$  \n",
    "$\\rightarrow(z-1)^4=0$  \n",
    "\n",
    "As $\\lambda=1$ and it's multiplicity is 4, we have  \n",
    "$x_n=C_0n^0\\lambda^n + C_1n^1\\lambda^n + C_2n^2\\lambda^n + C_3n^3\\lambda^n$  \n",
    "$x_n=C_0 + C_1n + C_2n^2 + C_3n^3$  \n"
   ]
  },
  {
   "cell_type": "code",
   "execution_count": 7,
   "metadata": {},
   "outputs": [
    {
     "name": "stdout",
     "output_type": "stream",
     "text": [
      "[[1, 1, 1, 1], [1, 2, 4, 8], [1, 3, 9, 27], [1, 4, 16, 64]]\n",
      "[0.         0.16666667 0.5        0.33333333]\n"
     ]
    }
   ],
   "source": [
    "import numpy as np\n",
    "A=[[1,1,1,1],[1,2,4,8],[1,3,9,27],[1,4,16,64]]\n",
    "print(A)\n",
    "C=[1,5,14,30]\n",
    "#print(np.linalg.inv(A))\n",
    "print(np.matmul(np.linalg.inv(A),C))"
   ]
  },
  {
   "cell_type": "markdown",
   "metadata": {},
   "source": [
    "We have\n",
    "$C_0=0$  \n",
    "$C_1=1/6$  \n",
    "$C_2=1/2$  \n",
    "$C_3=1/3$  \n",
    "\n",
    "We have  \n",
    "$x_n=0+n/6+n^2/2+n^3/3$  \n",
    "$x_n=\\frac{n+3n^2+2n^3}{6}$    \n",
    "$x_n=\\frac{n(1+3n+2n^2)}{6}$  \n",
    "$x_n=\\frac{n(n+1)(2n+1}{6}$  \n"
   ]
  },
  {
   "cell_type": "markdown",
   "metadata": {},
   "source": [
    "##### Example 2\n",
    "\n",
    "Find the general form of the sequence $(x_n)_{n\\geq 0}$ satisfying the linear re- cursion  \n",
    "    $\\qquad x_{n+3} = 2x_{n+l} + x_n$  \n",
    "with $x_0=1$, $x_1=-1$ and $x_2=1$.  \n",
    "\n",
    "$P(z)=z^3-2z-1=0$  \n",
    "$z(z^2-1)-(z+1)=0$  \n",
    "$(z+1)(z^2-z-1)=0$  \n",
    "$z=-1$ or\n",
    "$z=\\frac{1\\pm\\sqrt{1^2-4*1*-1}}{2*1}$  \n",
    "$z=\\frac{1\\pm\\sqrt{5}}{2}$  \n",
    "$x_n=\\sum_{j=1}^k C_j\\lambda_j^n$  \n",
    "$AC=x$  \n",
    "$A=\\left[\\begin{array}{ccc} -1^0& \\left(\\frac{1+\\sqrt{5}}{2}\\right)^0& \\left(\\frac{1-\\sqrt{5}}{2}\\right)^0\\\\\n",
    "-1& \\left(\\frac{1+\\sqrt{5}}{2}\\right)^1 &\\left(\\frac{1-\\sqrt{5}}{2}\\right)^1\\\\\n",
    "-1^2& \\left(\\frac{1+\\sqrt{5}}{2}\\right)^2 &\\left(\\frac{1-\\sqrt{5}}{2}\\right)^2\\end{array}\\right]$  \n",
    "$x=\\left[\\begin{array}{c}1\\\\-1\\\\1\\end{array}\\right]$"
   ]
  },
  {
   "cell_type": "code",
   "execution_count": 29,
   "metadata": {},
   "outputs": [
    {
     "name": "stdout",
     "output_type": "stream",
     "text": [
      "[[ 1.          1.          1.        ]\n",
      " [-1.          1.61803399 -0.61803399]\n",
      " [ 1.          2.61803399  0.38196601]]\n",
      "[ 1 -1  1]\n",
      "[ 1.00000000e+00  0.00000000e+00 -1.11022302e-16]\n",
      "1.4142135623730951\n"
     ]
    }
   ],
   "source": [
    "import numpy as np\n",
    "from math import sqrt\n",
    "root_p=(1+5**0.5)/2.\n",
    "root_n=(1-5**0.5)/2.\n",
    "r=np.array([-1,root_p,root_n])\n",
    "A=np.vstack((r**0,r,r**2))\n",
    "print(A)\n",
    "x=np.transpose(np.array([1,-1,1]))\n",
    "print(x)\n",
    "print(np.matmul(np.linalg.inv(A),x))\n"
   ]
  },
  {
   "cell_type": "markdown",
   "metadata": {},
   "source": [
    "Thus $C_1=1$ and $C_2=C_3=0$ showing that...\n",
    "\n",
    "$x_n= C_1\\lambda_1^n$  \n",
    "$x_n= 1*-1^n$  \n",
    "$x_n=-1^n \\quad\\forall\\quad n\\geq0$\n",
    "\n",
    "\n"
   ]
  },
  {
   "cell_type": "markdown",
   "metadata": {},
   "source": [
    "##### Example 3\n",
    "The sequence $(x_n)_{n\\geq 0}$ satisfies the recursion  \n",
    "$x_{n+l} = 3x_n+2\\quad\\forall\\quad n\\geq0$  \n",
    "with $x_0=1$.  \n",
    "(i) Show that the sequence $(x_n)_{n\\geq0}$ satisfies the linear recursion  \n",
    "$x_{n+2} = 4x_{n+l} - 3x_n \\quad\\forall\\quad n\\geq0$  \n",
    "with $x_0=1$ and $x_1=5$.  \n",
    "(ii) Find the general formula for $x_n\\quad\\forall\\quad n\\geq0$\n",
    "\n",
    "---\n",
    "$x_{n+1}=3x_n+2\\qquad$(1)  \n",
    "$x_{n+2}=3x_{n+1}+2\\qquad$ by n=n+1 in(1)$\\qquad$ (2)  \n",
    "$x_{n+2}=4x_{n+1}-3x_n\\qquad$(2)-(1)$\\qquad$(3) \n",
    "\n",
    "Characteristic polynomial  \n",
    "$P(z)=z^2-4z+3=0$  \n",
    "$P(z)=(z-3)(z-1)=0$  \n",
    "$\\lambda_1=3$ and $\\lambda_2=1$  \n",
    "$AC=x$  \n",
    "$C=\\left[\\begin{array}{c} C_1\\\\C_2\\end{array}\\right]$  \n",
    "$A=\\left[\\begin{array}{cc} 3^0&1^0\\\\3^1&1^1\\end{array}\\right]$  \n",
    "$x=\\left[\\begin{array}{c} 1\\\\5\\end{array}\\right]$  \n",
    "\n",
    "$C_1=2$ and $C_2=-1$  \n",
    "\n",
    "Thus \n",
    "$x_n=\\sum_{j=1}^2 C_j\\lambda_j^n$  \n",
    "$x_n=2*3^n -1*1^n$  \n",
    "$x_n=2*3^n-1$  \n"
   ]
  },
  {
   "cell_type": "markdown",
   "metadata": {},
   "source": [
    "##### Example 3\n",
    "\n",
    "With multiplicity of a root being=2.\n",
    "\n",
    "Characterristic equation is  \n",
    "$P(z)=z^3-5z^2+7z-3=0$  \n",
    "$\\implies (z-3)(z-1)^2=0$  \n",
    "$\\lambda_1=3$ and $\\lambda_2=1$ with multiplicity of 2.\n",
    "\n",
    "Now given $x_0=1,x_1=5,x_2=18$  \n",
    "$A=\\left[\\begin{array}{ccc} \\lambda_1^0&\\lambda_2^0&0*\\lambda_2^0\\\\\n",
    "                            \\lambda_1^1&\\lambda_2^1&1*\\lambda_2^1\\\\\n",
    "                            \\lambda_1^2&\\lambda_2^2&2*\\lambda_2^2\\\\\\end{array}\\right]$  \n",
    "$A=\\left[\\begin{array}{ccc} 3^0&1^0&0*1^0\\\\\n",
    "                            3^1&1^1&1*1^1\\\\\n",
    "                            3^2&1^2&2*1^2\\\\\\end{array}\\right]$  \n",
    "$A=\\left[\\begin{array}{ccc} 1&1&0\\\\\n",
    "                            3&1&1\\\\\n",
    "                            9&1&2\\\\\\end{array}\\right]$  \n",
    "$x=\\left[\\begin{array}{c} 1\\\\\n",
    "                          5\\\\\n",
    "                          18\\\\\\end{array}\\right]$  \n",
    "\n",
    "                            "
   ]
  },
  {
   "cell_type": "code",
   "execution_count": 30,
   "metadata": {},
   "outputs": [
    {
     "name": "stdout",
     "output_type": "stream",
     "text": [
      "[ 2.25 -1.25 -0.5 ]\n"
     ]
    }
   ],
   "source": [
    "A=np.array([[1,1,0],\n",
    "            [3,1,1],\n",
    "            [9,1,2]])\n",
    "x=[1,5,18]\n",
    "print(np.matmul(np.linalg.inv(A),x))\n",
    "        "
   ]
  },
  {
   "cell_type": "markdown",
   "metadata": {},
   "source": [
    "$C_1=9/4,C_2=-5/4,C_3=-1/2$  \n",
    "$x_n=\\frac{9}{4}3^n-\\frac{5}{4}-\\frac{n}{2}$  \n",
    "$x_n=\\frac{3^{n+2} -2n-5}{4}$    "
   ]
  }
 ],
 "metadata": {
  "kernelspec": {
   "display_name": "Python 3",
   "language": "python",
   "name": "python3"
  },
  "language_info": {
   "codemirror_mode": {
    "name": "ipython",
    "version": 3
   },
   "file_extension": ".py",
   "mimetype": "text/x-python",
   "name": "python",
   "nbconvert_exporter": "python",
   "pygments_lexer": "ipython3",
   "version": "3.6.1"
  }
 },
 "nbformat": 4,
 "nbformat_minor": 2
}
