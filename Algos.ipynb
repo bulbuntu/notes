{
 "cells": [
  {
   "cell_type": "code",
   "execution_count": 140,
   "metadata": {},
   "outputs": [
    {
     "name": "stdout",
     "output_type": "stream",
     "text": [
      "Input micro-secs=[1000, 60000, 3600000, 86400000, 2592000000, 31104000000, 3110400000000]\n",
      "\n",
      "Maximum n that an order of f(n) algorithm can run in the given time of 1s/1m/1h/1d/1M/1Y/100Y:\n",
      "\n",
      "            1 sec     1 min      1 hr     1 day   1 Month    1 Year   100 Yrs\n",
      "log(n)          0         0         0         0         0         0         0\n",
      "sqrt(n)  1.00e+06  3.60e+09  1.30e+13  7.46e+15  6.72e+18  9.67e+20  9.67e+24\n",
      "n            1000     60000  3.60e+06  8.64e+07  2.59e+09  3.11e+10  3.11e+12\n",
      "nlog(n)       190      6799  2.86e+05  5.56e+06  1.38e+08  1.47e+09  1.22e+11\n",
      "n^2            31       244      1897      9295     50911  1.76e+05  1.76e+06\n",
      "n^3             9        39       153       442      1373      3144     14597\n",
      "2^n             9        15        21        26        31        34        41\n",
      "n!              7         9        10        12        13        14        16\n"
     ]
    }
   ],
   "source": [
    "import numpy as np\n",
    "import pandas as pd\n",
    "from math import log,factorial,exp\n",
    "from functools import reduce\n",
    "from scipy.special import lambertw\n",
    "import sys\n",
    "import warnings\n",
    "\n",
    "if not sys.warnoptions:\n",
    "    warnings.simplefilter(\"ignore\")\n",
    "\n",
    "f=lambda x:[log(x),x**0.5,x,x*log(x),x**2,x**3,2**x,factorial(n)]\n",
    "\n",
    "def factorial_cap(num):\n",
    "    n = 1\n",
    "    i = 1\n",
    "    while n < num:\n",
    "        i += 1   \n",
    "        n *= i\n",
    "    return i\n",
    "\n",
    "\n",
    "finv=lambda x: [0,x**2, x,\n",
    "           int(exp(lambertw(x))),\n",
    "           int(x**0.5),\n",
    "           int(x**(1/3.0)),\n",
    "           int(log(x)/log(2)),\n",
    "           factorial_cap(x)]\n",
    "\n",
    "\n",
    "a=['1 sec','1 min','1 hr','1 day','1 Month','1 Year','100 Yrs']\n",
    "f=['log(n)','sqrt(n)','n','nlog(n)','n^2','n^3','2^n','n!']\n",
    "n=[1,60,60,24,30,12,100]\n",
    "n=[reduce(lambda a,b: a*b,n[:i+1],1) for i in range(len(n))]\n",
    "n=[x*1000 for x in n]\n",
    "print('Input micro-secs={}'.format(n))\n",
    "n=(finv(i) for i in n)\n",
    "np.set_printoptions(suppress=True)\n",
    "n=np.column_stack(n)\n",
    "df=pd.DataFrame(n,index=f,columns=a)\n",
    "print(\"\\nMaximum n that an order of f(n) algorithm can run in the given time of 1s/1m/1h/1d/1M/1Y/100Y:\\n\")\n",
    "print(df.to_string(formatters={k:lambda x: (str(x) if x<100000 else '{:.2e}').format(x) for k in a}))\n"
   ]
  },
  {
   "cell_type": "markdown",
   "metadata": {},
   "source": [
    "Merge Sort\n",
    "--"
   ]
  },
  {
   "cell_type": "code",
   "execution_count": 153,
   "metadata": {},
   "outputs": [
    {
     "name": "stdout",
     "output_type": "stream",
     "text": [
      "[3, 2]\n",
      "[872]\n",
      "1\n",
      "[872]\n",
      "[303, 873, 637, 318, 758, 392]\n",
      "6\n",
      "[303, 318, 392, 637, 758, 873]\n",
      "[208, 77, 323, 591, 939, 803, 365, 931, 89, 131, 945]\n",
      "11\n",
      "[77, 89, 131, 208, 323, 365, 591, 803, 931, 939, 945]\n",
      "[840, 440, 317, 781, 152, 489, 640, 977, 533, 497, 3, 233, 629, 872, 459, 298]\n",
      "16\n",
      "[3, 152, 233, 298, 317, 440, 459, 489, 497, 533, 629, 640, 781, 840, 872, 977]\n",
      "[208, 640, 724, 365, 944, 888, 707, 953, 832, 868, 117, 524, 998, 589, 700, 697, 962, 688, 422, 590, 28]\n",
      "21\n",
      "[28, 117, 208, 365, 422, 524, 589, 590, 640, 688, 697, 700, 707, 724, 832, 868, 888, 944, 953, 962, 998]\n",
      "[381, 948, 207, 15, 530, 972, 961, 974, 696, 257, 64, 433, 413, 483, 860, 154, 303, 718, 966, 277, 898, 815, 584, 476, 541, 254]\n",
      "26\n",
      "[15, 64, 154, 207, 254, 257, 277, 303, 381, 413, 433, 476, 483, 530, 541, 584, 696, 718, 815, 860, 898, 948, 961, 966, 972, 974]\n"
     ]
    }
   ],
   "source": [
    "def merge(A,p,q,r):\n",
    "    if p<r:\n",
    "        L=A[p:q+1]\n",
    "        R=A[q+1:r+1]\n",
    "        i=0\n",
    "        j=0\n",
    "        for k in range(p,r+1):\n",
    "            if(L[i]<R[j]):\n",
    "                A[k]=L[i]\n",
    "                i=i+1\n",
    "                if i>len(L)-1:\n",
    "                    A[k+1:k+1+len(R)-j]=R[j:]\n",
    "                    break\n",
    "            else:\n",
    "                A[k]=R[j]\n",
    "                j=j+1\n",
    "                if j>len(R)-1:\n",
    "                    A[k+1:k+1+len(L)-i]=L[i:]\n",
    "                    break\n",
    "        \n",
    "\n",
    "        \n",
    "def mergesort(A,p,q):\n",
    "    #Called 2^n-1 times n being the length of the array\n",
    "    #Number of leaves in the tree is n\n",
    "    if p<q:\n",
    "        mergesort(A,p,(p+q)//2)\n",
    "        mergesort(A,(p+q)//2+1,q)\n",
    "        merge(A,p,(p+q)//2,q)\n",
    "\n",
    "A=[3,2]\n",
    "print(A)\n",
    "for i in range(1,31,5):\n",
    "    A=sample(range(1000),i)\n",
    "    print(A)\n",
    "    print(len(A))\n",
    "    mergesort(A,0,len(A)-1)\n",
    "    print(A)\n"
   ]
  },
  {
   "cell_type": "markdown",
   "metadata": {},
   "source": [
    "Bubble Sort\n",
    "--\n",
    "Order of n calculation. And also state the invariant in the algorith and prove that the invariant states the solution once the loop is terminated."
   ]
  },
  {
   "cell_type": "code",
   "execution_count": 139,
   "metadata": {},
   "outputs": [
    {
     "name": "stdout",
     "output_type": "stream",
     "text": [
      "[436]\n",
      "[436]\n",
      "[682, 23, 286, 22, 2, 200]\n",
      "[2, 22, 23, 200, 286, 682]\n",
      "[573, 318, 121, 945, 313, 88, 240, 38, 77, 836, 180]\n",
      "[38, 77, 88, 121, 180, 240, 313, 318, 573, 836, 945]\n",
      "[92, 131, 548, 728, 109, 717, 10, 887, 118, 22, 462, 729, 300, 648, 895, 827]\n",
      "[10, 22, 92, 109, 118, 131, 300, 462, 548, 648, 717, 728, 729, 827, 887, 895]\n",
      "[850, 310, 57, 58, 498, 36, 468, 801, 601, 297, 420, 316, 416, 660, 337, 211, 287, 929, 712, 618, 282]\n",
      "[36, 57, 58, 211, 282, 287, 297, 310, 316, 337, 416, 420, 468, 498, 601, 618, 660, 712, 801, 850, 929]\n",
      "[524, 73, 96, 176, 339, 696, 787, 600, 206, 618, 263, 34, 809, 968, 676, 665, 732, 770, 303, 856, 765, 5, 140, 282, 1, 903]\n",
      "[1, 5, 34, 73, 96, 140, 176, 206, 263, 282, 303, 339, 524, 600, 618, 665, 676, 696, 732, 765, 770, 787, 809, 856, 903, 968]\n"
     ]
    }
   ],
   "source": [
    "def bubsort(A):\n",
    "    for i in range(len(A)-1): \n",
    "        #For given n this runs n-1 times\n",
    "        # INVARIANT:: A[0:i-1] will have all elements in increasing order, with i lowest of n elements.\n",
    "        #invariant should stand before the first iteration of the loop(here we consider only the below loop)\n",
    "        #A[0:-1] has elements in increasing order, as there is no array here.\n",
    "        for j in range(len(A)-1,i,-1):    \n",
    "            #invariant should stand before the beginning of any loop\n",
    "            #A[0:i-1] is still in increasing order at the offset\n",
    "            if A[j]<A[i]:   \n",
    "                t=A[i]\n",
    "                A[i]=A[j]\n",
    "                A[j]=t\n",
    "        #as we decrement j if A[j] is less than A[i] we swap \n",
    "        #At the start of the loop we had least i elements in A[0:i-1]\n",
    "        #Now A[0:i] has it's last element replaced by least of all the remaining n-i elements \n",
    "        #Thus A[0:i] still has the least i+1 elements in increasing order of n elements.\n",
    "                        \n",
    "        #invariant should stand at the termination of the loop\n",
    "        #Now when the loops breaks out A[0:n-2] still has the least n-1 elements in increasing order thus leaving the largest number in A[n-1] \n",
    "#for i=0 j=n-1\n",
    "#for j=1 j=n-2\n",
    "#for j=2 j=n-3\n",
    "#      .\n",
    "#      .\n",
    "#      .\n",
    "#for j=n-2 j=n-(n-2+1)=1\n",
    "\n",
    "#So O(n)=sum(n-1 integers)=n(n-1)/2=n^2\n",
    "#So O(n) is n^2\n",
    "\n",
    "for i in range(1,31,5):\n",
    "    A=sample(range(1000),i)\n",
    "    print(A)\n",
    "    bubsort(A)\n",
    "    print(A)\n"
   ]
  },
  {
   "cell_type": "markdown",
   "metadata": {},
   "source": [
    "##### Algo question\n",
    "Give an algorithm that determines the number of inversions in any permutation on *n* elements in $\\theta(n\\operatorname{log_2}(n))$ worst case time."
   ]
  },
  {
   "cell_type": "code",
   "execution_count": 138,
   "metadata": {},
   "outputs": [
    {
     "name": "stdout",
     "output_type": "stream",
     "text": [
      "1\n",
      "[2, 3]\n",
      "[819]\n",
      "0\n",
      "[819]\n",
      "[424, 83, 267, 862, 139, 861]\n",
      "5\n",
      "[83, 139, 267, 424, 861, 862]\n",
      "[971, 773, 721, 303, 673, 656, 962, 145, 31, 40, 443]\n",
      "19\n",
      "[31, 40, 145, 303, 443, 656, 673, 721, 773, 962, 971]\n",
      "[918, 286, 736, 531, 11, 16, 522, 275, 886, 187, 272, 698, 905, 431, 670, 468]\n",
      "29\n",
      "[11, 16, 187, 272, 275, 286, 431, 468, 522, 531, 670, 698, 736, 886, 905, 918]\n",
      "[349, 120, 534, 195, 221, 426, 164, 533, 778, 332, 753, 685, 366, 690, 715, 944, 204, 82, 977, 596, 865]\n",
      "24\n",
      "[82, 120, 164, 195, 204, 221, 332, 349, 366, 426, 533, 534, 596, 685, 690, 715, 753, 778, 865, 944, 977]\n",
      "[74, 704, 503, 903, 686, 940, 480, 740, 58, 720, 88, 94, 89, 395, 331, 139, 979, 786, 423, 444, 165, 732, 987, 688, 789, 554]\n",
      "47\n",
      "[58, 74, 88, 89, 94, 139, 165, 331, 395, 423, 444, 480, 503, 554, 686, 688, 704, 720, 732, 740, 786, 789, 903, 940, 979, 987]\n"
     ]
    }
   ],
   "source": [
    "def merge(A,p,q,r):\n",
    "    inversions=0\n",
    "    if p<r:\n",
    "        L=A[p:q+1]\n",
    "        R=A[q+1:r+1]\n",
    "        i=0\n",
    "        j=0\n",
    "        for k in range(p,r+1):\n",
    "            if(L[i]<R[j]):\n",
    "                A[k]=L[i]\n",
    "                i=i+1\n",
    "                if i>len(L)-1:\n",
    "                    A[k+1:k+1+len(R)-j]=R[j:]\n",
    "                    break\n",
    "            else:\n",
    "                inversions=inversions+1\n",
    "                A[k]=R[j]\n",
    "                j=j+1\n",
    "                if j>len(R)-1:\n",
    "                    A[k+1:k+1+len(L)-i]=L[i:]\n",
    "                    inversions=inversions+len(L[i:])-1\n",
    "                    break\n",
    "    return inversions\n",
    "        \n",
    "\n",
    "def mergesort(A,p,q):\n",
    "    inversions=0\n",
    "    if p<q:\n",
    "        inversions = mergesort(A,p,(p+q)//2)\n",
    "        inversions = inversions + mergesort(A,(p+q)//2+1,q)\n",
    "        inversions=inversions + merge(A,p,(p+q)//2,q)\n",
    "    return inversions\n",
    "\n",
    "A=[3,2]\n",
    "print(mergesort(A,0,1))\n",
    "print(A)\n",
    "for i in range(1,31,5):\n",
    "    A=sample(range(1000),i)\n",
    "    print(A)\n",
    "    print(mergesort(A,0,len(A)-1))\n",
    "    print(A)\n"
   ]
  },
  {
   "cell_type": "markdown",
   "metadata": {},
   "source": [
    "##### Question\n",
    "\n",
    "What is the relationship between running time for an insertion sort wrt number of inversions in the input.\n",
    "\n",
    "Inversion sort is of the order of n^2. "
   ]
  },
  {
   "cell_type": "markdown",
   "metadata": {},
   "source": [
    "#### Big $\\Theta,\\Omega,O $ notations\n",
    "\n",
    "$\\Theta (g(n))=\\{f(n):$ there exists positive reals $c_1,c_2$ and $n_0$  such that  \n",
    "$\\qquad\\qquad 0\\leq c_1g(n)\\leq f(n)\\leq c_2g(n)$ for all $n\\geq n_0\\}$  \n",
    "\n",
    "$\\Theta$ is set of functions bounded on both sides.\n",
    "\n",
    "Thus $\\Theta(g(n)) \\subset O(g(n))$  \n",
    "$\\quad$and $\\Theta(g(n)) \\subset \\Omega (g(n))$  \n"
   ]
  },
  {
   "cell_type": "markdown",
   "metadata": {},
   "source": [
    "#### Question\n",
    "\n",
    "Show that for any real constants $a$ and $b$, where $b>0$  \n",
    "$(n+a)^b=\\Theta(n^b)$"
   ]
  }
 ],
 "metadata": {
  "kernelspec": {
   "display_name": "Python 3",
   "language": "python",
   "name": "python3"
  },
  "language_info": {
   "codemirror_mode": {
    "name": "ipython",
    "version": 3
   },
   "file_extension": ".py",
   "mimetype": "text/x-python",
   "name": "python",
   "nbconvert_exporter": "python",
   "pygments_lexer": "ipython3",
   "version": "3.6.1"
  }
 },
 "nbformat": 4,
 "nbformat_minor": 2
}
