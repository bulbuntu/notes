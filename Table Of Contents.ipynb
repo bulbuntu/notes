{
 "cells": [
  {
   "cell_type": "markdown",
   "metadata": {
    "colab_type": "text",
    "id": "mYc-149jH9z-"
   },
   "source": [
    "# Table of Contents"
   ]
  },
  {
   "cell_type": "code",
   "execution_count": 3,
   "metadata": {
    "colab": {
     "autoexec": {
      "startup": false,
      "wait_interval": 0
     }
    },
    "colab_type": "code",
    "id": "0PHxtl3CH9z_"
   },
   "outputs": [],
   "source": [
    "from os import listdir\n",
    "from urllib.parse import quote\n",
    "\n",
    "leadingUrl='https://nbviewer.jupyter.org/github/bulbuntu/notes/blob/master/'\n",
    "nbs=[f for f in listdir() if f[-6:]=='.ipynb']\n",
    "urls=['{1}{0}'.format(quote(f),leadingUrl) for f in nbs]\n",
    "z=zip(nbs,urls)\n",
    "txt=r'   <br>'.join(['[{0}]({1})'.format(i[0],i[1]) for i in z])"
   ]
  },
  {
   "cell_type": "markdown",
   "metadata": {
    "colab_type": "text",
    "id": "-WY-4vw0H90C",
    "variables": {
     "txt": "<a href=\"https://nbviewer.jupyter.org/github/bulbuntu/notes/blob/master/Algos.ipynb\">Algos.ipynb</a>   <br><a href=\"https://nbviewer.jupyter.org/github/bulbuntu/notes/blob/master/Bond%20and%20Credit%20Math.ipynb\">Bond and Credit Math.ipynb</a>   <br><a href=\"https://nbviewer.jupyter.org/github/bulbuntu/notes/blob/master/Bootstrapping%20Zero%20Curves.ipynb\">Bootstrapping Zero Curves.ipynb</a>   <br><a href=\"https://nbviewer.jupyter.org/github/bulbuntu/notes/blob/master/Dan%20Stefanica%20Exercise%20Workout.ipynb\">Dan Stefanica Exercise Workout.ipynb</a>   <br><a href=\"https://nbviewer.jupyter.org/github/bulbuntu/notes/blob/master/FinMath-Regression.ipynb\">FinMath-Regression.ipynb</a>   <br><a href=\"https://nbviewer.jupyter.org/github/bulbuntu/notes/blob/master/FinMath-Stats.ipynb\">FinMath-Stats.ipynb</a>   <br><a href=\"https://nbviewer.jupyter.org/github/bulbuntu/notes/blob/master/LinearAlgebra.ipynb\">LinearAlgebra.ipynb</a>   <br><a href=\"https://nbviewer.jupyter.org/github/bulbuntu/notes/blob/master/Math%20Inequalities.ipynb\">Math Inequalities.ipynb</a>   <br><a href=\"https://nbviewer.jupyter.org/github/bulbuntu/notes/blob/master/Options.ipynb\">Options.ipynb</a>   <br><a href=\"https://nbviewer.jupyter.org/github/bulbuntu/notes/blob/master/Quant%20Interview%20Questions.ipynb\">Quant Interview Questions.ipynb</a>   <br><a href=\"https://nbviewer.jupyter.org/github/bulbuntu/notes/blob/master/Table%20Of%20Contents.ipynb\">Table Of Contents.ipynb</a>"
    }
   },
   "source": [
    "My Notebooks are  \n",
    "{{txt}}\n",
    "--"
   ]
  }
 ],
 "metadata": {
  "colab": {
   "default_view": {},
   "name": "Table Of Contents.ipynb",
   "provenance": [],
   "version": "0.3.2",
   "views": {}
  },
  "kernelspec": {
   "display_name": "Python 3",
   "language": "python",
   "name": "python3"
  },
  "language_info": {
   "codemirror_mode": {
    "name": "ipython",
    "version": 3
   },
   "file_extension": ".py",
   "mimetype": "text/x-python",
   "name": "python",
   "nbconvert_exporter": "python",
   "pygments_lexer": "ipython3",
   "version": "3.6.1"
  }
 },
 "nbformat": 4,
 "nbformat_minor": 1
}
