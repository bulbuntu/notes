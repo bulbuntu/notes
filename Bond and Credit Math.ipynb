{
 "cells": [
  {
   "cell_type": "markdown",
   "metadata": {},
   "source": [
    "CDS Spreads\n",
    "--\n",
    "\n",
    "If yearly probability of default is 2% conditional that no earlier default happened. \n",
    "\n",
    "$S =$1-0.02=0.98   \n",
    "$S=e^{-\\lambda t}$  \n",
    "$\\lambda = -ln(0.98)$  \n"
   ]
  },
  {
   "cell_type": "code",
   "execution_count": 1,
   "metadata": {},
   "outputs": [
    {
     "name": "stdout",
     "output_type": "stream",
     "text": [
      "Hazard Rate(continuos compounding) for 2%-annual-default-rate(non compounding) is 2.02%\n"
     ]
    }
   ],
   "source": [
    "from math import log\n",
    "print(\"Hazard Rate(continuos compounding) for 2%-annual-default-rate(non compounding) is {:.2%}\".format(-log(0.98)))\n"
   ]
  },
  {
   "cell_type": "markdown",
   "metadata": {},
   "source": [
    "Bond Prices to CDS Premium to Default Probability\n",
    "--"
   ]
  },
  {
   "cell_type": "code",
   "execution_count": 60,
   "metadata": {},
   "outputs": [
    {
     "name": "stdout",
     "output_type": "stream",
     "text": [
      "0.05\n",
      "Coupon Cashflows==\n",
      "[3. 3. 3. 3. 3. 3. 3. 3. 3. 3.]\n",
      "Principal Cashflows==\n",
      "[  0   0   0   0   0   0   0   0   0 100]\n",
      "Discount Factors==\n",
      "[0.9656054162575665, 0.9323938199059483, 0.9003245225862656, 0.8693582353988059, 0.8394570207692074, 0.8105842459701871, 0.7827045382418681, 0.7557837414557255, 0.7297888742690568, 0.7046880897187134]\n",
      "Discounted Principal==\n",
      "[ 0.          0.          0.          0.          0.          0.\n",
      "  0.          0.          0.         70.46880897]\n",
      "Discounted Coupons==\n",
      "[2.89681625 2.79718146 2.70097357 2.60807471 2.51837106 2.43175274\n",
      " 2.34811361 2.26735122 2.18936662 2.11406427]\n",
      "PV of FV=24.872065513720035\n",
      "Bond Price=95.34087448559137\n",
      "Risk Free Bond Price= 104.09356799388405\n",
      "Default PV=8.75269350829268\n",
      "DFs for premium payments=\n",
      "[1, 0.9753099120283326, 0.951229424500714, 0.9277434863285529, 0.9048374180359595, 0.8824969025845955, 0.8607079764250578, 0.8394570207692074, 0.8187307530779818, 0.7985162187593771]\n",
      "Semi Annual CDS Premium Payment in Dollars=0.976968977148541\n",
      "Annual CDS Premium Payment in Percentage=195.39bps\n",
      "Annual Default Rate or Constant hazard Rate=3.26% per annum\n"
     ]
    }
   ],
   "source": [
    "import numpy as np\n",
    "import math\n",
    "\n",
    "risk_free_rate=0.05\n",
    "bond_ytm=0.07\n",
    "cpn=0.06\n",
    "mat=5\n",
    "rec=0.4\n",
    "\n",
    "print(risk_free_rate)\n",
    "\n",
    "CpnCashFlows=np.full((mat*2),cpn*50)\n",
    "PrinCashFlows=np.full((mat*2),0)\n",
    "PrinCashFlows[-1]=100\n",
    "DiscountFactors=[math.exp(-i*bond_ytm/2) for i in range(1,mat*2+1)]\n",
    "print(\"Coupon Cashflows==\")\n",
    "print(CpnCashFlows)\n",
    "print(\"Principal Cashflows==\")\n",
    "print(PrinCashFlows)\n",
    "print(\"Discount Factors==\") \n",
    "print(DiscountFactors)\n",
    "print(\"Discounted Principal==\")\n",
    "print(PrinCashFlows*DiscountFactors)\n",
    "print(\"Discounted Coupons==\")\n",
    "print(CpnCashFlows*DiscountFactors)\n",
    "print(\"PV of FV=\" + str(np.sum(CpnCashFlows*DiscountFactors)))\n",
    "BondValue=np.sum(PrinCashFlows*DiscountFactors)+ np.sum(CpnCashFlows*DiscountFactors)\n",
    "print(\"Bond Price=\" + str(BondValue))\n",
    "RiskFreeDiscountFactors=[math.exp(-i*risk_free_rate/2) for i in range(1,mat*2+1)]\n",
    "RiskFreeBondPrice=np.sum(PrinCashFlows*RiskFreeDiscountFactors)+ np.sum(CpnCashFlows*RiskFreeDiscountFactors)\n",
    "print(\"Risk Free Bond Price= \" + str(RiskFreeBondPrice))\n",
    "DefaultPV=RiskFreeBondPrice-BondValue\n",
    "print(\"Default PV=\" + str(DefaultPV))\n",
    "CDS_Premium_DFs=[1,*RiskFreeDiscountFactors[:-1]]\n",
    "print(\"DFs for premium payments=\")\n",
    "print(CDS_Premium_DFs)\n",
    "SemiPremPayments=DefaultPV/sum(CDS_Premium_DFs)\n",
    "print(\"Semi Annual CDS Premium Payment in Dollars=\" + str(SemiPremPayments))\n",
    "CDS_Spread_Annual=SemiPremPayments/100.*2.\n",
    "print(\"Annual CDS Premium Payment in Percentage={:.5}bps\".format(CDS_Spread_Annual*10000))\n",
    "Annual_Def_prob=CDS_Spread_Annual/(1-rec)\n",
    "print(\"Annual Default Rate or Constant hazard Rate={:.2%} per annum\".format(Annual_Def_prob))\n"
   ]
  },
  {
   "cell_type": "code",
   "execution_count": 61,
   "metadata": {},
   "outputs": [
    {
     "name": "stdout",
     "output_type": "stream",
     "text": [
      "CF_Extra_Payments=[0.75 0.75 0.75 0.75 0.75 0.75 0.75 0.75 0.75 0.75]\n",
      "6.553372421685887\n",
      "Annual Default Rate or Constant hazard Rate=2.50% per annum\n"
     ]
    }
   ],
   "source": [
    "#Calculating Default probabilities from Asset Swap Spreads\n",
    "Bond_Asset_Swap_Spread=150 #Basis points\n",
    "CF_Extra_Payments=np.full((mat*2),150/100/2.)\n",
    "print(\"CF_Extra_Payments={}\".format(CF_Extra_Payments))\n",
    "DefPV=sum(CF_Extra_Payments*RiskFreeDiscountFactors)\n",
    "print(DefPV)\n",
    "Annual_Def_prob=150/(1-rec)/10000\n",
    "print(\"Annual Default Rate or Constant hazard Rate={:.2%} per annum\".format(Annual_Def_prob))"
   ]
  },
  {
   "cell_type": "code",
   "execution_count": 79,
   "metadata": {},
   "outputs": [
    {
     "name": "stdout",
     "output_type": "stream",
     "text": [
      "10.20 bps\n"
     ]
    }
   ],
   "source": [
    "#Misc\n",
    "Hazard_Rate=0.17/100. #Annual Hazard Rate\n",
    "Recovery=40/100\n",
    "Expected_Annual_Spread=Hazard_Rate*(1-Recovery)\n",
    "print(\"{:.2f} bps\".format(Expected_Annual_Spread*10000))"
   ]
  },
  {
   "cell_type": "code",
   "execution_count": null,
   "metadata": {},
   "outputs": [],
   "source": [
    "#Misc Merton Formula\n",
    "E0=3000000\n",
    "SigmaE=80/100.\n",
    "DT=10000000\n",
    "RiskFreeRate=5/100.\n"
   ]
  },
  {
   "cell_type": "markdown",
   "metadata": {},
   "source": [
    "$E_0=e^{-r\\tau}[N(d_+)V_\\tau - N(d_-)D_\\tau]$  \n",
    "$E_0$ is Company Equity Value today.  \n",
    "$V_\\tau$ is Company Asset Value at $\\tau$.  \n",
    "$D_\\tau$ is Company Debt payments at $\\tau$.  \n",
    "$N(d_+)=\\frac{ln(\\frac{V_\\tau}{D_\\tau}) + (r-\\frac{\\sigma^2}{2})\\tau}{\\sigma\\sqrt{\\tau}}$  \n",
    "\n",
    "Alternatively  \n",
    "$E_0=[N(d_+)V_\\tau e^{-r\\tau} - N(d_-)D_\\tau e^{-r\\tau}]$  \n",
    "$E_0=[N(d_+)V_0 - N(d_-)D_\\tau e^{-r\\tau}]$   \n",
    "$N(d_+)=\\frac{ln(\\frac{V_0}{D_\\tau}) + (r-\\frac{\\sigma^2}{2})\\tau}{\\sigma\\sqrt{\\tau}}$  \n",
    "--\n",
    "$\\qquad$ Not sure why $D_\\tau$ does not carry the $e^{-r\\tau}$ along. Need to look.  \n",
    "\n",
    "And we have from *Ito's Lemma*  \n",
    "\n",
    "$E_0\\sigma_e=\\frac{\\delta E}{\\delta V}V_0\\sigma_v$  \n",
    "$E_0\\sigma_e=N(d_+)V_0\\sigma_v$  \n",
    "\n",
    "\n",
    "Black Scholes\n",
    "--\n",
    "\n",
    "$C_0=e^{-rt}[S_tN(d_+)-KN(d_-)]$  \n",
    "$d_+=\\frac{1}{\\sigma \\sqrt{t}} (ln(\\frac{S_t}{K})+\\frac{\\sigma^2}{2}t)$  \n",
    "$d_+=\\frac{1}{\\sigma \\sqrt{t}} (ln(\\frac{S}{K})+(r+\\frac{\\sigma^2}{2})t)$  \n",
    "$d_-=d_+ - \\sigma\\sqrt{t}$  \n",
    "Note that $S_t=e^{rt}S$  \n",
    "\n",
    "### Gausian Copula\n",
    "\n",
    "If $Q_i(\\tau_i)$ is the probability of default of a Bond $i$ by time $t_i$ in a portfolio.  \n",
    "$Q_i(\\tau_i)$ has the properties of Cumulative Probability Distribution for Random Variable $t_i$.  \n",
    "$x_i=N^{-1}(Q_i(\\tau))$ is a Standard Normal Variable $t_i$.  \n",
    "Now all $x_i$ are Standard Normal Variables, whose joint distribution $Z=[x_1,x_2...x_n]$ will also be Standard Normal.  \n",
    "\n",
    "For any joint distributions we need Correlations for them to be Correlated Standard Normal Variables. This is because we are trying get the effect of relationships between various parts of the portfolio or the credit risky assets in a portfolio.\n",
    "\n",
    "One way to simulate this is by feeding in pairwise correlations. Generate correlated random variables $x_1,x_2...x_n$. This will give you $N(x_i)=Q_i(t_i)$. Now that you have probability of default for $i$ you can get the expected time to default from the Bond/Credit $i$'s inherent properties(Say from Ratings tables of historical cumulative default rates.)\n",
    "\n",
    "## Using Implied Correlation(Common Correlation)\n",
    "\n",
    "$x_i=a_iF + \\sqrt{1-a_i^2}Z_i$  \n",
    "$\\qquad$Where  \n",
    "$\\qquad F$ is a common factor effecting all entities in a portfolio, call it a macro economic factor.  \n",
    "$\\qquad Z_i$ is the marginal or idiosyncratic effect.  \n",
    "$\\qquad a_i$ is a constant parameter and the correlation between $x_i$ and $x_j$ is $a_ia_j$. Thus $a_i$ can approximated as the entity $i$'s equity correlation with a well diversified market index.  \n",
    "\n",
    "A Bond will default in time $t_i$ if $N(x_i)<Q_i(t_i)$.  \n",
    "$x_i<N^{-1}(Q_i(t_i))$  \n",
    "$a_iF + \\sqrt{1-a_i^2}Z_i<N^{-1}(Q_i(t_i))$  \n",
    "$ Z_i<\\frac{N^{-1}(Q_i(t_i))-a_iF}{\\sqrt{1-a_i^2}}$  \n",
    "$ Q_i(\\tau|F)=N\\left(\\frac{N^{-1}(Q_i(t_i))-a_iF}{\\sqrt{1-a_i^2}}\\right)$  \n",
    "\n",
    "Usually in Gaussian Copula if the correlation between all assets is a common $\\rho$ then  \n",
    "$Q_i(\\tau|F)=N\\left(\\frac{N^{-1}(Q_i(t_i))-\\sqrt\\rho F}{\\sqrt{1-\\rho}}\\right)$  \n",
    "\n",
    "This is the percentage of defaults by time $\\tau$ as a function of $F$.  \n",
    "\n",
    "As $F$ is a standard normal variable.   \n",
    "We are X% certain that $F$'s value will be greater than $N^{-1}(1-X)= -N^{-1}(X)$.  \n",
    "When we make sure of the above we would be X% certain that percentage of defaults would be less than $Q_i(\\tau|F)$.  \n",
    "So if we do $F=-N^{-1}(X)$  \n",
    "\n",
    "$V(X,T)=N\\left(\\frac{N^{-1}(Q_i(t_i))+\\sqrt\\rho N^{-1}(X)}{\\sqrt{1-\\rho}}\\right)$  \n",
    "\n",
    "\n",
    "$N^{-1}(F)$ can be viewed as a confidence level like in VAR with which you want your percentage of defaults to be evaluated thus to calculate a 99% VAR for a credit portfolio we use the below to calculate percentage of defaults.\n",
    "\n",
    "$V(X,T)=N\\left(\\frac{N^{-1}(Q_i(t_i))+\\sqrt\\rho N^{-1}(X)}{\\sqrt{1-\\rho}}\\right)$  \n",
    "\n",
    "Example:\n",
    "\n",
    "Average probability if defaults for 1 year = 2%.  \n",
    "Common(Implied) Correlations of all the assets is 0.1.  \n",
    "Bank portfolio is worth 100$.  \n",
    "Average recovery is 60%.  \n",
    "What is the expected losses for year 1.  \n",
    "\n",
    "$V(99\\%,1yr)=N\\left(\\frac{N^{-1}(0.02)+\\sqrt{0.1} N^{-1}(0.99)}{\\sqrt{1-0.1}}\\right)$  \n"
   ]
  },
  {
   "cell_type": "code",
   "execution_count": 97,
   "metadata": {},
   "outputs": [
    {
     "name": "stdout",
     "output_type": "stream",
     "text": [
      "0.5\n",
      "0.0\n",
      "Percentage of defaults =0.082357\n",
      "99% confidence expected loss on the portfolio is 3,294,271 dollars\n"
     ]
    }
   ],
   "source": [
    "import numpy as np\n",
    "from scipy.stats import norm\n",
    "Q=0.02\n",
    "Rho=0.1\n",
    "Confidence=0.99\n",
    "Portfolio=100000000\n",
    "Recovery=60/100.\n",
    "print(norm.cdf(0))\n",
    "print(norm.ppf(0.5))\n",
    "\n",
    "DefaultPercentage=norm.cdf((norm.ppf(Q) + Rho**0.5*norm.ppf(Confidence))/(1-Rho)**0.5)\n",
    "print(\"Percentage of defaults ={:4f}\".format(DefaultPercentage))\n",
    "\n",
    "LossGivenDefault=Portfolio*(1-Recovery)\n",
    "ExpectedLoss=LossGivenDefault*DefaultPercentage\n",
    "print(\"99% confidence expected loss on the portfolio is {:,.0f} dollars\".format(ExpectedLoss))"
   ]
  },
  {
   "cell_type": "markdown",
   "metadata": {},
   "source": [
    "For a kth to Default or for a tranche.\n",
    "--\n",
    "\n",
    "Given that  \n",
    "#### $Q(t|F)=N\\left(\\frac{N^{-1}(Q(t))-\\sqrt\\rho F}{\\sqrt{1-\\rho}}\\right)$  \n",
    "\n",
    "By binomial distribution probability of k defaults can be derived as below:-  \n",
    "#### $P(k ,t|F)=\\frac{n!}{k!(n-k)!}Q(t|F)^k\\left[1-Q(t|F)^{n-k}\\right]$  \n",
    "\n",
    "For tranches with attachement $\\alpha_a$ and detachment $\\alpha_d$ points you can derive the $k_a$ to $k_d$ defaults that would be affecting the tranche payouts on default as below:-\n",
    "\n",
    "if $m(x)$ is the smallest integer greater than x then\n",
    "\n",
    "#### $k_a=m\\left(\\frac{n*\\alpha_a}{1-R}\\right)$ and $k_d=m\\left(\\frac{n*\\alpha_d}{1-R}\\right)$\n",
    "\n",
    "if $k_a\\leq k \\leq k_d$ then tranche notional would be(Original tranche notional being \\$1)\n",
    "\n",
    "## $\\qquad\\frac{\\alpha_d- \\frac{k(1-R)}{n}}{\\alpha_d-\\alpha_a}$\n",
    "\n",
    "\n",
    "\n",
    "### This is very theoretical, remember that in case of default loss is taken by the lowest tranche and the recovered amount is paid back to the Super Senior tranches.\n",
    "\n",
    "#### In reality if recovery is 40$\\%$ then a tranche 60-100 should never take losses.  \n",
    "\n",
    "#### Tranche Implied correlations have smile. Thus we use base correlation which is more of skew and manageable. Any non standard tranche is not evaluated by interpolating the base correlation, but rather by interpolating the Expected Loss on the standard points of Base tranches $0-i\\%$, $0-j\\%$ and $0-k\\%$ tranches to evaluate Expected Losses on  $0-x\\%$ and $0-y\\%$. This gives no arbitrage results on Expected Losses. As Expected Losses are more or less linear as we go up the capital structure, but Base Correlations are not linear as we go up the capital structure. Infact the are very convex.\n",
    "\n",
    "\n",
    "\n"
   ]
  }
 ],
 "metadata": {
  "kernelspec": {
   "display_name": "Python 3",
   "language": "python",
   "name": "python3"
  },
  "language_info": {
   "codemirror_mode": {
    "name": "ipython",
    "version": 3
   },
   "file_extension": ".py",
   "mimetype": "text/x-python",
   "name": "python",
   "nbconvert_exporter": "python",
   "pygments_lexer": "ipython3",
   "version": "3.6.1"
  }
 },
 "nbformat": 4,
 "nbformat_minor": 2
}
