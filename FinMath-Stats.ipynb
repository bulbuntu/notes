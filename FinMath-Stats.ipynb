{
 "cells": [
  {
   "cell_type": "markdown",
   "metadata": {},
   "source": [
    "$M_X(t) = E[e^{tX}].$  \n",
    "  \n",
    "k-th moment of $X$, $m_k = E[X^k] =\\frac{d^k M_X}{dx^k} (0)$  \n",
    "  \n",
    "$M_X(t) = E[e^{tX}]$  \n",
    "$\\qquad=E[e^{t*0}+ \\frac{t}{1!}.e^{t*0}.X + \\frac{t^2}{2!}.e^{t*0}.X^2....]$  \n",
    "$\\qquad=E[1 + \\frac{t}{1!}.X + \\frac{t^2}{2!}.X^2 + ....]$  \n",
    "$\\qquad=E[\\sum_{k=0}^{k=\\infty } \\frac{t^k}{k!}.X^k]$  \n",
    "$\\qquad=\\sum_{k=0}^{k=\\infty } E[\\frac{t^k}{k!}.X^k]$  \n",
    "$\\qquad=\\sum_{k=0}^{k=\\infty } E[\\frac{t^k}{k!}.X^k]$  \n",
    "$\\qquad=\\sum_{k=0}^{k=\\infty } \\frac{t^k}{k!}.E[X^k]$  \n",
    "$\\qquad=\\sum_{k=0}^{k=\\infty } \\frac{t^k}{k!}.m_k$  \n",
    "\n",
    "Law of Large Numbers :: $\\operatorname{Dist}(X=\\frac{1}{n}\\sum_{i=1}^n{X_i})-> N(\\mu ,\\frac{\\sigma^2}{n})$ for large $n$  and $X_i \\epsilon N(\\mu ,\\sigma^2)$  \n",
    "Central Limit Theorem :: $\\operatorname{Dist}(X=\\sqrt{n}\\left(\\frac{1}{n}\\sum_{i=1}^n{X_i} - \\mu\\right))-> N(0 ,\\sigma^2)$ for large $n$  and $X_i \\epsilon N(\\mu ,\\sigma^2)$  \n"
   ]
  },
  {
   "cell_type": "markdown",
   "metadata": {},
   "source": [
    "Normal Distribution\n",
    "\n",
    "$\\operatorname {PDF} = \\frac{1}{\\sqrt{2\\pi\\sigma^2}} e^{-\\frac{(x-\\mu)^2}{2\\sigma^2} }$"
   ]
  },
  {
   "cell_type": "markdown",
   "metadata": {},
   "source": [
    "Derived random variable Y=g(X)\n",
    "\n",
    "Density function of a derived(dependent) random variable would be(Given that g is an invertible function and therefore monotonously increasing or decreasing function):  \n",
    "\n",
    "$h(y)=\\frac{f(g^{-1}(y))}{g'(g^{-1}(y))}\\qquad$  if g(X) is continuosly increasing function.  \n",
    "$h(y)=-\\frac{f(g^{-1}(y))}{g'(g^{-1}(y))}\\qquad$  if g(X) is continuosly decreasing function.\n",
    "\n",
    "\n",
    "Thus given Standard Normal Random Variable Z:  \n",
    "$f(x)=\\frac{1}{\\sqrt{2\\pi}}e^{-\\frac{x^2}{2}}$  \n",
    "We can derive Normal Random Variable $X=\\mu + \\sigma Z$:  \n",
    "$f(x)=\\frac{1}{\\sigma\\sqrt{2\\pi}}e^{-\\frac{(x-\\mu)^2}{2\\sigma^2}}$  \n",
    "$\\qquad\\qquad Z=g^{-1}(X)=\\frac{X-\\mu}{\\sigma}$  \n",
    "$\\qquad\\qquad g'(Z)=\\sigma$  \n",
    "**Log Normal**  \n",
    "If Y is a log normal variable then.\n",
    "We can derive Log Normal Random Variable $log(Y)=X$:  \n",
    "$Y=g(X)=e^X$is a invertible and continously increasing function.  \n",
    "$g^{-1}(Y)=log(Y)$  \n",
    "$g'(X)=e^X$  \n",
    "$g'(g^{-1}(y))=g'(log(y))=e^{log(y)}=y$  \n",
    "$h(x)=\\frac{f(g^{-1}(y))}{g'(g^{-1}(y))} = \\frac{1}{y\\sqrt{2\\pi}}e^{-\\frac{(ln(y)-\\mu)^2}{2\\sigma^2}}$  \n",
    "\n",
    "$E[Y]=E[e^X]=E[e^{\\mu+\\sigma z}]$  \n",
    "$\\qquad=\\frac{1}{\\sqrt{2\\pi}}\\int_{-\\infty}^{\\infty}e^{\\mu+\\sigma x}e^{-\\frac{x^2}{2}}dx$  \n",
    "$\\qquad=\\frac{1}{\\sqrt{2\\pi}}\\int_{-\\infty}^{\\infty}e^{(2\\mu+2\\sigma x-x^2)/2}dx$  \n",
    "$\\qquad\\qquad(2\\mu+2\\sigma x-x^2)/2= (2\\mu+\\sigma^2 -(x-\\sigma)^2)/2$  \n",
    "$\\qquad=\\frac{1}{\\sqrt{2\\pi}}\\int_{-\\infty}^{\\infty}e^{\\frac{2\\mu+\\sigma^2}{2}}e^{-\\frac{(x-\\sigma)^2}{2}}dx$  \n",
    "$\\qquad=\\frac{1}{\\sqrt{2\\pi}}\\int_{-\\infty}^{\\infty}e^{\\mu+\\frac{\\sigma^2}{2}}e^{-\\frac{(x-\\sigma)^2}{2}}dx$  \n",
    "$\\qquad=e^{\\mu+\\frac{\\sigma^2}{2}}\\frac{1}{\\sqrt{2\\pi}}\\int_{-\\infty-\\sigma}^{\\infty-\\sigma}e^{-\\frac{t^2}{2}}d(t+\\sigma)$  \n",
    "$\\qquad=e^{\\mu+\\frac{\\sigma^2}{2}}\\frac{1}{\\sqrt{2\\pi}}\\int_{-\\infty}^{\\infty}e^{-\\frac{t^2}{2}}dt$  \n",
    "$\\qquad=e^{\\mu+\\frac{\\sigma^2}{2}}*1$ \n",
    "\n",
    "<div style=\"border:dotted;text-align:center\"> $E[Y]=e^{\\mu+\\frac{\\sigma^2}{2}}$</div>  \n",
    "**var(Y)**  \n",
    "$var(Y)=E[Y^2]-E[Y]^2$  \n",
    "$E[Y^2]=E[e^{2X}]=E[e^{2\\mu+2\\sigma Z}]$  \n",
    "$\\qquad=\\frac{1}{\\sqrt{2\\pi}}\\int_{-\\infty}^{\\infty}e^{2\\mu+2\\sigma x}e^{-\\frac{x^2}{2}}dx$  \n",
    "$\\qquad=\\frac{1}{\\sqrt{2\\pi}}\\int_{-\\infty}^{\\infty}e^{2\\mu+2\\sigma^2}e^{-\\frac{(x-2\\sigma)^2}{2}}dx$  \n",
    "$\\qquad=e^{2\\mu+2\\sigma^2}\\frac{1}{\\sqrt{2\\pi}}\\int_{-\\infty}^{\\infty}e^{-\\frac{(x-2\\sigma)^2}{2}}dx$  \n",
    "$\\qquad=e^{2\\mu+2\\sigma^2}\\frac{1}{\\sqrt{2\\pi}}\\int_{-\\infty}^{\\infty}e^{-\\frac{t^2}{2}}dt$  \n",
    "$\\qquad=e^{2\\mu+2\\sigma^2}$  \n",
    "$var(Y)=E[Y^2]-E[Y]^2$  \n",
    "$\\qquad=e^{2\\mu+2\\sigma^2}+e^{(\\mu+\\frac{\\sigma^2}{2})*2}$  \n",
    "$\\qquad =e^{2\\mu+2\\sigma^2}+e^{2\\mu+\\sigma^2}$  \n",
    "$\\qquad =e^{2\\mu+\\sigma^2}(e^{\\sigma^2}+1)$  \n",
    "<div style=\"border:dotted;text-align:center\"> $var(Y)=e^{2\\mu+\\sigma^2}(e^{\\sigma^2}+1)$</div>  \n",
    "\n"
   ]
  },
  {
   "cell_type": "markdown",
   "metadata": {},
   "source": [
    "Proof of derive Random Variable density function.\n",
    "\n",
    "$Y=g(X)$  \n",
    "$h(y)|_a^b=P(a\\leq Y\\leq b)=P(g^{-1}(a)\\leq X \\leq g^{-1}(b))$  \n",
    "$\\quad=\\int_{g^{-1}(a)}^{g^{-1}(b)}f(x)dx\\qquad$ Substitute $x=g^{-1}(y)$  \n",
    "$\\qquad\\qquad$Given $g(x)=y$  \n",
    "$\\qquad\\qquad g'(x)dx=dy$  \n",
    "$\\qquad\\qquad g'(x)dx=dy$  \n",
    "$\\qquad\\qquad dx=\\frac{dy}{g'(x)}$  \n",
    "$\\qquad\\qquad dx=\\frac{dy}{g'(g^-1{y})}$  \n",
    "$\\quad=\\int_a^b\\frac{f(g^{-1}(y))}{g'(g^-1{y})}dy$  \n",
    "<div style=\"border:dotted;text-align:center\">$h(y)=\\frac{f(g^{-1}(y))}{g'(g^-1{y})}$</div>  \n"
   ]
  }
 ],
 "metadata": {
  "kernelspec": {
   "display_name": "Python 3",
   "language": "python",
   "name": "python3"
  },
  "language_info": {
   "codemirror_mode": {
    "name": "ipython",
    "version": 3
   },
   "file_extension": ".py",
   "mimetype": "text/x-python",
   "name": "python",
   "nbconvert_exporter": "python",
   "pygments_lexer": "ipython3",
   "version": "3.6.1"
  }
 },
 "nbformat": 4,
 "nbformat_minor": 2
}
