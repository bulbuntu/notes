{
 "cells": [
  {
   "cell_type": "markdown",
   "metadata": {},
   "source": [
    "$M_X(t) = E[e^{tX}].$  \n",
    "  \n",
    "k-th moment of $X$, $m_k = E[X^k] =\\frac{d^k M_X}{dx^k} (0)$  \n",
    "  \n",
    "$M_X(t) = E[e^{tX}]$  \n",
    "$\\qquad=E[e^{t*0}+ \\frac{t}{1!}.e^{t*0}.X + \\frac{t^2}{2!}.e^{t*0}.X^2....]$  \n",
    "$\\qquad=E[1 + \\frac{t}{1!}.X + \\frac{t^2}{2!}.X^2 + ....]$  \n",
    "$\\qquad=E[\\sum_{k=0}^{k=\\infty } \\frac{t^k}{k!}.X^k]$  \n",
    "$\\qquad=\\sum_{k=0}^{k=\\infty } E[\\frac{t^k}{k!}.X^k]$  \n",
    "$\\qquad=\\sum_{k=0}^{k=\\infty } E[\\frac{t^k}{k!}.X^k]$  \n",
    "$\\qquad=\\sum_{k=0}^{k=\\infty } \\frac{t^k}{k!}.E[X^k]$  \n",
    "$\\qquad=\\sum_{k=0}^{k=\\infty } \\frac{t^k}{k!}.m_k$  \n",
    "\n",
    "Law of Large Numbers :: $\\operatorname{Dist}(X=\\frac{1}{n}\\sum_{i=1}^n{X_i})-> N(\\mu ,\\frac{\\sigma^2}{n})$ for large $n$  and $X_i \\epsilon N(\\mu ,\\sigma^2)$  \n",
    "Central Limit Theorem :: $\\operatorname{Dist}(X=\\sqrt{n}\\left(\\frac{1}{n}\\sum_{i=1}^n{X_i} - \\mu\\right))-> N(0 ,\\sigma^2)$ for large $n$  and $X_i \\epsilon N(\\mu ,\\sigma^2)$  \n"
   ]
  },
  {
   "cell_type": "markdown",
   "metadata": {},
   "source": [
    "Normal Distribution\n",
    "\n",
    "$\\operatorname {PDF} = \\frac{1}{\\sqrt{2\\pi\\sigma^2}} e^{-\\frac{(x-\\mu)^2}{2\\sigma^2} }$"
   ]
  },
  {
   "cell_type": "code",
   "execution_count": null,
   "metadata": {},
   "outputs": [],
   "source": []
  }
 ],
 "metadata": {
  "kernelspec": {
   "display_name": "Python 3",
   "language": "python",
   "name": "python3"
  },
  "language_info": {
   "codemirror_mode": {
    "name": "ipython",
    "version": 3
   },
   "file_extension": ".py",
   "mimetype": "text/x-python",
   "name": "python",
   "nbconvert_exporter": "python",
   "pygments_lexer": "ipython3",
   "version": "3.6.1"
  }
 },
 "nbformat": 4,
 "nbformat_minor": 2
}
